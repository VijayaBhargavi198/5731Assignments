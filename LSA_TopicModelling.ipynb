{
  "nbformat": 4,
  "nbformat_minor": 0,
  "metadata": {
    "colab": {
      "name": "LSA_TopicModelling.ipynb",
      "provenance": [],
      "authorship_tag": "ABX9TyN5T+Gg1GrbpK9oI2Vgls05",
      "include_colab_link": true
    },
    "kernelspec": {
      "name": "python3",
      "display_name": "Python 3"
    }
  },
  "cells": [
    {
      "cell_type": "markdown",
      "metadata": {
        "id": "view-in-github",
        "colab_type": "text"
      },
      "source": [
        "<a href=\"https://colab.research.google.com/github/VijayaBhargavi198/5731Assignments/blob/master/LSA_TopicModelling.ipynb\" target=\"_parent\"><img src=\"https://colab.research.google.com/assets/colab-badge.svg\" alt=\"Open In Colab\"/></a>"
      ]
    },
    {
      "cell_type": "code",
      "metadata": {
        "id": "MV11n4yxTG8o"
      },
      "source": [
        "!pip install spacy-langdetect\n",
        "!pip install language-detector\n",
        "!pip install symspellpy\n",
        "!pip install sentence-transformers\n",
        "!pip install pysbd\n",
        "!pip install pyLDAvis"
      ],
      "execution_count": null,
      "outputs": []
    },
    {
      "cell_type": "code",
      "metadata": {
        "id": "h1dV03SQVMY0"
      },
      "source": [
        "import re\n",
        "import numpy as np\n",
        "import pandas as pd\n",
        "from pprint import pprint\n",
        "# Gensim imports\n",
        "import os.path\n",
        "from gensim import corpora\n",
        "from gensim.models import LsiModel\n",
        "from gensim.models.coherencemodel import CoherenceModel\n",
        "import matplotlib.pyplot as plt\n",
        "%matplotlib inline\n",
        "import logging\n",
        "logging.basicConfig(format='%(asctime)s : %(levelname)s : %(message)s', level=logging.ERROR)\n",
        "import warnings\n",
        "warnings.filterwarnings(\"ignore\",category=DeprecationWarning)\n",
        "import pandas as pd\n",
        "input_df=pd.read_csv(\"/content/sample_data/guardian_headlines.csv\")\n"
      ],
      "execution_count": null,
      "outputs": []
    },
    {
      "cell_type": "code",
      "metadata": {
        "id": "UdedkA_uVMVd",
        "outputId": "a390e50b-ea59-4867-a3cd-073e366599ea",
        "colab": {
          "base_uri": "https://localhost:8080/"
        }
      },
      "source": [
        "#PREPROCESSING\n",
        "#changing the whole list into smallercase\n",
        "input_df[\"Headlines\"] = input_df[\"Headlines\"].str.lower()\n",
        "#converting the dataframe to list\n",
        "data = input_df[\"Headlines\"].values.tolist()\n",
        "#Remove new line character\n",
        "data = [re.sub(' $','',sent) for sent in data]\n",
        "# Remove Emails\n",
        "data = [re.sub('\\S*@\\S*\\s?', '', sent) for sent in data]\n",
        "#Remove single quotes\n",
        "data = [re.sub('\\s+',' ',sent) for sent in data]\n",
        "#Remove colons\n",
        "data = [re.sub(':','',sent) for sent in data]\n",
        "#Remove hipens fron hipenated words\n",
        "data = [re.sub('-','',sent) for sent in data]\n",
        "print(data[:2])"
      ],
      "execution_count": null,
      "outputs": [
        {
          "output_type": "stream",
          "text": [
            "['johnson is asking santa for a christmas recovery', '‘i now fear the worst’ four grim tales of working life upended by covid19']\n"
          ],
          "name": "stdout"
        }
      ]
    },
    {
      "cell_type": "code",
      "metadata": {
        "id": "VVHAswrnVMRb",
        "outputId": "457efc59-45ec-4345-f9fe-07a3daf60159",
        "colab": {
          "base_uri": "https://localhost:8080/"
        }
      },
      "source": [
        "import nltk; \n",
        "nltk.download('punkt')\n",
        "nltk.download('stopwords')\n",
        "from nltk.tokenize import word_tokenize \n",
        "from nltk.stem import PorterStemmer\n",
        "from nltk.corpus import stopwords\n",
        "stemmer=PorterStemmer()\n",
        "# list for tokenized documents in loop\n",
        "texts = []\n",
        "\n",
        "# loop through document list\n",
        "for i in data:\n",
        "    \n",
        "    # tokenize document string\n",
        "    tokens = word_tokenize(i)\n",
        "\n",
        "    # remove stop words from tokens\n",
        "    stop_words = set(stopwords.words('english')) \n",
        "    stopped_tokens = [i for i in tokens if not i in stop_words]\n",
        "    \n",
        "    # stem tokens\n",
        "    stemmed_tokens = [stemmer.stem(i) for i in stopped_tokens]\n",
        "    \n",
        "    # add tokens to list\n",
        "    texts.append(stemmed_tokens)\n",
        "texts[:2]"
      ],
      "execution_count": null,
      "outputs": [
        {
          "output_type": "stream",
          "text": [
            "[nltk_data] Downloading package punkt to /root/nltk_data...\n",
            "[nltk_data]   Unzipping tokenizers/punkt.zip.\n",
            "[nltk_data] Downloading package stopwords to /root/nltk_data...\n",
            "[nltk_data]   Unzipping corpora/stopwords.zip.\n"
          ],
          "name": "stdout"
        },
        {
          "output_type": "execute_result",
          "data": {
            "text/plain": [
              "[['johnson', 'ask', 'santa', 'christma', 'recoveri'],\n",
              " ['‘',\n",
              "  'fear',\n",
              "  'worst',\n",
              "  '’',\n",
              "  'four',\n",
              "  'grim',\n",
              "  'tale',\n",
              "  'work',\n",
              "  'life',\n",
              "  'upend',\n",
              "  'covid19']]"
            ]
          },
          "metadata": {
            "tags": []
          },
          "execution_count": 6
        }
      ]
    },
    {
      "cell_type": "code",
      "metadata": {
        "id": "vADAQm5kTASA"
      },
      "source": [
        "def prepare_corpus(doc_clean):\n",
        "    \"\"\"\n",
        "    Input  : clean document\n",
        "    Purpose: create term dictionary of our courpus and Converting list of documents (corpus) into Document Term Matrix\n",
        "    Output : term dictionary and Document Term Matrix\n",
        "    \"\"\"\n",
        "    # Creating the term dictionary of our courpus, where every unique term is assigned an index. dictionary = corpora.Dictionary(doc_clean)\n",
        "    dictionary = corpora.Dictionary(doc_clean)\n",
        "    # Converting list of documents (corpus) into Document Term Matrix using dictionary prepared above.\n",
        "    doc_term_matrix = [dictionary.doc2bow(doc) for doc in doc_clean]\n",
        "    # generate LDA model\n",
        "    return dictionary,doc_term_matrix"
      ],
      "execution_count": null,
      "outputs": []
    },
    {
      "cell_type": "code",
      "metadata": {
        "id": "wvCsbKywTPYH"
      },
      "source": [
        "def create_gensim_lsa_model(doc_clean,number_of_topics,words):\n",
        "    \"\"\"\n",
        "    Input  : clean document, number of topics and number of words associated with each topic\n",
        "    Purpose: create LSA model using gensim\n",
        "    Output : return LSA model\n",
        "    \"\"\"\n",
        "    dictionary,doc_term_matrix=prepare_corpus(doc_clean)\n",
        "    # generate LSA model\n",
        "    lsamodel = LsiModel(doc_term_matrix, num_topics=number_of_topics, id2word = dictionary)  # train model\n",
        "    print(lsamodel.print_topics(num_topics=number_of_topics, num_words=words))\n",
        "    return lsamodel"
      ],
      "execution_count": null,
      "outputs": []
    },
    {
      "cell_type": "code",
      "metadata": {
        "id": "I_CJenWVTQd9"
      },
      "source": [
        "def compute_coherence_values(dictionary, doc_term_matrix, doc_clean, stop, start=2, step=3):\n",
        "    \"\"\"\n",
        "    Input   : dictionary : Gensim dictionary\n",
        "              corpus : Gensim corpus\n",
        "              texts : List of input texts\n",
        "              stop : Max num of topics\n",
        "    purpose : Compute c_v coherence for various number of topics\n",
        "    Output  : model_list : List of LSA topic models\n",
        "              coherence_values : Coherence values corresponding to the LDA model with respective number of topics\n",
        "    \"\"\"\n",
        "    coherence_values = []\n",
        "    model_list = []\n",
        "    for num_topics in range(start, stop, step):\n",
        "        # generate LSA model\n",
        "        model = LsiModel(doc_term_matrix, num_topics=number_of_topics, id2word = dictionary)  # train model\n",
        "        model_list.append(model)\n",
        "        coherencemodel = CoherenceModel(model=model, texts=doc_clean, dictionary=dictionary, coherence='c_v')\n",
        "        coherence_values.append(coherencemodel.get_coherence())\n",
        "    return model_list, coherence_values"
      ],
      "execution_count": null,
      "outputs": []
    },
    {
      "cell_type": "code",
      "metadata": {
        "id": "qFO21lNTTftW"
      },
      "source": [
        "def plot_graph(doc_clean,start, stop, step):\n",
        "    dictionary,doc_term_matrix=prepare_corpus(doc_clean)\n",
        "    model_list, coherence_values = compute_coherence_values(dictionary, doc_term_matrix,doc_clean,\n",
        "                                                            stop, start, step)\n",
        "    # Show graph\n",
        "    x = range(start, stop, step)\n",
        "    plt.plot(x, coherence_values)\n",
        "    plt.xlabel(\"Number of Topics\")\n",
        "    plt.ylabel(\"Coherence score\")\n",
        "    plt.legend((\"coherence_values\"), loc='best')\n",
        "    plt.show()"
      ],
      "execution_count": null,
      "outputs": []
    },
    {
      "cell_type": "code",
      "metadata": {
        "id": "0GuWpJFQTnOY",
        "outputId": "3761daa0-b4ac-44c8-926d-ade779c61c17",
        "colab": {
          "base_uri": "https://localhost:8080/"
        }
      },
      "source": [
        "number_of_topics=20\n",
        "words=10\n",
        "model=create_gensim_lsa_model(texts,number_of_topics,words)"
      ],
      "execution_count": 21,
      "outputs": [
        {
          "output_type": "stream",
          "text": [
            "[(0, '-0.456*\",\" + -0.413*\"uk\" + -0.299*\"busi\" + -0.296*\"\\'s\" + -0.242*\"\\'\" + -0.225*\"live\" + -0.196*\"brexit\" + -0.190*\"’\" + -0.170*\"say\" + -0.156*\"–\"'), (1, '0.522*\"busi\" + -0.503*\",\" + 0.435*\"live\" + 0.291*\"happen\" + -0.192*\"say\" + -0.170*\"\\'s\" + -0.159*\"’\" + 0.147*\"–\" + -0.095*\"\\'\" + 0.083*\"hit\"'), (2, '-0.666*\"\\'s\" + 0.471*\",\" + 0.305*\"’\" + -0.258*\"\\'\" + -0.257*\"uk\" + 0.179*\"busi\" + 0.134*\"say\" + 0.121*\"live\" + 0.083*\"happen\" + 0.077*\"‘\"'), (3, '-0.701*\"’\" + 0.451*\"uk\" + -0.317*\"\\'s\" + 0.249*\",\" + -0.182*\"‘\" + -0.147*\"?\" + 0.132*\"say\" + -0.121*\"–\" + -0.081*\"busi\" + -0.062*\".\"'), (4, '0.660*\"uk\" + 0.452*\"’\" + -0.299*\",\" + -0.267*\"\\'s\" + -0.225*\"\\'\" + -0.169*\"busi\" + -0.150*\"live\" + 0.134*\"brexit\" + 0.124*\"‘\" + -0.102*\"happen\"'), (5, '0.874*\"\\'\" + -0.393*\"\\'s\" + -0.165*\",\" + 0.105*\"’\" + -0.068*\"financ\" + -0.066*\"nil\" + -0.066*\"pratley\" + -0.049*\"uk\" + -0.048*\"?\" + -0.046*\"busi\"'), (6, '-0.802*\"brexit\" + -0.360*\"?\" + 0.202*\"uk\" + -0.161*\"nodeal\" + 0.146*\"’\" + -0.135*\"guardian\" + -0.104*\"watch\" + -0.098*\"economi\" + 0.093*\"\\'s\" + 0.073*\",\"'), (7, '0.573*\"?\" + 0.371*\"financ\" + 0.343*\"nil\" + 0.343*\"pratley\" + -0.335*\"brexit\" + -0.258*\"\\'s\" + 0.128*\"–\" + 0.121*\"us\" + -0.112*\"’\" + -0.077*\"say\"'), (8, '0.591*\"?\" + -0.445*\"financ\" + -0.412*\"nil\" + -0.412*\"pratley\" + -0.165*\"brexit\" + 0.129*\"us\" + -0.084*\"’\" + 0.073*\"–\" + 0.055*\"project\" + 0.054*\"coronaviru\"'), (9, '0.890*\"–\" + -0.276*\"busi\" + -0.226*\"?\" + 0.069*\"guardian\" + 0.063*\"say\" + 0.063*\"report\" + -0.060*\"\\'s\" + 0.059*\"cartoon\" + 0.054*\"coronaviru\" + -0.054*\"leader\"'), (10, '0.672*\"us\" + 0.293*\"trade\" + 0.248*\"trump\" + -0.208*\"busi\" + -0.195*\"–\" + 0.177*\"china\" + -0.175*\"?\" + 0.156*\"war\" + 0.155*\"job\" + 0.120*\"market\"'), (11, '0.662*\"bank\" + 0.275*\"england\" + -0.198*\"us\" + 0.191*\"cut\" + 0.190*\"new\" + 0.171*\"rate\" + 0.160*\"firm\" + 0.137*\"warn\" + 0.133*\"coronaviru\" + -0.130*\"trade\"'), (12, '-0.748*\"say\" + 0.316*\"job\" + 0.247*\",\" + -0.213*\"trump\" + -0.172*\"trade\" + 0.167*\"us\" + 0.149*\"warn\" + 0.112*\"cut\" + -0.090*\"bank\" + 0.088*\"new\"'), (13, '-0.477*\"bank\" + 0.425*\"firm\" + 0.274*\"coronaviru\" + 0.270*\"say\" + 0.225*\"job\" + 0.195*\"plan\" + -0.183*\"england\" + -0.166*\"trade\" + -0.164*\"trump\" + 0.139*\"cut\"'), (14, '-0.731*\"new\" + 0.340*\"us\" + -0.233*\"trump\" + -0.212*\"trade\" + 0.169*\"bank\" + 0.151*\"say\" + -0.146*\"deal\" + -0.118*\"war\" + 0.118*\"job\" + 0.114*\"coronaviru\"'), (15, '-0.380*\"coronaviru\" + 0.346*\"busi\" + 0.257*\"us\" + -0.249*\"market\" + 0.246*\"firm\" + -0.213*\"hit\" + -0.203*\"live\" + -0.195*\"happen\" + -0.172*\"fall\" + 0.169*\"plan\"'), (16, '0.425*\"coronaviru\" + 0.398*\"firm\" + -0.275*\"say\" + -0.255*\"job\" + -0.186*\"price\" + -0.179*\"cut\" + 0.174*\"crisi\" + -0.167*\"new\" + 0.149*\"warn\" + -0.148*\"rise\"'), (17, '-0.456*\"new\" + -0.373*\"us\" + 0.340*\"job\" + 0.322*\"trump\" + 0.316*\"cut\" + 0.257*\"trade\" + -0.197*\"coronaviru\" + 0.169*\"plan\" + 0.129*\"war\" + -0.106*\"say\"'), (18, '-0.406*\"job\" + 0.390*\"firm\" + 0.297*\"price\" + -0.293*\"coronaviru\" + -0.207*\"new\" + 0.198*\"pay\" + 0.195*\"rise\" + -0.191*\"say\" + 0.183*\"year\" + 0.175*\"fall\"'), (19, '0.447*\"firm\" + -0.368*\"busi\" + 0.322*\"live\" + 0.288*\"happen\" + -0.231*\"coronaviru\" + -0.172*\"price\" + -0.165*\"year\" + -0.154*\"leader\" + -0.146*\"observ\" + -0.140*\"economi\"')]\n"
          ],
          "name": "stdout"
        }
      ]
    },
    {
      "cell_type": "code",
      "metadata": {
        "id": "19nBG3KGT_Ri",
        "outputId": "8f3d4dc2-5579-4c3c-817b-2e0db0f6c950",
        "colab": {
          "base_uri": "https://localhost:8080/",
          "height": 279
        }
      },
      "source": [
        "start,stop,step=2,12,1\n",
        "plot_graph(texts,start,stop,step)"
      ],
      "execution_count": 22,
      "outputs": [
        {
          "output_type": "display_data",
          "data": {
            "image/png": "[encoded data removed]",
            "text/plain": [
              "<Figure size 432x288 with 1 Axes>"
            ]
          },
          "metadata": {
            "tags": [],
            "needs_background": "light"
          }
        }
      ]
    },
    {
      "cell_type": "code",
      "metadata": {
        "id": "nJn9m6lAT--d"
      },
      "source": [
        " "
      ],
      "execution_count": null,
      "outputs": []
    }
  ]
}