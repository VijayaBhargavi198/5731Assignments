{
  "nbformat": 4,
  "nbformat_minor": 0,
  "metadata": {
    "colab": {
      "name": "In_class_exercise_06.ipynb",
      "provenance": [],
      "collapsed_sections": [],
      "include_colab_link": true
    },
    "kernelspec": {
      "display_name": "Python 3",
      "language": "python",
      "name": "python3"
    },
    "language_info": {
      "codemirror_mode": {
        "name": "ipython",
        "version": 3
      },
      "file_extension": ".py",
      "mimetype": "text/x-python",
      "name": "python",
      "nbconvert_exporter": "python",
      "pygments_lexer": "ipython3",
      "version": "3.7.4"
    }
  },
  "cells": [
    {
      "cell_type": "markdown",
      "metadata": {
        "id": "view-in-github",
        "colab_type": "text"
      },
      "source": [
        "<a href=\"https://colab.research.google.com/github/VijayaBhargavi198/5731Assignments/blob/master/In_class_exercise_06.ipynb\" target=\"_parent\"><img src=\"https://colab.research.google.com/assets/colab-badge.svg\" alt=\"Open In Colab\"/></a>"
      ]
    },
    {
      "cell_type": "markdown",
      "metadata": {
        "id": "z7TahL04sVvR"
      },
      "source": [
        "# **The sixth in-class-exercise (20 points in total, 10/14/2020)**"
      ]
    },
    {
      "cell_type": "markdown",
      "metadata": {
        "id": "ejyZITr8sjnh"
      },
      "source": [
        "## **1. Rule-based information extraction (10 points)**\n",
        "\n",
        "Use any keywords related to data science, natural language processing, machine learning to search from google scholar, get the **titles** of 100 articles (either by web scraping or manually) about this topic, define a set of patterns to extract the research questions/problems, methods/algorithms/models, datasets, applications, or any other important information about this topic. "
      ]
    },
    {
      "cell_type": "code",
      "metadata": {
        "id": "XvR_O9D8sOUY",
        "outputId": "9404992a-a57b-4bb5-d687-20057ea0216b",
        "colab": {
          "base_uri": "https://localhost:8080/",
          "height": 175
        }
      },
      "source": [
        "import pandas as pd\n",
        "import re\n",
        "df=pd.read_csv(\"/content/sample_data/googlescholar.csv\")\n",
        "patternextraction1=[]\n",
        "patternextraction2=[]\n",
        "patternextraction3=[]\n",
        "for title in df['Titles']:\n",
        "  # Pattern Extraction\n",
        "     expression1=re.findall(\"^[A-Za-z]+\\s+(?:machine+\\s+learning)$\",title)\n",
        "     expression2=re.findall(\"^[A-Za-z]+\\s+[A-Za-z]+\\s+(?:machine+\\s+learning)$\",title)\n",
        "     expression3=re.findall(\"(.*):\\s*([^,]+)\",title)\n",
        "     expression4=re.findall(\"[^.!?;]*(?:for)[^.!?;]*\",title)\n",
        "  # Print the patterns\n",
        "     if len(expression1)!=0 or len(expression2)!=0:\n",
        "       patternextraction1.append(title)\n",
        "     elif len(expression3)!=0:\n",
        "       patternextraction2.append(title)\n",
        "     elif len(expression4)!=0:\n",
        "       patternextraction3.append(title)\n",
        "print(\"Pattern Extraction1 :\")# pattern for \"machine learning\"\n",
        "print(patternextraction1)\n",
        "print()\n",
        "print(\"Pattern Extraction2 :\")# pattern for \":\"\n",
        "print(patternextraction2)\n",
        "print()\n",
        "print(\"Pattern Extraction3 :\")# pattern for \"for\"\n",
        "print(patternextraction3)\n"
      ],
      "execution_count": 67,
      "outputs": [
        {
          "output_type": "stream",
          "text": [
            "Pattern Extraction1 :\n",
            "['Introduction to\\xa0machine learning', 'Quantum\\xa0machine learning', 'Foundations of\\xa0machine learning', 'Adversarial\\xa0machine learning', 'Optimization for\\xa0machine learning', 'Encyclopedia of machine learning', 'Python machine learning', 'Readings in machine learning', 'Interactive machine learning']\n",
            "\n",
            "Pattern Extraction2 :\n",
            "['Scikit-learn:\\xa0Machine learning\\xa0in Python', 'Machine learning: a probabilistic perspective', 'Weka: A\\xa0machine learning\\xa0workbench', 'Dlib-ml: A\\xa0machine learning\\xa0toolkit', 'Machine learning: Trends, perspectives, and prospects', 'C4. 5: programs for\\xa0machine learning', 'Bioinformatics: the\\xa0machine learning\\xa0approach', 'Machine learning: an algorithmic perspective', 'Data mining: practical\\xa0machine learning\\xa0tools and techniques with Java implementations', 'Understanding\\xa0machine learning: From theory to algorithms', 'Supervised machine learning: A review of classification techniques', 'Mllib:\\xa0Machine learning\\xa0in apache spark', 'Tensorflow: A system for large-scale\\xa0machine learning', 'Machine learning: an applied econometric approach', 'Tensorflow: Large-scale\\xa0machine learning\\xa0on heterogeneous distributed systems', 'Dadiannao: A machine-learning supercomputer', 'Multiagent systems: A survey from a machine learning perspective', 'Torch7: A matlab-like environment for machine learning', 'The boosting approach to\\xa0machine learning: An overview', 'Intrusion detection by\\xa0machine learning: A review', 'Fashion-mnist: a novel image dataset for benchmarking machine learning algorithms', 'Multimodal machine learning: A survey and taxonomy', 'MoleculeNet: a benchmark for molecular machine learning', 'Structural health monitoring: a machine learning perspective', 'Automated machine learning: methods, systems, challenges', 'Faster and better: A machine learning approach to corner detection', 'Federated machine learning: Concept and applications', ' Ensemble machine learning: methods and applications', \"How the\\xa0machine\\xa0'thinks': Understanding opacity in\\xa0machine learning\\xa0algorithms\", 'Convolutional LSTM network: A machine learning approach for precipitation nowcasting', 'Machine learning\\xa0classifiers and fMRI: a tutorial overview']\n",
            "\n",
            "Pattern Extraction3 :\n",
            "['Correlation-based feature selection for\\xa0machine learning', 'Machine learning\\xa0for high-speed corner detection', 'Map-reduce for machine learning on multicore', 'Machine learning for medical imaging', 'Machine learning for molecular and materials science', 'Gaussian processes for machine learning', 'Optimization methods for large-scale machine learning', 'Support vector machine learning for interdependent and structured output spaces', 'Sparse greedy matrix approximation for machine learning', 'Machine learning in bioinformatics', 'Machine learning for user modeling', 'Gaussian processes for machine learning', 'Next-generation machine learning for biological networks', 'Practical feature subset selection for machine learning', 'Machine learning paradigms for next-generation wireless networks']\n"
          ],
          "name": "stdout"
        }
      ]
    },
    {
      "cell_type": "markdown",
      "metadata": {
        "id": "Dq_7VGmrsum4"
      },
      "source": [
        "## **2. Domain-specific information extraction (10 points)**\n",
        "\n",
        "For the legal case used in the data cleaning exercise: [01-05-1 Adams v Tanner.txt](https://github.com/unt-iialab/INFO5731_FALL2020/blob/master/In_class_exercise/01-05-1%20%20Adams%20v%20Tanner.txt), use [legalNLP](https://lexpredict-lexnlp.readthedocs.io/en/latest/modules/extract/extract.html#nlp-based-extraction-methods) to extract the following inforation from the text (if the information is not exist, just print None):\n",
        "\n",
        "(1) acts, e.g., “section 1 of the Advancing Hope Act, 1986”\n",
        "\n",
        "(2) amounts, e.g., “ten pounds” or “5.8 megawatts”\n",
        "\n",
        "(3) citations, e.g., “10 U.S. 100” or “1998 S. Ct. 1”\n",
        "\n",
        "(4) companies, e.g., “Lexpredict LLC”\n",
        "\n",
        "(5) conditions, e.g., “subject to …” or “unless and until …”\n",
        "\n",
        "(6) constraints, e.g., “no more than”\n",
        "\n",
        "(7) copyright, e.g., “(C) Copyright 2000 Acme”\n",
        "\n",
        "(8) courts, e.g., “Supreme Court of New York”\n",
        "\n",
        "(9) CUSIP, e.g., “392690QT3”\n",
        "\n",
        "(10) dates, e.g., “June 1, 2017” or “2018-01-01”\n",
        "\n",
        "(11) definitions, e.g., “Term shall mean …”\n",
        "\n",
        "(12) distances, e.g., “fifteen miles”\n",
        "\n",
        "(13) durations, e.g., “ten years” or “thirty days”\n",
        "\n",
        "(14) geographic and geopolitical entities, e.g., “New York” or “Norway”\n",
        "\n",
        "(15) money and currency usages, e.g., “$5” or “10 Euro”\n",
        "\n",
        "(16) percents and rates, e.g., “10%” or “50 bps”\n",
        "\n",
        "(17) PII, e.g., “212-212-2121” or “999-999-9999”\n",
        "\n",
        "(18) ratios, e.g.,” 3:1” or “four to three”\n",
        "\n",
        "(19) regulations, e.g., “32 CFR 170”\n",
        "\n",
        "(20) trademarks, e.g., “MyApp (TM)”\n",
        "\n",
        "(21) URLs, e.g., “http://acme.com/”\n",
        "\n",
        "(22) addresses, e.g., “1999 Mount Read Blvd, Rochester, NY, USA, 14615”\n",
        "\n",
        "(23) persons, e.g., “John Doe"
      ]
    },
    {
      "cell_type": "code",
      "metadata": {
        "id": "qc7NtJrLx5tS",
        "outputId": "69c7e7f3-e25a-4794-af54-f21f2cf7a368",
        "colab": {
          "base_uri": "https://localhost:8080/",
          "height": 34
        }
      },
      "source": [
        "!pip install pysbd"
      ],
      "execution_count": null,
      "outputs": [
        {
          "output_type": "stream",
          "text": [
            "Requirement already satisfied: pysbd in /usr/local/lib/python3.6/dist-packages (0.3.3)\n"
          ],
          "name": "stdout"
        }
      ]
    },
    {
      "cell_type": "code",
      "metadata": {
        "id": "yW9DjTHxKxJ1",
        "outputId": "2cbd236a-753a-4e14-e266-c621f4e6fe76",
        "colab": {
          "base_uri": "https://localhost:8080/",
          "height": 172
        }
      },
      "source": [
        "import nltk\n",
        "nltk.download('punkt')\n",
        "nltk.download('averaged_perceptron_tagger')\n",
        "nltk.download('wordnet')"
      ],
      "execution_count": null,
      "outputs": [
        {
          "output_type": "stream",
          "text": [
            "[nltk_data] Downloading package punkt to /root/nltk_data...\n",
            "[nltk_data]   Package punkt is already up-to-date!\n",
            "[nltk_data] Downloading package averaged_perceptron_tagger to\n",
            "[nltk_data]     /root/nltk_data...\n",
            "[nltk_data]   Package averaged_perceptron_tagger is already up-to-\n",
            "[nltk_data]       date!\n",
            "[nltk_data] Downloading package wordnet to /root/nltk_data...\n",
            "[nltk_data]   Package wordnet is already up-to-date!\n"
          ],
          "name": "stdout"
        },
        {
          "output_type": "execute_result",
          "data": {
            "text/plain": [
              "True"
            ]
          },
          "metadata": {
            "tags": []
          },
          "execution_count": 50
        }
      ]
    },
    {
      "cell_type": "code",
      "metadata": {
        "id": "bL3g9_i2BpsG"
      },
      "source": [
        "!pip install lexnlp==0.2.7"
      ],
      "execution_count": null,
      "outputs": []
    },
    {
      "cell_type": "code",
      "metadata": {
        "id": "H6HnKlGIG1Ml"
      },
      "source": [
        "!pip install scipy==1.4.1"
      ],
      "execution_count": null,
      "outputs": []
    },
    {
      "cell_type": "code",
      "metadata": {
        "id": "HlgRtPdfDo5o"
      },
      "source": [
        "!pip install pyap"
      ],
      "execution_count": null,
      "outputs": []
    },
    {
      "cell_type": "code",
      "metadata": {
        "id": "uJ4i8fX6LRjB",
        "outputId": "56aa6fbf-1287-4370-9826-1955152ed5c1",
        "colab": {
          "base_uri": "https://localhost:8080/",
          "height": 745
        }
      },
      "source": [
        "import pysbd\n",
        "import pandas as pd\n",
        "from lexnlp.extract.en.dict_entities import entity_config\n",
        "import lexnlp.extract.en.acts\n",
        "import lexnlp.extract.en.citations\n",
        "import lexnlp.extract.en.entities.nltk_re\n",
        "import lexnlp.extract.en.conditions\n",
        "import lexnlp.extract.en.constraints\n",
        "import lexnlp.extract.en.copyright\n",
        "import lexnlp.extract.en.courts\n",
        "import lexnlp.extract.en.cusip\n",
        "import lexnlp.extract.en.dates\n",
        "import lexnlp.extract.en.definitions\n",
        "import lexnlp.extract.en.distances\n",
        "import lexnlp.extract.en.durations\n",
        "import lexnlp.extract.en.geoentities\n",
        "import lexnlp.extract.en.money\n",
        "import lexnlp.extract.en.percents\n",
        "import lexnlp.extract.en.pii\n",
        "import lexnlp.extract.en.ratios\n",
        "import lexnlp.extract.en.regulations\n",
        "import lexnlp.extract.en.trademarks\n",
        "import lexnlp.extract.en.urls\n",
        "import lexnlp.extract.en.addresses\n",
        "import pyap\n",
        "with open (\"/content/sample_data/01-05-1  Adams v Tanner.txt\", \"r\") as files:\n",
        "      f=files.read()\n",
        "def extraction(key,value):\n",
        "  if len(value)==0:\n",
        "    print(f\"{key} :None\")\n",
        "    print()\n",
        "  else:\n",
        "    print(f\"{key} :{value}\")\n",
        "    print()\n",
        "    #extracting values for all the key words\n",
        "extraction('Acts',list(lexnlp.extract.en.acts.get_act_list(f)))\n",
        "extraction('Amounts',list(lexnlp.extract.en.amounts.get_amounts(f)))\n",
        "extraction('Citations',list(lexnlp.extract.en.citations.get_citations(f)))\n",
        "extraction('Companies',list(lexnlp.extract.en.entities.nltk_re.get_companies(f)))\n",
        "extraction('Conditions',list(lexnlp.extract.en.conditions.get_conditions(f)))\n",
        "extraction('Constraints',list(lexnlp.extract.en.constraints.get_constraints(f)))\n",
        "extraction('Copyright',list(lexnlp.extract.en.copyright.get_copyright(f)))\n",
        "courtdata_df = pd.read_csv(\"https://raw.githubusercontent.com/LexPredict/lexpredict-legal-dictionary/1.0.5/en/legal/us_courts.csv\")\n",
        "court_config_data=[]\n",
        "for _, row in courtdata_df.iterrows():\n",
        "  data= entity_config(row[\"Court ID\"], row[\"Court Name\"], 0, row[\"Alias\"].split(\";\") if not pd.isnull(row[\"Alias\"]) else [])\n",
        "  court_config_data.append(data)\n",
        "for entity, alias in lexnlp.extract.en.courts.get_courts(final_address, court_config_data):\n",
        "    print(\"Courts :\", entity,alias)\n",
        "extraction('CUSIP',list(lexnlp.extract.en.cusip.get_cusip(f)))\n",
        "extraction('Dates',list(lexnlp.extract.en.dates.get_dates(f)))\n",
        "extraction('Definition',list(lexnlp.extract.en.definitions.get_definitions(f)))\n",
        "extraction('Distance',list(lexnlp.extract.en.distances.get_distances(f)))\n",
        "extraction('Duration',list(lexnlp.extract.en.durations.get_durations(f)))\n",
        "extraction('Money',list(lexnlp.extract.en.money.get_money(f)))\n",
        "extraction('Percents',list(lexnlp.extract.en.percents.get_percents(f)))\n",
        "extraction('PII',list(lexnlp.extract.en.pii.get_pii(f)))\n",
        "extraction('Ratios',list(lexnlp.extract.en.ratios.get_ratios(f)))\n",
        "extraction('Regulations',list(lexnlp.extract.en.regulations.get_regulations(f)))\n",
        "extraction('Trademarks',list(lexnlp.extract.en.trademarks.get_trademarks(f)))\n",
        "extraction('URLS',list(lexnlp.extract.en.urls.get_urls(f)))\n",
        "for entity,alias in lexnlp.extract.en.geoentities.get_geoentities(f,court_config_data):\n",
        "  print('geographic and geopolitical entities :',entity,alias)\n",
        "  print()\n",
        "addresses=pyap.parse(f, country='US')\n",
        "final_address=[]\n",
        "for location in addresses:\n",
        "  final_address.append(location)\n",
        "print(f'Addresses :\" {final_address}')"
      ],
      "execution_count": 64,
      "outputs": [
        {
          "output_type": "stream",
          "text": [
            "Acts :None\n",
            "\n",
            "Amounts :[5.0, 740.0, 1843.0, 2.0, 1.0, 4.0, 2.0, 1821.0, 5.0, 1.0, 1840.0, 3777, 80.0, 100.0, 30, 1839.0, 741.0, 22, 1840.0, 14000, 120, 1, 1840.0, 3, 4, 1, 1.0, 1840.0, 2.0, 1.0, 361.0, 1.0, 307.0, 6.0, 604.0, 1.0, 2.0, 418.0, 422.0, 7.0, 34.0, 41.0, 167.0, 742.0, 3.0, 112.0, 207.0, 3.0, 338.0, 424.0, 5.0, 26.0, 13.0, 235.0, 8.0, 693.0, 4.0, 1821.0, 167.0, 2.0, 2.0, 216.0, 3.0, 66.0, 4.0, 130.0, 29.0, 2.0, 241.0, 2.0, 332.0, 2.0, 422.0, 9.0, 112.0, 743.0, 9.0, 39.0, 14000, 1840.0, 744.0, 5.0, 182.0, 3.0, 368.0, 1.0, 397.0, 6.0, 604.0, 1, 1821.0, 167.0, 745.0, 4.0, 746.0, 4.0, 210.0, 46.0, 747.0, 5.0, 5.0, 740.0, 1843.0, 284.0, 2019.0, 9.0, 1.0, 55.0, 266.0, 271.0, 1876.0, 2.0, 47.0, 362.0, 376.0, 1872.0, 3.0, 45.0, 329.0, 334.0, 1871.0, 4.0, 31.0, 526.0, 527.0, 1858.0, 5.0, 21.0, 333.0, 335.0, 1852.0, 6.0, 8.0, 145.0, 147.0, 1857.0, 7.0, 65.0, 256.0, 258.0, 3, 1880.0, 8.0, 4.0, 913.0, 914.0, 1887.0, 9.0, 103.0, 464.0, 1936.0, 3.0, 1.0, 9.0, 39.0, 1828.0, 2.0, 2.0, 5.0, 182.0, 1837.0, 2.0, 3.0, 9.0, 108.0, 1812.0, 6, 1, 2.0]\n",
            "\n",
            "Citations :[(5, 'Ala.', 'Alabama Reports', 740, None, None, None), (5, 'Ala.', 'Alabama Reports', 740, '1843', None, None), (55, 'Ala.', 'Alabama Reports', 266, '271', None, None), (47, 'Ala.', 'Alabama Reports', 362, '376', None, None), (45, 'Ala.', 'Alabama Reports', 329, '334', None, None), (31, 'Ala.', 'Alabama Reports', 526, '527', None, None), (21, 'Ala.', 'Alabama Reports', 333, '335', None, None), (8, 'Cal.', 'California Reports', 145, '147', None, None), (65, 'Ala.', 'Alabama Reports', 256, '258', None, None), (4, 'S.W.', 'South Western Reporter', 913, '914', None, None), (103, 'A.L.R.', 'American Law Reports', 464, None, None, None), (9, 'Cow.', \"Cowen's Reports\", 39, None, None, None), (5, 'Port.', 'Alabama Reports, Porter', 182, None, None, None), (9, 'Johns.', \"Johnson's Reports\", 108, None, None, None)]\n",
            "\n",
            "Companies :[('The President, &c. of the Bank of the United States', None, 'Bank'), ('Lehman, Durr', 'Co', None)]\n",
            "\n",
            "Conditions :[('until', '[2]\\nCreditors’ Remedies\\nLien and Priority\\nUnder St.1821, prohibiting a levy on a crop', ''), ('until', 'on a growing crop, nor does such lien attach', ''), ('if', 'It was proved by the claimants, by the production of a written contract, that Harrison, on the twenty-second of May, 1840, in consideration that the claimants were involved, as indorsers for Burton & Harrison of Sumter county, and were then exposed to an execution, amounting to upwards of fourteen thousand dollars, bargained and sold to the claimants all his growing crop of cotton &c., consisting of one hundred and twenty acres, &c. Allen Harrison promised and obliged himself to give up his crop to the use of the claimants at any time to save them from suffering as his indorsers;', ''), ('when', 'The claimants came from Tennessee, (where they resided) about the first of September, 1840, bringing with them three or four white laborers, and took possession of the crop and slaves, and with the latter, and white laborers, gathered the cotton, prepared it for market, and', ''), ('if', 'The court charged the jury, that the plaintiff had no lien by virtue of his judgment, and execution on the growing crop; that Harrison had a right to convey it, without being in any manner restrained by them; that the writing adduced, was a sale of the crop, but', ''), ('when', 'it was not, and the lien of the fieri facias would have attached upon it,', ''), ('if', 'gathered, yet', ''), ('not subject to', 'the claimants obtained possession on the first of September, and controlled the gathering of the crop, then no lien attached, and it was', ''), ('until', 'Rep, 693;] and', ''), ('until', '167,] which declares it to be lawful to levy an execution on a planted crop,', ''), ('if', 'It is admitted that the contract between the defendant in execution, and the claimants, was in good faith,', ''), ('when', 'The defendant in execution might at any time have divested the interest which the contract vested in the claimants, by discharging their liability as his indorsers, or a judgment creditor might have satisfied the lien, and', ''), ('unless', 'We will then consider the writing under which the claimants assert a right, as a mortgage with a power to take possession any time during the year,', ''), ('if', 'Conceding the truth of the facts stated in the bill of exceptions, and we think it will not follow, that the possession of the claimants is a nullity, and that the case must be considered as', ''), ('if', 'The contract contains an express undertaking to give up the crop at any time the claimants might require it for their indemnity, and', ''), ('if', 'they took possession of it in the absence of the grantor, (though without his consent,)', ''), ('if', 'he subsequently acquiesced in it, the inference would be,', ''), ('subject to', 'Mr. Dane, in remarking upon this point, says, “The American editor of Bacon’s Abridgment, says, ‘Wheat growing in the ground is a chattel, and', ''), ('until', 'The first section of the act of 1821, “To prevent sheriffs and other officers from levying executions in certain cases, enacts, that “It shall not be lawful for any sheriff or other officer, to levy a writ of fieri facias or other execution on the planted crop of a debtor, or person against whom an execution may issue,', ''), ('until', 'Now here is an express inhibition to levy an execution on a crop while it remains on, or in the ground, and', ''), ('until', 'If so, the act cited, will only have the effect of keeping the right to levy it in abeyance', ''), ('if', 'The lien and the right to levy are intimately connected, and', ''), ('until', 'That it was competent for the legislature to have made it unlawful to levy an execution on particular property,', ''), ('until', 'If the object was merely to suspend the sale,', ''), ('as soon as', 'The idea that the lien attached upon the planted crop', ''), ('until', 'the execution was delivered to the sheriff, though the right to levy it was postponed', ''), ('if', 'They do not refer to the lien,', ''), ('until', 'they did they would postpone it', ''), ('until', 'the crop was gathered; but it is the levy they relate to and postpone', ''), ('until', '**4 The right to levy an execution on a planted crop, then, being expressly taken away by the statute, the lien which is connected with and consequent upon that right, never attaches', ''), ('if', 'The circuit judge may have mistaken the law in supposing that the contract was a sale, but', ''), ('when', 'There is no assumption of any material fact in the charge; but the possession of the claimant, the time', ''), ('if', 'acquired, the gathering of the crop, &c., are all referred to the determination of the jury; who are instructed,', ''), ('until', '**4 The statute which presents the question before the court is, that “it shall not be lawful for any sheriff or other officer to levy a writ of fieei facias or other execution, on the planted crop of a debtor, or person against whom an execution may issue,', ''), ('subject to', 'The policy of the State, as indicated by these statutes, is undeniably that all the property of a debtor, real and personal, to which he has a legal title, shall be', ''), ('until', 'The mischief which the statute designed to remedy was, the sacrifice which would be necessarily made by the sale of an immature crop: the statute enables the debtor to retain it', ''), ('if', '**5', ''), ('until', 'The sheriff is forbidden to levy on a “planted crop”', ''), ('if', 'Now,', ''), ('until', 'This, I feel a thorough conviction, was not the intention of the legislature; but that it was to secure him from loss, by prohibiting a levy and sale of the crop,', ''), ('when', 'it was gathered,', ''), ('subject to', 'Growing crops as', ''), ('subject to', '464\\nGenerally, at common law, growing crops raised by annual planting, while still attached to the soil, are regarded as personal chattels,', ''), ('where', 'And', '')]\n",
            "\n",
            "Constraints :[('after', 'on a growing crop, nor does such lien attach until', ''), ('after', '', ' and that alias and pluries fieri facias’, issued regularly up to the time levy was made; that the cotton levied on was growed on the plantation of harrison, and cultivated by the hands in his service.'), ('first of', 'the claimants came from tennessee, (where they resided) about the', ''), ('first of', 'the court charged the jury, that the plaintiff had no lien by virtue of his judgment, and execution on the growing crop; that harrison had a right to convey it, without being in any manner restrained by them; that the writing adduced, was a sale of the crop, but if it was not, and the lien of the fieri facias would have attached upon it, when gathered, yet if the claimants obtained possession on the', ''), ('after', 'it merely inhibits the levy, but the lien attaches, and a levy and sale may be made', ''), ('more than', 'taking this to be clear *744 law, and it will be seen, that the defendant in execution at the time of the levy had nothing', ''), ('before', 'it has been frequently mooted whether, at common law, corn, &c.,', ''), ('before', '**4 the statute which presents the question', ''), ('after', 'now, if the view taken by the majority of the court, is correct, the right secured to the plaintiff in execution, of levying on the crop', ''), ('before', 'tried', ''), ('before', 'tried', ''), ('before', 'tried', ''), ('before', 'tried', ''), ('before', 'tried', ''), ('before', 'tried', '')]\n",
            "\n",
            "Copyright :[('©', '2019', 'Thomson Reuters')]\n",
            "\n",
            "CUSIP :None\n",
            "\n",
            "Dates :[datetime.date(2020, 6, 1), datetime.date(1840, 11, 1), datetime.date(1839, 10, 1), datetime.date(1840, 5, 1), datetime.date(1840, 9, 1), datetime.date(1840, 5, 1), datetime.date(1840, 5, 1), datetime.date(2020, 12, 1), datetime.date(2020, 12, 1), datetime.date(2020, 12, 1), datetime.date(2020, 1, 1), datetime.date(2020, 1, 1), datetime.date(2020, 1, 1), datetime.date(2020, 3, 21), datetime.date(2020, 6, 1), datetime.date(2020, 7, 1), datetime.date(2020, 11, 1), datetime.date(1887, 5, 1)]\n",
            "\n",
            "Definition :None\n",
            "\n",
            "Distance :None\n",
            "\n",
            "Duration :[('second', 20.0, 0.00023148148148148146), ('year', 6.0, 2190.0)]\n",
            "\n",
            "Money :[(14000, 'USD'), (14000, 'USD'), (100.0, 'USD')]\n",
            "\n",
            "Percents :None\n",
            "\n",
            "PII :None\n",
            "\n",
            "Ratios :None\n",
            "\n",
            "Regulations :None\n",
            "\n",
            "Trademarks :None\n",
            "\n",
            "URLS :None\n",
            "\n",
            "geographic and geopolitical entities : (1, 'United States Supreme Court', 0, [('United States Supreme Court', None, False, None), ('Supreme Court', None, False, None), (' SCOTUS', None, False, None)]) ('Supreme Court', None, False, None)\n",
            "\n",
            "Addresses :\" []\n"
          ],
          "name": "stdout"
        }
      ]
    },
    {
      "cell_type": "code",
      "metadata": {
        "id": "eP_yeco-cqtc"
      },
      "source": [
        ""
      ],
      "execution_count": null,
      "outputs": []
    }
  ]
}