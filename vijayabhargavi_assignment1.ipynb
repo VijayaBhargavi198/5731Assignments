{
  "nbformat": 4,
  "nbformat_minor": 0,
  "metadata": {
    "colab": {
      "name": "vijayabhargavi_assignment1.ipynb",
      "provenance": [],
      "collapsed_sections": [],
      "include_colab_link": true
    },
    "kernelspec": {
      "name": "python3",
      "display_name": "Python 3"
    }
  },
  "cells": [
    {
      "cell_type": "markdown",
      "metadata": {
        "id": "view-in-github",
        "colab_type": "text"
      },
      "source": [
        "<a href=\"https://colab.research.google.com/github/VijayaBhargavi198/5731Assignments/blob/master/vijayabhargavi_assignment1.ipynb\" target=\"_parent\"><img src=\"https://colab.research.google.com/assets/colab-badge.svg\" alt=\"Open In Colab\"/></a>"
      ]
    },
    {
      "cell_type": "markdown",
      "metadata": {
        "id": "Ryk8D1Q4Wsrp",
        "colab_type": "text"
      },
      "source": [
        "# **INFO5731 Assignment One**"
      ]
    },
    {
      "cell_type": "markdown",
      "metadata": {
        "id": "90_NR8c5XGWc",
        "colab_type": "text"
      },
      "source": [
        "# Question 1\n",
        "\n",
        "(20 points). Write a Python program to generate 12 random numbers between 1 and 100. Sort the list of numbers in ascending order and print it out. Sort the list of numbers in descending order and print it out. Calculate the average for the group and print it out."
      ]
    },
    {
      "cell_type": "code",
      "metadata": {
        "id": "5QX6bJjGWXY9",
        "colab_type": "code",
        "colab": {
          "base_uri": "https://localhost:8080/",
          "height": 86
        },
        "outputId": "ce42adf3-a7c5-4ee7-d59c-398e8dade47a"
      },
      "source": [
        "import numpy as np\n",
        "from random import randint\n",
        "x = [randint(0, 100) for i in range(0, 12)]   # generating 12 random numbers between 1 and 100.\n",
        "print(\"Original Array:\",x)                      \n",
        "x.sort()                                      # Sorting the list in ascending order \n",
        "print(\"Array sorted in ascending order:\",x)\n",
        "x.sort(reverse=True)                          # Sorting the list in descending order\n",
        "print(\"Array Sorted in descending order:\",x)\n",
        "print(\"Average of the Array:\",np.average(x))  #finding the average of the list\n"
      ],
      "execution_count": 1,
      "outputs": [
        {
          "output_type": "stream",
          "text": [
            "Original Array: [0, 53, 90, 54, 97, 2, 79, 91, 55, 42, 52, 25]\n",
            "Array sorted in ascending order: [0, 2, 25, 42, 52, 53, 54, 55, 79, 90, 91, 97]\n",
            "Array Sorted in descending order: [97, 91, 90, 79, 55, 54, 53, 52, 42, 25, 2, 0]\n",
            "Average of the Array: 53.333333333333336\n"
          ],
          "name": "stdout"
        }
      ]
    },
    {
      "cell_type": "markdown",
      "metadata": {
        "id": "1F_PZdH9Sh49",
        "colab_type": "text"
      },
      "source": [
        "# Question 2\n",
        "(25 points). Write a program that will do the following string formatting tasks:\n",
        "\n",
        "(1) Ask the user to enter two sentences.\n",
        "\n",
        "(2) Make each sentence into a list. Each element in the list should correspond to a word in the sentence. For example, if the sentence is \"Alas! Am I alive? This is my first python program\", the program should print out ['Alas, '!', 'Am', 'I', 'alive, '?', 'This', 'is', 'my', 'first', 'python', 'program'].\n",
        "\n",
        "(3) Compare the two sentences. Print out a list of words that occur in both sentences.\n",
        "\n",
        "(4) Remove any punctuation from the sentence and print it back out. It should remove at least the following characters, but it can remove more: period(“.”), comma (“,”), semicolon (“;”), and colon (“:”)\n",
        "\n",
        "(5) Count the number of vowels in the sentences. Print out each vowel and the number of times it appears in the sentences, such as: a:2, e:1, i:0, etc"
      ]
    },
    {
      "cell_type": "code",
      "metadata": {
        "id": "i1BgyxG4aLWE",
        "colab_type": "code",
        "colab": {
          "base_uri": "https://localhost:8080/",
          "height": 51
        },
        "outputId": "2ea7d2e1-b95c-4a1e-c2e4-cb058cd32e40"
      },
      "source": [
        "# Ask the user to enter two sentences.\n",
        "sentence1 = input(\"Enter the first sentence : \")\n",
        "sentence2 = input(\"Enter the second sentence : \")"
      ],
      "execution_count": 2,
      "outputs": [
        {
          "output_type": "stream",
          "text": [
            "Enter the first sentence : This is university of north Texas, Denton.\n",
            "Enter the second sentence : Hey!!!!!!, welcome to UNT, Denton, Texas.\n"
          ],
          "name": "stdout"
        }
      ]
    },
    {
      "cell_type": "code",
      "metadata": {
        "id": "HHQU8SarhFXN",
        "colab_type": "code",
        "colab": {
          "base_uri": "https://localhost:8080/",
          "height": 69
        },
        "outputId": "d22ab545-c466-434d-f1e4-38cb16a6e95e"
      },
      "source": [
        "import nltk\n",
        "nltk.download('punkt')"
      ],
      "execution_count": 4,
      "outputs": [
        {
          "output_type": "stream",
          "text": [
            "[nltk_data] Downloading package punkt to /root/nltk_data...\n",
            "[nltk_data]   Unzipping tokenizers/punkt.zip.\n"
          ],
          "name": "stdout"
        },
        {
          "output_type": "execute_result",
          "data": {
            "text/plain": [
              "True"
            ]
          },
          "metadata": {
            "tags": []
          },
          "execution_count": 4
        }
      ]
    },
    {
      "cell_type": "code",
      "metadata": {
        "id": "kqrAUvlraL0Y",
        "colab_type": "code",
        "colab": {
          "base_uri": "https://localhost:8080/",
          "height": 51
        },
        "outputId": "50d4fa81-9064-4619-d6e4-0cadc962af02"
      },
      "source": [
        "# Make each sentence into a list. Each element in the list should correspond to a word in the sentence.\n",
        "list1 = nltk.word_tokenize(sentence1)\n",
        "list2 = nltk.word_tokenize(sentence2)\n",
        "print(list1)\n",
        "print(list2)"
      ],
      "execution_count": 6,
      "outputs": [
        {
          "output_type": "stream",
          "text": [
            "['This', 'is', 'university', 'of', 'north', 'Texas', ',', 'Denton', '.']\n",
            "['Hey', '!', '!', '!', '!', '!', '!', ',', 'welcome', 'to', 'UNT', ',', 'Denton', ',', 'Texas', '.']\n"
          ],
          "name": "stdout"
        }
      ]
    },
    {
      "cell_type": "code",
      "metadata": {
        "id": "nlMZomfhaLmp",
        "colab_type": "code",
        "colab": {
          "base_uri": "https://localhost:8080/",
          "height": 35
        },
        "outputId": "d0a6fae1-8047-4698-866c-b4b05dd29cdd"
      },
      "source": [
        "# Compare the two sentences. Print out a list of words that occur in both sentences.\n",
        "def sentence_match(a,b): \n",
        "    common_words = '' \n",
        "    for i in a: \n",
        "        if i in b: \n",
        "            common_words = common_words+\" \"+i \n",
        "    return common_words \n",
        "sentence_match(list1,list2)"
      ],
      "execution_count": 7,
      "outputs": [
        {
          "output_type": "execute_result",
          "data": {
            "application/vnd.google.colaboratory.intrinsic+json": {
              "type": "string"
            },
            "text/plain": [
              "' Texas , Denton .'"
            ]
          },
          "metadata": {
            "tags": []
          },
          "execution_count": 7
        }
      ]
    },
    {
      "cell_type": "code",
      "metadata": {
        "id": "2xnMOSP_aLFM",
        "colab_type": "code",
        "colab": {
          "base_uri": "https://localhost:8080/",
          "height": 51
        },
        "outputId": "f6a98e5d-14d7-4193-b526-c550d972e9b9"
      },
      "source": [
        "# Remove any punctuation from the sentence and print it back out.\n",
        "punctuation = ['(', ')', '?', ':', ':', ',', '.', '!', '/', '\"', \"'\"]\n",
        "def remove_punct(str):     \n",
        "    for i in punctuation:\n",
        "        str = str.replace(i,\"\")\n",
        "    return str\n",
        "print(\"sentence1 after removing punctuations:\", remove_punct(sentence1))\n",
        "print(\"sentence2 after removing punctuations:\", remove_punct(sentence2))"
      ],
      "execution_count": 9,
      "outputs": [
        {
          "output_type": "stream",
          "text": [
            "sentence1 after removing punctuations: This is university of north Texas Denton\n",
            "sentence2 after removing punctuations: Hey welcome to UNT Denton Texas\n"
          ],
          "name": "stdout"
        }
      ]
    },
    {
      "cell_type": "code",
      "metadata": {
        "id": "Y0oOSlsOS0cq",
        "colab_type": "code",
        "colab": {
          "base_uri": "https://localhost:8080/",
          "height": 51
        },
        "outputId": "4db0f50a-5809-4596-ecc5-3e151f620af2"
      },
      "source": [
        "# Count the number of vowels in the sentences. Print out each vowel and the number of times it appears in the sentences.\n",
        "def vowel_count(sentence):\n",
        "    sent_low = sentence.lower() \n",
        "    vowel_counts = {}\n",
        "    for vowel in \"aeiou\":\n",
        "        count = sent_low.count(vowel)\n",
        "        vowel_counts[vowel] = count\n",
        "    return vowel_counts\n",
        "    \n",
        "print(\"vowels in sentence1:\",vowel_count(sentence1))\n",
        "print(\"vowels in sentence2:\",vowel_count(sentence2))\n"
      ],
      "execution_count": 10,
      "outputs": [
        {
          "output_type": "stream",
          "text": [
            "vowels in sentence1: {'a': 1, 'e': 3, 'i': 4, 'o': 3, 'u': 1}\n",
            "vowels in sentence2: {'a': 1, 'e': 5, 'i': 0, 'o': 3, 'u': 1}\n"
          ],
          "name": "stdout"
        }
      ]
    },
    {
      "cell_type": "markdown",
      "metadata": {
        "id": "CmFoI4jDS9nx",
        "colab_type": "text"
      },
      "source": [
        "# Question 3 \n",
        "\n",
        "(15 points). The formula that describes the volume V of a sphere with radius r is the following:\n",
        "\n",
        "$ V=\\frac{4}{3}\\ast\\ \\pi\\ast\\ r^3 $\n",
        "\n",
        "Write a program to calculate the value of V when r is in the range of 1–10. Output the result in the following format:\n",
        "\n",
        "\tr\tV\n",
        "\t1\t…\n",
        "\t2\t…\n",
        "\t3\t…\n"
      ]
    },
    {
      "cell_type": "code",
      "metadata": {
        "id": "pEyqeioAT95b",
        "colab_type": "code",
        "colab": {
          "base_uri": "https://localhost:8080/",
          "height": 207
        },
        "outputId": "b03e359b-91d6-4041-8b7c-359ba540335b"
      },
      "source": [
        "import math\n",
        "print(\"R  \" \" volume\")\n",
        "for r in range(1,11):\n",
        "    volume=((4/3)*math.pi*pow(r,3)) # calculate volume, v=4/3∗ π∗ r3\n",
        "    print(r,\" \",volume)\n",
        "    "
      ],
      "execution_count": 11,
      "outputs": [
        {
          "output_type": "stream",
          "text": [
            "R   volume\n",
            "1   4.1887902047863905\n",
            "2   33.510321638291124\n",
            "3   113.09733552923254\n",
            "4   268.082573106329\n",
            "5   523.5987755982989\n",
            "6   904.7786842338603\n",
            "7   1436.7550402417319\n",
            "8   2144.660584850632\n",
            "9   3053.6280592892786\n",
            "10   4188.790204786391\n"
          ],
          "name": "stdout"
        }
      ]
    },
    {
      "cell_type": "markdown",
      "metadata": {
        "id": "z3tBE7E-Xn5X",
        "colab_type": "text"
      },
      "source": [
        "# Question 4\n",
        "\n",
        "(40 points). In the field of Data Science, data is often formatted as a comma-delimited (CSV) file, where each line in a file corresponds to a field's value. Refer to Chapter 9 (p. 106) for more information on comma-delimited files. To answer this question, you will need to download the file [Assignment1_denton_housing.csv](https://github.com/unt-iialab/INFO5731_FALL2020/blob/master/Assignments/Assignment1_denton_housing.csv) included with this assignment. The [file Assignment1_denton_housing.csv](https://github.com/unt-iialab/INFO5731_FALL2020/blob/master/Assignments/Assignment1_denton_housing.csv) contains statistics about housing in the city of Denton from 2008 to 2014. Write a program to implement the following questions.\n",
        "\n",
        "(1) (10 pts) Calculate the difference in the number of Occupied Housing Units from year to year and print it. The difference must be calculated for the consecutive years such as 2008-2009, 2009-2010 etc. Finally, print the values in the ascending order.\n",
        "\n",
        "(2) (10 pts) For all the years, calculate the percentage of housing units which are vacant an occupied. Print the results in the following format:\n",
        "\n",
        "Year Vacant Housing Units Occupied Housing Units\n",
        "\n",
        "    2008  30%   70%                          \n",
        "\t2009 ----- -----\n",
        "\t2010 ----- -----\n",
        "    2011 ----- -----\n",
        "\t2012 ----- -----\n",
        "    2013 ----- -----\n",
        "\t2014 ----- -----\n",
        "  \n",
        "  \n",
        "\n",
        "(3) (10 pts) Calculate and print the valued and years in which the highest number of housing units were vacant and occupied. Print the results in the following format:  \n",
        "\n",
        "                              Year\tValue\n",
        "\tVacant Housing Units\t  -----   -----\n",
        "\tOccupied Housing Units\t-----   -----\n",
        "\n",
        "(4) (10 pts) Calculate the harmonic mean of the total housing units and print it out. You can find the information about harmonic mean here: https://ncalculators.com/statistics/harmonic-mean-calculator.htm"
      ]
    },
    {
      "cell_type": "code",
      "metadata": {
        "id": "JmGwRUt6diIy",
        "colab_type": "code",
        "colab": {
          "base_uri": "https://localhost:8080/",
          "height": 138
        },
        "outputId": "e8b28505-5e9a-4bf5-cbe6-db9401aec1d5"
      },
      "source": [
        "#  Calculate the difference in the number of Occupied Housing Units from year to year and print it in the ascending order. \n",
        "import datascience as ds\n",
        "import pandas as pd\n",
        "import numpy as np\n",
        "denton_housing = pd.read_csv(\"https://raw.githubusercontent.com/unt-iialab/INFO5731_FALL2020/master/Assignments/Assignment1_denton_housing.csv\")\n",
        "ohu_df = denton_housing[(denton_housing['title_field']=='Occupied Housing Units')].sort_values(by='year')\n",
        "print(ohu_df['value'].diff().sort_values().dropna())"
      ],
      "execution_count": 16,
      "outputs": [
        {
          "output_type": "stream",
          "text": [
            "17    -795.0\n",
            "11    -303.0\n",
            "8     1404.0\n",
            "5     1565.0\n",
            "2     2622.0\n",
            "14    5091.0\n",
            "Name: value, dtype: float64\n"
          ],
          "name": "stdout"
        }
      ]
    },
    {
      "cell_type": "code",
      "metadata": {
        "id": "0Z_G6afgdi2R",
        "colab_type": "code",
        "colab": {
          "base_uri": "https://localhost:8080/",
          "height": 155
        },
        "outputId": "a08ad56d-890b-4f2c-bcd6-ca016eeaffb2"
      },
      "source": [
        "#  For all the years, calculate the percentage of housing units which are vacant an occupied. \n",
        "\n",
        "#creating individual dataframes\n",
        "ohu_df = denton_housing[(denton_housing['title_field']=='Occupied Housing Units')].sort_values(by='year')\n",
        "vhu_df = denton_housing[(denton_housing['title_field']=='Vacant Housing Units')].sort_values(by='year')\n",
        "thu_df = denton_housing[(denton_housing['title_field']=='Total Housing Units')].sort_values(by='year')\n",
        "year_df = sorted(denton_housing['year'].unique())\n",
        "ohu_list = ohu_df[\"value\"].to_list()\n",
        "vhu_list = vhu_df[\"value\"].to_list()\n",
        "thu_list = thu_df[\"value\"].to_list()\n",
        "\n",
        "#function for calculating percentages\n",
        "def percent (val,total):\n",
        "    percentage_values = list()\n",
        "    for i in range(len(val)):\n",
        "        percentage_values.append(str(val[i]/total[i]*100)+\"%\")\n",
        "    return percentage_values;\n",
        "\n",
        "vacant_percent = percent(vhu_list,thu_list)\n",
        "occupied_percent = percent(ohu_list,thu_list)\n",
        "result_df = pd.concat([pd.DataFrame(year_df,columns=['year']),\n",
        "                    pd.DataFrame(vacant_percent,columns=['| vacant housing percentage']), \n",
        "                    pd.DataFrame(occupied_percent,columns=['| occupied housing percentage'])],axis=1)\n",
        "print(result_df)"
      ],
      "execution_count": 13,
      "outputs": [
        {
          "output_type": "stream",
          "text": [
            "   year | vacant housing percentage | occupied housing percentage\n",
            "0  2008          10.88265281351653%            89.11734718648347%\n",
            "1  2009           9.07111572444872%            90.92888427555128%\n",
            "2  2010          8.142556337081672%            91.85744366291833%\n",
            "3  2011          9.379522229890688%             90.6204777701093%\n",
            "4  2012          6.677600230491346%            93.32239976950866%\n",
            "5  2013          8.801787504176412%            91.19821249582358%\n",
            "6  2014          5.730110570363885%            94.26988942963611%\n"
          ],
          "name": "stdout"
        }
      ]
    },
    {
      "cell_type": "code",
      "metadata": {
        "id": "0HnLjVOEdipv",
        "colab_type": "code",
        "colab": {
          "base_uri": "https://localhost:8080/",
          "height": 110
        },
        "outputId": "10d0db1e-aab4-467f-9594-ded1c899057f"
      },
      "source": [
        "# Calculate and print the valued and years in which the highest number of housing units were vacant and occupied. \n",
        "\n",
        "def max_year(housing_unit,max_units):\n",
        "    return year_df[housing_unit.index(max_units)]\n",
        "    pass\n",
        "val = [\"Vacant Housing Units\",\"Occupied Housing Units\"]\n",
        "years_column = list()\n",
        "units_column = list()\n",
        "max_vu = max(vhu_list)\n",
        "max_ou = max(ohu_list)\n",
        "# Retrieving the year with highest number of vacant units \n",
        "units_column.append(max_vu )\n",
        "years_column.append(max_year(vhu_list,max_vu ))\n",
        "# Retrieving the year with highest number of occupied units \n",
        "units_column.append(max_ou)\n",
        "years_column.append(max_year(ohu_list,max_ou))\n",
        "# consolidating the resultant dataframe\n",
        "result_df = pd.concat([pd.DataFrame(val,columns=['']),\n",
        "                    pd.DataFrame(years_column,columns=['year']), \n",
        "                    pd.DataFrame(units_column,columns=['units'])],axis=1)\n",
        "result_df\n"
      ],
      "execution_count": 14,
      "outputs": [
        {
          "output_type": "execute_result",
          "data": {
            "text/html": [
              "<div>\n",
              "<style scoped>\n",
              "    .dataframe tbody tr th:only-of-type {\n",
              "        vertical-align: middle;\n",
              "    }\n",
              "\n",
              "    .dataframe tbody tr th {\n",
              "        vertical-align: top;\n",
              "    }\n",
              "\n",
              "    .dataframe thead th {\n",
              "        text-align: right;\n",
              "    }\n",
              "</style>\n",
              "<table border=\"1\" class=\"dataframe\">\n",
              "  <thead>\n",
              "    <tr style=\"text-align: right;\">\n",
              "      <th></th>\n",
              "      <th></th>\n",
              "      <th>year</th>\n",
              "      <th>units</th>\n",
              "    </tr>\n",
              "  </thead>\n",
              "  <tbody>\n",
              "    <tr>\n",
              "      <th>0</th>\n",
              "      <td>Vacant Housing Units</td>\n",
              "      <td>2008</td>\n",
              "      <td>4483</td>\n",
              "    </tr>\n",
              "    <tr>\n",
              "      <th>1</th>\n",
              "      <td>Occupied Housing Units</td>\n",
              "      <td>2014</td>\n",
              "      <td>46295</td>\n",
              "    </tr>\n",
              "  </tbody>\n",
              "</table>\n",
              "</div>"
            ],
            "text/plain": [
              "                           year  units\n",
              "0    Vacant Housing Units  2008   4483\n",
              "1  Occupied Housing Units  2014  46295"
            ]
          },
          "metadata": {
            "tags": []
          },
          "execution_count": 14
        }
      ]
    },
    {
      "cell_type": "code",
      "metadata": {
        "id": "lqGYuHBhcsRH",
        "colab_type": "code",
        "colab": {
          "base_uri": "https://localhost:8080/",
          "height": 34
        },
        "outputId": "c482da08-988b-4586-de21-725a282ff0ba"
      },
      "source": [
        "# Calculate the harmonic mean of the total housing units and print it out.\n",
        "\n",
        "from scipy import stats\n",
        "print('harmonic mean of total housing units =', round(stats.hmean(thu_list),2))"
      ],
      "execution_count": 15,
      "outputs": [
        {
          "output_type": "stream",
          "text": [
            "harmonic mean of total housing units = 44398.29\n"
          ],
          "name": "stdout"
        }
      ]
    }
  ]
}