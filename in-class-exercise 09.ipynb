{
  "nbformat": 4,
  "nbformat_minor": 0,
  "metadata": {
    "colab": {
      "name": "Untitled0.ipynb",
      "provenance": [],
      "authorship_tag": "ABX9TyPZhBuHi8Gq+/fx+hcr/uVo",
      "include_colab_link": true
    },
    "kernelspec": {
      "name": "python3",
      "display_name": "Python 3"
    }
  },
  "cells": [
    {
      "cell_type": "markdown",
      "metadata": {
        "id": "view-in-github",
        "colab_type": "text"
      },
      "source": [
        "<a href=\"https://colab.research.google.com/github/VijayaBhargavi198/5731Assignments/blob/master/in-class-exercise%2009.ipynb\" target=\"_parent\"><img src=\"https://colab.research.google.com/assets/colab-badge.svg\" alt=\"Open In Colab\"/></a>"
      ]
    },
    {
      "cell_type": "markdown",
      "metadata": {
        "id": "V0KjJx_Lq1qo"
      },
      "source": [
        "# **The ninth in-class-exercise (20 points in total, 11/11/2020)**"
      ]
    },
    {
      "cell_type": "markdown",
      "metadata": {
        "id": "J8oEKrgnq4Il"
      },
      "source": [
        "The purpose of the exercise is to practice different machine learning algorithms for text classification as well as the performance evaluation. In addition, you are requried to conduct *10 fold cross validation (https://scikit-learn.org/stable/modules/cross_validation.html)* in the training. \n",
        "\n",
        "The dataset can be download from here: https://github.com/unt-iialab/INFO5731_FALL2020/blob/master/In_class_exercise/exercise09_datacollection.zip. The dataset contains two files train data and test data for sentiment analysis in IMDB review, it has two categories: 1 represents positive and 0 represents negative. You need to split the training data into training and validate data (80% for training and 20% for validation, https://towardsdatascience.com/train-test-split-and-cross-validation-in-python-80b61beca4b6) and perform 10 fold cross validation while training the classifier. The final trained model was final evaluated on the test data. \n",
        "\n",
        "Algorithms:\n",
        "\n",
        "(1) MultinominalNB\n",
        "\n",
        "(2) SVM \n",
        "\n",
        "(3) KNN \n",
        "\n",
        "(4) Decision tree\n",
        "\n",
        "(5) Random Forest\n",
        "\n",
        "(6) XGBoost\n",
        "\n",
        "Evaluation measurement:\n",
        "\n",
        "(1) Accuracy\n",
        "\n",
        "(2) Recall\n",
        "\n",
        "(3) Precison \n",
        "\n",
        "(4) F-1 score"
      ]
    },
    {
      "cell_type": "code",
      "metadata": {
        "id": "-H-0xf1aVVWo",
        "outputId": "3ba2c16a-5d3b-46e4-9e93-8671dd7afa5c",
        "colab": {
          "base_uri": "https://localhost:8080/",
          "height": 524
        }
      },
      "source": [
        "# Reading the files, loading and performing basic data cleaning\n",
        "import pandas as pd\n",
        "from nltk.corpus import stopwords\n",
        "from nltk.tokenize import word_tokenize  \n",
        "import re\n",
        "import nltk\n",
        "nltk.download('stopwords')\n",
        "nltk.download('punkt')\n",
        "nltk.download('wordnet')\n",
        "stop_words=stopwords.words(\"english\")\n",
        "\n",
        "#reading the training dataset\n",
        "train_df = pd.read_fwf(r\"/content/sample_data/stsa-train.txt\", header = None)\n",
        "train_df = train_df.rename(columns={0: \"sentiment\", 1: \"comment\"})\n",
        "# Basic cleaning of the training data\n",
        "clean_comment=[]\n",
        "clean_text=[]\n",
        "train_df['comment'] = train_df['comment'].str.replace(r\"\\W\", \" \").str.strip()# 1.To remove special characters and punctuations\n",
        "train_df['comment']= train_df['comment'].str.replace(r'\\d+',\"\") #2.To remove Numbers\n",
        "for a in train_df['comment']:\n",
        "    splitting_words=word_tokenize(str(a))\n",
        "    for b in splitting_words:\n",
        "        if b not in stop_words: #3.Removing Stop Words\n",
        "            b=b.lower() # 4.Coverting text to lower case \n",
        "            clean_text.append(b)\n",
        "    clean_comment.append(' '.join(clean_text))\n",
        "    clean_text.clear()\n",
        "train_df['comment']=pd.DataFrame(clean_comment) #column that we would be using for further analysis\n",
        "#train_df\n",
        "\n",
        "#reading the testing dataset\n",
        "test_df = pd.read_fwf(r\"/content/sample_data/stsa-test.txt\", header = None)\n",
        "test_df = test_df.rename(columns={0: \"sentiment\", 1: \"comment\"})\n",
        "#basic cleaning of test data\n",
        "clean_comments=[]\n",
        "clean_texts=[]\n",
        "test_df['comment'] = test_df['comment'].str.replace(r\"\\W\", \" \").str.strip()# 1.To remove special characters and punctuations\n",
        "test_df['comment']= test_df['comment'].str.replace(r'\\d+',\"\") #2.To remove Numbers\n",
        "for a in test_df['comment']:\n",
        "    splitting_words=word_tokenize(str(a))\n",
        "    for b in splitting_words:\n",
        "        if b not in stop_words: #3.Removing Stop Words\n",
        "            b=b.lower() # 4.Coverting text to lower case \n",
        "            clean_texts.append(b)\n",
        "    clean_comments.append(' '.join(clean_texts))\n",
        "    clean_texts.clear()\n",
        "test_df['comment']=pd.DataFrame(clean_comments) #column that we would be using for further analysis\n",
        "#test_df\n",
        "\n",
        "#extra columns with NAN, that were generated while reading the file, removing those columns from both the dataframes\n",
        "del train_df[2]\n",
        "del test_df[3]\n",
        "del test_df[2]\n",
        "train_df"
      ],
      "execution_count": 106,
      "outputs": [
        {
          "output_type": "stream",
          "text": [
            "[nltk_data] Downloading package stopwords to /root/nltk_data...\n",
            "[nltk_data]   Package stopwords is already up-to-date!\n",
            "[nltk_data] Downloading package punkt to /root/nltk_data...\n",
            "[nltk_data]   Package punkt is already up-to-date!\n",
            "[nltk_data] Downloading package wordnet to /root/nltk_data...\n",
            "[nltk_data]   Package wordnet is already up-to-date!\n"
          ],
          "name": "stdout"
        },
        {
          "output_type": "execute_result",
          "data": {
            "text/html": [
              "<div>\n",
              "<style scoped>\n",
              "    .dataframe tbody tr th:only-of-type {\n",
              "        vertical-align: middle;\n",
              "    }\n",
              "\n",
              "    .dataframe tbody tr th {\n",
              "        vertical-align: top;\n",
              "    }\n",
              "\n",
              "    .dataframe thead th {\n",
              "        text-align: right;\n",
              "    }\n",
              "</style>\n",
              "<table border=\"1\" class=\"dataframe\">\n",
              "  <thead>\n",
              "    <tr style=\"text-align: right;\">\n",
              "      <th></th>\n",
              "      <th>sentiment</th>\n",
              "      <th>comment</th>\n",
              "    </tr>\n",
              "  </thead>\n",
              "  <tbody>\n",
              "    <tr>\n",
              "      <th>0</th>\n",
              "      <td>1</td>\n",
              "      <td>stirring funny finally transporting imagining ...</td>\n",
              "    </tr>\n",
              "    <tr>\n",
              "      <th>1</th>\n",
              "      <td>0</td>\n",
              "      <td>apparently reassembled cutting room floor give...</td>\n",
              "    </tr>\n",
              "    <tr>\n",
              "      <th>2</th>\n",
              "      <td>0</td>\n",
              "      <td>presume audience wo n sit still sociology less...</td>\n",
              "    </tr>\n",
              "    <tr>\n",
              "      <th>3</th>\n",
              "      <td>1</td>\n",
              "      <td>visually stunning rumination love memory histo...</td>\n",
              "    </tr>\n",
              "    <tr>\n",
              "      <th>4</th>\n",
              "      <td>1</td>\n",
              "      <td>jonathan parker bartleby end modern office ano...</td>\n",
              "    </tr>\n",
              "    <tr>\n",
              "      <th>...</th>\n",
              "      <td>...</td>\n",
              "      <td>...</td>\n",
              "    </tr>\n",
              "    <tr>\n",
              "      <th>6915</th>\n",
              "      <td>1</td>\n",
              "      <td>painful horrifying oppressively tragic film mi...</td>\n",
              "    </tr>\n",
              "    <tr>\n",
              "      <th>6916</th>\n",
              "      <td>0</td>\n",
              "      <td>take care nicely performed quintet actresses n...</td>\n",
              "    </tr>\n",
              "    <tr>\n",
              "      <th>6917</th>\n",
              "      <td>0</td>\n",
              "      <td>script covers huge heavy topics bland surfacey...</td>\n",
              "    </tr>\n",
              "    <tr>\n",
              "      <th>6918</th>\n",
              "      <td>0</td>\n",
              "      <td>seriously bad film seriously warped logic writ...</td>\n",
              "    </tr>\n",
              "    <tr>\n",
              "      <th>6919</th>\n",
              "      <td>1</td>\n",
              "      <td>deliciously nonsensical comedy city coming apa...</td>\n",
              "    </tr>\n",
              "  </tbody>\n",
              "</table>\n",
              "<p>6920 rows × 2 columns</p>\n",
              "</div>"
            ],
            "text/plain": [
              "      sentiment                                            comment\n",
              "0             1  stirring funny finally transporting imagining ...\n",
              "1             0  apparently reassembled cutting room floor give...\n",
              "2             0  presume audience wo n sit still sociology less...\n",
              "3             1  visually stunning rumination love memory histo...\n",
              "4             1  jonathan parker bartleby end modern office ano...\n",
              "...         ...                                                ...\n",
              "6915          1  painful horrifying oppressively tragic film mi...\n",
              "6916          0  take care nicely performed quintet actresses n...\n",
              "6917          0  script covers huge heavy topics bland surfacey...\n",
              "6918          0  seriously bad film seriously warped logic writ...\n",
              "6919          1  deliciously nonsensical comedy city coming apa...\n",
              "\n",
              "[6920 rows x 2 columns]"
            ]
          },
          "metadata": {
            "tags": []
          },
          "execution_count": 106
        }
      ]
    },
    {
      "cell_type": "code",
      "metadata": {
        "id": "qZI03S-8VoJw",
        "outputId": "f5531b28-6958-47d8-b9cb-47afec7a0377",
        "colab": {
          "base_uri": "https://localhost:8080/"
        }
      },
      "source": [
        "# splitting the training data into training and validate data (80% for training and 20% for validation)\n",
        "import sklearn\n",
        "from sklearn.model_selection import train_test_split\n",
        "x_train, x_validate, y_train, y_validate = sklearn.model_selection.train_test_split(train_df['comment'], train_df['sentiment'], train_size=0.8, test_size=0.2)\n",
        "print(\"Number of values in Train and Test data after splitting:\", x_train.shape, x_validate.shape) # shows the size of training and validation data(training is 80% and testing is 20%, there are 6920 rows)\n",
        "\n",
        "# Setting k folds for conducting cross vaildation\n",
        "from sklearn.model_selection import KFold\n",
        "k_fold = KFold(n_splits=10)"
      ],
      "execution_count": 111,
      "outputs": [
        {
          "output_type": "stream",
          "text": [
            "Number of values in Train and Test data after splitting: (5536,) (1384,)\n"
          ],
          "name": "stdout"
        }
      ]
    },
    {
      "cell_type": "code",
      "metadata": {
        "id": "VFnGWmu6ZtgS",
        "outputId": "e35cba9e-0245-42a0-e59b-1003b03449a4",
        "colab": {
          "base_uri": "https://localhost:8080/"
        }
      },
      "source": [
        "#Algorithm 1: multinomial NB\n",
        "import numpy as np\n",
        "from sklearn.pipeline import Pipeline\n",
        "from sklearn.feature_extraction.text import CountVectorizer #for vect\n",
        "from sklearn.feature_extraction.text import TfidfTransformer #for tfidf\n",
        "from sklearn.naive_bayes import MultinomialNB # for clf\n",
        "x_train = np.array(x_train) #converting to numpy array for error handling\n",
        "y_train = np.array(y_train) #converting to numpy array for error handling\n",
        "\n",
        "# Define a pipeline combining a text feature extractor with a simple classifier\n",
        "# pipeline = pipeline: ['vect', 'tfidf', 'clf']\n",
        "pipeline = Pipeline([('vect', CountVectorizer()),('tfidf', TfidfTransformer()),('clf', MultinomialNB())])\n",
        "for train_index, test_index in k_fold.split(x_train, y_train):\n",
        "    x_train_kfold, y_train_kfold = x_train[train_index], y_train[train_index]\n",
        "    x_test_kfold, y_test_kfold = x_train[test_index], y_train[test_index]\n",
        "    multinomial_NB = pipeline.fit(x_train_kfold, y_train_kfold)\n",
        "pred_validate = multinomial_NB.predict(x_validate)\n",
        "validation = {'Actual': y_validate, 'Predicted': pred_validate}\n",
        "validation_df = pd.DataFrame(validation, columns = ['Actual', 'Predicted'])\n",
        "print('The predicted sentiments for validation data, in case of multinomial_NB are:\\n', validation_df.head())\n",
        "\n",
        "#Predicting the sentiment on test dataset\n",
        "predicted_sentiment_test = multinomial_NB.predict(test_df['comment'])\n",
        "\n",
        "# finding the Evaluation measurement: Accuracy,Recall,Precison, F-1 score\n",
        "from sklearn.metrics import f1_score, accuracy_score, precision_score, recall_score\n",
        "# Accuracy\n",
        "Multinomial_accuracy=(accuracy_score(test_df['sentiment'], predicted_sentiment_test)*100)\n",
        "print('The Accuracy of MultinomialNB is:',Multinomial_accuracy)\n",
        "# Recall\n",
        "Multinomial_NB_recall = recall_score(test_df['sentiment'], predicted_sentiment_test)\n",
        "print('The Recall score for MultinomialNB is:',Multinomial_NB_recall)\n",
        "# Precison \n",
        "Multinomial_NB_precision =  precision_score(test_df['sentiment'], predicted_sentiment_test)\n",
        "print('The Precision Score for MultinomialNB is:', Multinomial_NB_precision)\n",
        "# F-1 score\n",
        "Multinomial_NB_f1_score = (f1_score(test_df['sentiment'], predicted_sentiment_test))\n",
        "print('The f1_score for MultinomialNB is:', Multinomial_NB_f1_score)\n"
      ],
      "execution_count": 108,
      "outputs": [
        {
          "output_type": "stream",
          "text": [
            "The predicted sentiments for validation data, in case of multinomial_NB are:\n",
            "       Actual  Predicted\n",
            "3467       0          1\n",
            "6300       0          1\n",
            "3691       1          1\n",
            "1120       0          1\n",
            "4186       1          1\n",
            "The Accuracy of MultinomialNB is: 78.5282811641955\n",
            "The Recall score for MultinomialNB is: 0.8800880088008801\n",
            "The Precision Score for MultinomialNB is: 0.7393715341959335\n",
            "The f1_score for MultinomialNB is: 0.8036162732295329\n"
          ],
          "name": "stdout"
        }
      ]
    },
    {
      "cell_type": "code",
      "metadata": {
        "id": "Ds-EK6C5d-4y",
        "outputId": "ed25c6e4-297c-4a3c-e168-e81de50d0e70",
        "colab": {
          "base_uri": "https://localhost:8080/"
        }
      },
      "source": [
        "# Algorithm 2: SVM\n",
        "\n",
        "from sklearn.svm import LinearSVC # for clf\n",
        "\n",
        "# Define a pipeline combining a text feature extractor with a simple classifier\n",
        "# pipeline = pipeline: ['vect', 'tfidf', 'clf']\n",
        "pipeline = Pipeline([('vect', CountVectorizer()),('tfidf', TfidfTransformer()),('clf', LinearSVC())])\n",
        "for train_index, test_index in k_fold.split(x_train, y_train):\n",
        "    x_train_kfold, y_train_kfold = x_train[train_index], y_train[train_index]\n",
        "    x_test_kfold, y_test_kfold = x_train[test_index], y_train[test_index]\n",
        "    SVM_SVC = pipeline.fit(x_train_kfold, y_train_kfold)\n",
        "pred_validate = SVM_SVC.predict(x_validate)\n",
        "validation = {'Actual': y_validate, 'Predicted': pred_validate}\n",
        "validation_df = pd.DataFrame(validation, columns = ['Actual', 'Predicted'])\n",
        "print('The predicted sentiments for validation data in case of SVM are:\\n', validation_df.head())\n",
        "\n",
        "#Predicting the sentiment on test dataset\n",
        "predicted_sentiment_test = SVM_SVC.predict(test_df['comment'])\n",
        "\n",
        "# finding the Evaluation measurement: Accuracy,Recall,Precison, F-1 score\n",
        "from sklearn.metrics import f1_score, accuracy_score, precision_score, recall_score\n",
        "# Accuracy\n",
        "SVM_accuracy=(accuracy_score(test_df['sentiment'], predicted_sentiment_test)*100)\n",
        "print('The accuracy of SVM is:',SVM_accuracy)\n",
        "# Recall\n",
        "SVM_recall = recall_score(test_df['sentiment'], predicted_sentiment_test)\n",
        "print('The Recall score for SVM is:',SVM_recall)\n",
        "# Precison \n",
        "SVM_precision =  precision_score(test_df['sentiment'], predicted_sentiment_test)\n",
        "print('The precision Score for SVM is:', SVM_precision)\n",
        "# F-1 score\n",
        "SVM_f1_score = (f1_score(test_df['sentiment'], predicted_sentiment_test))\n",
        "print('The f1_score for SVM is:', SVM_f1_score)\n"
      ],
      "execution_count": 109,
      "outputs": [
        {
          "output_type": "stream",
          "text": [
            "The predicted sentiments for validation data in case of SVM are:\n",
            "       Actual  Predicted\n",
            "3467       0          1\n",
            "6300       0          0\n",
            "3691       1          1\n",
            "1120       0          1\n",
            "4186       1          1\n",
            "The accuracy of SVM is: 77.81438769906644\n",
            "The Recall score for SVM is: 0.8118811881188119\n",
            "The precision Score for SVM is: 0.7600411946446962\n",
            "The f1_score for SVM is: 0.7851063829787234\n"
          ],
          "name": "stdout"
        }
      ]
    },
    {
      "cell_type": "code",
      "metadata": {
        "id": "1kah4vQqdI5W",
        "outputId": "bf3adf6d-779f-4560-c5ad-4725005e7ff8",
        "colab": {
          "base_uri": "https://localhost:8080/"
        }
      },
      "source": [
        "# Algorithm 3: KNN\n",
        "from sklearn.neighbors import KNeighborsClassifier # for clf\n",
        "\n",
        "# Define a pipeline combining a text feature extractor with a simple classifier\n",
        "# pipeline = pipeline: ['vect', 'tfidf', 'clf']\n",
        "pipeline = Pipeline([('vect', CountVectorizer()),('tfidf', TfidfTransformer()),('clf', KNeighborsClassifier())])\n",
        "for train_index, test_index in k_fold.split(x_train, y_train):\n",
        "    x_train_kfold, y_train_kfold = x_train[train_index], y_train[train_index]\n",
        "    x_test_kfold, y_test_kfold = x_train[test_index], y_train[test_index]\n",
        "    KNN = pipeline.fit(x_train_kfold, y_train_kfold)\n",
        "pred_validate = KNN.predict(x_validate)\n",
        "validation = {'Actual': y_validate, 'Predicted': pred_validate}\n",
        "validation_df = pd.DataFrame(validation, columns = ['Actual', 'Predicted'])\n",
        "print('The predicted sentiment for validation data, in case of KNN are:\\n', validation_df.head())\n",
        "\n",
        "#Predicting the sentiment on test dataset\n",
        "predicted_sentiment_test = KNN.predict(test_df['comment'])\n",
        "\n",
        "# finding the Evaluation measurement: Accuracy,Recall,Precison, F-1 score\n",
        "from sklearn.metrics import f1_score, accuracy_score, precision_score, recall_score\n",
        "# Accuracy\n",
        "KNN_accuracy=(accuracy_score(test_df['sentiment'], predicted_sentiment_test)*100)\n",
        "print('The accuracy of KNN algorithm is:',KNN_accuracy)\n",
        "# Recall\n",
        "KNN_recall = recall_score(test_df['sentiment'], predicted_sentiment_test)\n",
        "print('The Recall score for KNN algorithm is:',KNN_recall)\n",
        "# Precison \n",
        "KNN_precision =  precision_score(test_df['sentiment'], predicted_sentiment_test)\n",
        "print('The precision Score for KNN algorithm is:', KNN_precision)\n",
        "# F-1 score\n",
        "KNN_f1_score = (f1_score(test_df['sentiment'], predicted_sentiment_test))\n",
        "print('The f1_score for KNN algorithm is:', KNN_f1_score)\n"
      ],
      "execution_count": 100,
      "outputs": [
        {
          "output_type": "stream",
          "text": [
            "The predicted sentiment for validation data, in case of KNN are:\n",
            "       Actual  Predicted\n",
            "4470       1          0\n",
            "498        1          0\n",
            "1144       0          0\n",
            "6307       1          0\n",
            "5209       0          0\n",
            "The accuracy of KNN algorithm is: 50.52169137836353\n",
            "The Recall score for KNN algorithm is: 0.011001100110011002\n",
            "The precision Score for KNN algorithm is: 0.8333333333333334\n",
            "The f1_score for KNN algorithm is: 0.02171552660152009\n"
          ],
          "name": "stdout"
        }
      ]
    },
    {
      "cell_type": "code",
      "metadata": {
        "id": "ipXmkHgUhQw6",
        "outputId": "cdcc6313-4e43-49fa-fe95-719b371ce1d2",
        "colab": {
          "base_uri": "https://localhost:8080/"
        }
      },
      "source": [
        "# Algorithm 4: Decision Tree\n",
        "from sklearn import tree # for clf\n",
        "\n",
        "# Define a pipeline combining a text feature extractor with a simple classifier\n",
        "# pipeline = pipeline: ['vect', 'tfidf', 'clf']\n",
        "pipeline = Pipeline([('vect', CountVectorizer()),('tfidf', TfidfTransformer()),('clf', tree.DecisionTreeClassifier())])\n",
        "for train_index, test_index in k_fold.split(x_train, y_train):\n",
        "    x_train_kfold, y_train_kfold = x_train[train_index], y_train[train_index]\n",
        "    x_test_kfold, y_test_kfold = x_train[test_index], y_train[test_index]\n",
        "    Decision_tree = pipeline.fit(x_train_kfold, y_train_kfold)\n",
        "pred_validate = Decision_tree.predict(x_validate)\n",
        "validation = {'Actual': y_validate, 'Predicted': pred_validate}\n",
        "validation_df = pd.DataFrame(validation, columns = ['Actual', 'Predicted'])\n",
        "print('The predicted sentiment for validation data,in case of Decision Tree are:\\n', validation_df.head())\n",
        "\n",
        "#Predicting the sentiment on test dataset\n",
        "predicted_sentiment_test = Decision_tree.predict(test_df['comment'])\n",
        "\n",
        "# finding the Evaluation measurement: Accuracy,Recall,Precison, F-1 score\n",
        "from sklearn.metrics import f1_score, accuracy_score, precision_score, recall_score\n",
        "# Accuracy\n",
        "Decision_tree_accuracy=(accuracy_score(test_df['sentiment'], predicted_sentiment_test)*100)\n",
        "print('The accuracy of Decision Tree algorithm is:',Decision_tree_accuracy)\n",
        "# Recall\n",
        "Decision_tree_recall = recall_score(test_df['sentiment'], predicted_sentiment_test)\n",
        "print('The Recall score for Decision Tree algorithm is:',Decision_tree_recall)\n",
        "# Precison \n",
        "Decision_tree_precision =  precision_score(test_df['sentiment'], predicted_sentiment_test)\n",
        "print('The precision Score for Decision Tree algorithm is:', Decision_tree_precision)\n",
        "# F-1 score\n",
        "Decision_tree_f1_score = (f1_score(test_df['sentiment'], predicted_sentiment_test))\n",
        "print('The f1_score for Decision Tree algorithm is:', Decision_tree_f1_score)\n"
      ],
      "execution_count": 102,
      "outputs": [
        {
          "output_type": "stream",
          "text": [
            "The predicted sentiment for validation data,in case of Decision Tree are:\n",
            "       Actual  Predicted\n",
            "4470       1          0\n",
            "498        1          0\n",
            "1144       0          0\n",
            "6307       1          1\n",
            "5209       0          0\n",
            "The accuracy of Decision Tree algorithm is: 67.43547501372872\n",
            "The Recall score for Decision Tree algorithm is: 0.6622662266226622\n",
            "The precision Score for Decision Tree algorithm is: 0.6779279279279279\n",
            "The f1_score for Decision Tree algorithm is: 0.6700055648302727\n"
          ],
          "name": "stdout"
        }
      ]
    },
    {
      "cell_type": "code",
      "metadata": {
        "id": "XGIPXYjeiySJ",
        "outputId": "13f22874-ee40-4f3d-8f7c-ebd3f73a8ec5",
        "colab": {
          "base_uri": "https://localhost:8080/"
        }
      },
      "source": [
        "# Algorithm 4: Random Forest\n",
        "from sklearn.ensemble import RandomForestClassifier # for clf\n",
        "\n",
        "# Define a pipeline combining a text feature extractor with a simple classifier\n",
        "# pipeline = pipeline: ['vect', 'tfidf', 'clf']\n",
        "pipeline = Pipeline([('vect', CountVectorizer()),('tfidf', TfidfTransformer()),('clf', RandomForestClassifier())])\n",
        "for train_index, test_index in k_fold.split(x_train, y_train):\n",
        "    x_train_kfold, y_train_kfold = x_train[train_index], y_train[train_index]\n",
        "    x_test_kfold, y_test_kfold = x_train[test_index], y_train[test_index]\n",
        "    Random_Forest = pipeline.fit(x_train_kfold, y_train_kfold)\n",
        "pred_validate = Random_Forest.predict(x_validate)\n",
        "validation = {'Actual': y_validate, 'Predicted': pred_validate}\n",
        "validation_df = pd.DataFrame(validation, columns = ['Actual', 'Predicted'])\n",
        "print('The predicted sentiment for validation data in case of Random Forest are:\\n', validation_df.head())\n",
        "\n",
        "#Predicting the sentiment on test dataset\n",
        "predicted_sentiment_test = Random_Forest.predict(test_df['comment'])\n",
        "\n",
        "# finding the Evaluation measurement: Accuracy,Recall,Precison, F-1 score\n",
        "from sklearn.metrics import f1_score, accuracy_score, precision_score, recall_score\n",
        "# Accuracy\n",
        "Random_Forest_accuracy=(accuracy_score(test_df['sentiment'], predicted_sentiment_test)*100)\n",
        "print('The accuracy of Random Forest algorithm is:',Random_Forest_accuracy)\n",
        "# Recall\n",
        "Random_Forest_recall = recall_score(test_df['sentiment'], predicted_sentiment_test)\n",
        "print('The Recall score for Random Forest algorithm is:',Random_Forest_recall)\n",
        "# Precison \n",
        "Random_Forest_precision =  precision_score(test_df['sentiment'], predicted_sentiment_test)\n",
        "print('The precision Score for Random Forest algorithm is:', Random_Forest_precision)\n",
        "# F-1 score\n",
        "Random_Forest_f1_score = (f1_score(test_df['sentiment'], predicted_sentiment_test))\n",
        "print('The f1_score for Random Forest algorithm is:', Random_Forest_f1_score)\n"
      ],
      "execution_count": 103,
      "outputs": [
        {
          "output_type": "stream",
          "text": [
            "The predicted sentiment for validation data in case of Random Forest are:\n",
            "       Actual  Predicted\n",
            "4470       1          1\n",
            "498        1          0\n",
            "1144       0          0\n",
            "6307       1          1\n",
            "5209       0          0\n",
            "The accuracy of Random Forest algorithm is: 74.08017572762219\n",
            "The Recall score for Random Forest algorithm is: 0.6754675467546755\n",
            "The precision Score for Random Forest algorithm is: 0.7762326169405815\n",
            "The f1_score for Random Forest algorithm is: 0.7223529411764706\n"
          ],
          "name": "stdout"
        }
      ]
    },
    {
      "cell_type": "code",
      "metadata": {
        "id": "i6U7VPFDjvrG",
        "outputId": "931af4c4-82d3-434c-d397-309b7b20f24a",
        "colab": {
          "base_uri": "https://localhost:8080/"
        }
      },
      "source": [
        "#Algorithm 6: XGBoost\n",
        "from sklearn.ensemble import GradientBoostingClassifier # for clf\n",
        "\n",
        "# Define a pipeline combining a text feature extractor with a simple classifier\n",
        "# pipeline = pipeline: ['vect', 'tfidf', 'clf']\n",
        "pipeline = Pipeline([('vect', CountVectorizer()),('tfidf', TfidfTransformer()),('clf', GradientBoostingClassifier())])\n",
        "for train_index, test_index in k_fold.split(x_train, y_train):\n",
        "    x_train_kfold, y_train_kfold = x_train[train_index], y_train[train_index]\n",
        "    x_test_kfold, y_test_kfold = x_train[test_index], y_train[test_index]\n",
        "    XGBoost = pipeline.fit(x_train_kfold, y_train_kfold)\n",
        "pred_validate = XGBoost.predict(x_validate)\n",
        "validation = {'Actual': y_validate, 'Predicted': pred_validate}\n",
        "validation_df = pd.DataFrame(validation, columns = ['Actual', 'Predicted'])\n",
        "print('The predicted sentiments for validation data, in case of XGBoost are:\\n', validation_df.head())\n",
        "\n",
        "#Predicting the sentiment on test dataset\n",
        "predicted_sentiment_test = XGBoost.predict(test_df['comment'])\n",
        "\n",
        "# finding the Evaluation measurement: Accuracy,Recall,Precison, F-1 score\n",
        "from sklearn.metrics import f1_score, accuracy_score, precision_score, recall_score\n",
        "# Accuracy\n",
        "XGBoost_accuracy=(accuracy_score(test_df['sentiment'], predicted_sentiment_test)*100)\n",
        "print('The accuracy of XGBoost algorithm is:',XGBoost_accuracy)\n",
        "# Recall\n",
        "XGBoost_recall = recall_score(test_df['sentiment'], predicted_sentiment_test)\n",
        "print('The Recall score for XGBoost algorithm is:',XGBoost_recall)\n",
        "# Precison \n",
        "XGBoost_precision =  precision_score(test_df['sentiment'], predicted_sentiment_test)\n",
        "print('The precision Score for XGBoost algorithm is:', XGBoost_precision)\n",
        "# F-1 score\n",
        "XGBoost_f1_score = (f1_score(test_df['sentiment'], predicted_sentiment_test))\n",
        "print('The f1_score for XGBoost algorithm is:', XGBoost_f1_score)\n"
      ],
      "execution_count": 104,
      "outputs": [
        {
          "output_type": "stream",
          "text": [
            "The predicted sentiments for validation data, in case of XGBoost are:\n",
            "       Actual  Predicted\n",
            "4470       1          1\n",
            "498        1          1\n",
            "1144       0          0\n",
            "6307       1          1\n",
            "5209       0          0\n",
            "The accuracy of XGBoost algorithm is: 65.07413509060956\n",
            "The Recall score for XGBoost algorithm is: 0.8195819581958196\n",
            "The precision Score for XGBoost algorithm is: 0.6121610517666393\n",
            "The f1_score for XGBoost algorithm is: 0.7008466603951082\n"
          ],
          "name": "stdout"
        }
      ]
    },
    {
      "cell_type": "code",
      "metadata": {
        "id": "HBGt1JFYkZNa",
        "outputId": "9be5d91b-d9b3-49b2-bafc-5ee64b1c3926",
        "colab": {
          "base_uri": "https://localhost:8080/",
          "height": 296
        }
      },
      "source": [
        "#comparing the algorithms accuracy using a graph\n",
        "import matplotlib.pyplot as plt\n",
        "Algorithms = ['Multinomial_NB', 'SVM', 'KNN', 'Decision_tree', 'Random_forest', 'XGBoost']\n",
        "Accuracy = [Multinomial_accuracy,SVM_accuracy,KNN_accuracy,Decision_tree_accuracy,Random_Forest_accuracy,XGBoost_accuracy]\n",
        "plt.plot(Algorithms, Accuracy, color='red', marker='o')\n",
        "plt.title('Graph showing Algorithm Vs Accuracy')\n",
        "plt.xlabel('Algorithm')\n",
        "plt.ylabel('Accuracy')\n",
        "plt.show()"
      ],
      "execution_count": 110,
      "outputs": [
        {
          "output_type": "display_data",
          "data": {
            "image/png": "[encoded data removed]",
            "text/plain": [
              "<Figure size 432x288 with 1 Axes>"
            ]
          },
          "metadata": {
            "tags": [],
            "needs_background": "light"
          }
        }
      ]
    },
    {
      "cell_type": "markdown",
      "metadata": {
        "id": "FdyNjAt3t1a5"
      },
      "source": [
        "Accuracy is one of the main measures to find the best algorithms.On Running all algorithms, I found the accuracy to be higher in case of Multinomial_NB compared to all other algorithms.Thus i conclude, for this dataset,Multinomial_NB turned out to be more accurate. Accuracy of Multinomial_NB is 79.68, Where as KNN has the least accuracy"
      ]
    },
    {
      "cell_type": "code",
      "metadata": {
        "id": "Vl2Qx97FwCh-"
      },
      "source": [
        ""
      ],
      "execution_count": null,
      "outputs": []
    }
  ]
}