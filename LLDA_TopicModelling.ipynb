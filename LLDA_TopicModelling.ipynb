{
  "nbformat": 4,
  "nbformat_minor": 0,
  "metadata": {
    "colab": {
      "name": "LLDA_TopicModelling.ipynb",
      "provenance": [],
      "collapsed_sections": [],
      "authorship_tag": "ABX9TyNBN7e7ILF6NRF0VdVVT7Od",
      "include_colab_link": true
    },
    "kernelspec": {
      "name": "python3",
      "display_name": "Python 3"
    }
  },
  "cells": [
    {
      "cell_type": "markdown",
      "metadata": {
        "id": "view-in-github",
        "colab_type": "text"
      },
      "source": [
        "<a href=\"https://colab.research.google.com/github/VijayaBhargavi198/5731Assignments/blob/master/LLDA_TopicModelling.ipynb\" target=\"_parent\"><img src=\"https://colab.research.google.com/assets/colab-badge.svg\" alt=\"Open In Colab\"/></a>"
      ]
    },
    {
      "cell_type": "code",
      "metadata": {
        "id": "9GIXExO533XH"
      },
      "source": [
        "import numpy as np\n",
        "import pandas as pd\n",
        "# Import Dataset\n",
        "input_df = pd.read_json('https://raw.githubusercontent.com/selva86/datasets/master/newsgroups.json')"
      ],
      "execution_count": null,
      "outputs": []
    },
    {
      "cell_type": "code",
      "metadata": {
        "id": "Ud1pTNFs4Tt0",
        "outputId": "d203d8bb-b8c3-47be-91a3-ddcf62596d62",
        "colab": {
          "base_uri": "https://localhost:8080/"
        }
      },
      "source": [
        "from nltk.corpus import stopwords\n",
        "from nltk.tokenize import word_tokenize  \n",
        "import re\n",
        "import nltk\n",
        "from nltk.stem import PorterStemmer\n",
        "nltk.download('stopwords')\n",
        "nltk.download('punkt')\n",
        "nltk.download('wordnet')\n",
        "stemmer=PorterStemmer()\n",
        "input_df['cleaned_data'] = input_df['content']\n",
        "len(input_df['content'])"
      ],
      "execution_count": null,
      "outputs": [
        {
          "output_type": "stream",
          "text": [
            "[nltk_data] Downloading package stopwords to /root/nltk_data...\n",
            "[nltk_data]   Package stopwords is already up-to-date!\n",
            "[nltk_data] Downloading package punkt to /root/nltk_data...\n",
            "[nltk_data]   Package punkt is already up-to-date!\n",
            "[nltk_data] Downloading package wordnet to /root/nltk_data...\n",
            "[nltk_data]   Package wordnet is already up-to-date!\n"
          ],
          "name": "stdout"
        },
        {
          "output_type": "execute_result",
          "data": {
            "text/plain": [
              "11314"
            ]
          },
          "metadata": {
            "tags": []
          },
          "execution_count": 13
        }
      ]
    },
    {
      "cell_type": "code",
      "metadata": {
        "id": "pb1MUOl7vl6h"
      },
      "source": [
        "#changing the whole list into smallercase\n",
        "input_df['cleaned_data'] = input_df['cleaned_data'].str.lower()\n",
        "#converting the dataframe to list\n",
        "data = input_df['cleaned_data'].values.tolist()\n",
        "#Remove new line character\n",
        "data = [re.sub(' $','',sent) for sent in data]\n",
        "# Remove Emails\n",
        "data = [re.sub('\\S*@\\S*\\s?', '', sent) for sent in data]"
      ],
      "execution_count": null,
      "outputs": []
    },
    {
      "cell_type": "code",
      "metadata": {
        "id": "1FkcZYZlvtHW"
      },
      "source": [
        "# list for tokenized documents in loop\n",
        "texts = []\n",
        "# loop through document list\n",
        "for i in data:\n",
        "    \n",
        "    # tokenize document string\n",
        "    tokens = word_tokenize(i)\n",
        "\n",
        "    # remove stop words from tokens\n",
        "    stop_words = set(stopwords.words('english')) \n",
        "    stopped_tokens = [i for i in tokens if not i in stop_words]\n",
        "\n",
        "    #remove punctuations\n",
        "    punctuation = ['~', ':', \"'\", '+', '[', '\\\\', '@', '^', '{', '%', '(', '-', '\"', '*', '|', ',', '&', '<', '`', '}', '.', '_', '=', ']', '!', '>', ';', '?', '#', '$', ')', '/','--']\n",
        "    punt_clear = [i for i in stopped_tokens if not i in punctuation]\n",
        "\n",
        "    # stem tokens\n",
        "    stemmed_tokens = [stemmer.stem(i) for i in punt_clear]\n",
        "    \n",
        "    # add tokens to list\n",
        "    texts.append(stemmed_tokens)\n",
        "texts"
      ],
      "execution_count": null,
      "outputs": []
    },
    {
      "cell_type": "code",
      "metadata": {
        "id": "0_6rkmHGu073",
        "outputId": "acbefd61-1a89-42b7-aa65-b16558202854",
        "colab": {
          "base_uri": "https://localhost:8080/"
        }
      },
      "source": [
        "input_df['cleaned_data']=pd.DataFrame(texts)\n",
        "input_df['cleaned_data']"
      ],
      "execution_count": null,
      "outputs": [
        {
          "output_type": "execute_result",
          "data": {
            "text/plain": [
              "0              's\n",
              "1             guy\n",
              "2           thoma\n",
              "3             joe\n",
              "4        jonathan\n",
              "           ...   \n",
              "11309         jim\n",
              "11310     subject\n",
              "11311         est\n",
              "11312      steven\n",
              "11313       kevin\n",
              "Name: cleaned_data, Length: 11314, dtype: object"
            ]
          },
          "metadata": {
            "tags": []
          },
          "execution_count": 12
        }
      ]
    },
    {
      "cell_type": "code",
      "metadata": {
        "id": "2BB6QySv4Z52"
      },
      "source": [
        ""
      ],
      "execution_count": null,
      "outputs": []
    },
    {
      "cell_type": "code",
      "metadata": {
        "id": "4k0cMtRrCzXm"
      },
      "source": [
        ""
      ],
      "execution_count": null,
      "outputs": []
    }
  ]
}