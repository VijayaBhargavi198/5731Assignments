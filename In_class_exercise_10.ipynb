{
  "nbformat": 4,
  "nbformat_minor": 0,
  "metadata": {
    "colab": {
      "name": "In class exercise 10.ipynb",
      "provenance": [],
      "authorship_tag": "ABX9TyOVyhfe8CmoTesAwTaiGFsd",
      "include_colab_link": true
    },
    "kernelspec": {
      "display_name": "Python 3",
      "name": "python3"
    }
  },
  "cells": [
    {
      "cell_type": "markdown",
      "metadata": {
        "id": "view-in-github",
        "colab_type": "text"
      },
      "source": [
        "<a href=\"https://colab.research.google.com/github/VijayaBhargavi198/5731Assignments/blob/master/In_class_exercise_10.ipynb\" target=\"_parent\"><img src=\"https://colab.research.google.com/assets/colab-badge.svg\" alt=\"Open In Colab\"/></a>"
      ]
    },
    {
      "cell_type": "markdown",
      "metadata": {
        "id": "lOCA_VpD93Xp"
      },
      "source": [
        "# In class exercise 10"
      ]
    },
    {
      "cell_type": "markdown",
      "metadata": {
        "id": "q3Hu1x-J9ubX"
      },
      "source": [
        "The purpose of the exercise is to practice different machine learning algorithms for text clustering\n",
        "Please downlad the dataset by using the following link.  https://www.kaggle.com/PromptCloudHQ/amazon-reviews-unlocked-mobile-phones\n",
        "(You can also use different text data which you want)\n",
        "\n",
        "Apply the listed clustering methods to the dataset:\n",
        "\n",
        "K means, \n",
        "DBSCAN,\n",
        "Hierarchical clustering. \n"
      ]
    },
    {
      "cell_type": "code",
      "metadata": {
        "colab": {
          "base_uri": "https://localhost:8080/",
          "height": 1000
        },
        "id": "wb-CHUTlsGIG",
        "outputId": "9629f481-9714-4731-c0c2-7de0d8799eb4"
      },
      "source": [
        "#cleaning texts\n",
        "from nltk.corpus import stopwords\n",
        "from nltk.tokenize import word_tokenize  \n",
        "import pandas as pd\n",
        "from textblob import Word\n",
        "import numpy as np \n",
        "import matplotlib.pyplot as plt\n",
        "import re\n",
        "import nltk\n",
        "nltk.download('stopwords')\n",
        "nltk.download('punkt')\n",
        "nltk.download('wordnet')\n",
        "stop_words=stopwords.words(\"english\")\n",
        "clean_text_review=[]\n",
        "clean_text=[]\n",
        "df=pd.read_csv(\"/content/sample_data/Amazon_Unlocked_Mobile.csv\")\n",
        "df=df.dropna() \n",
        "input_df=df.sample(n = 25000)\n",
        "# cleaning the text data\n",
        "input_df['cleaned text review'] = input_df['Reviews'].str.replace(r\"\\W\", \" \").str.strip()# 1.To remove special characters and punctuations\n",
        "input_df['cleaned text review'] = input_df['cleaned text review'].str.replace(r'\\d+',\"\") #2.To remove Numbers\n",
        "input_df['cleaned text review'] = input_df['cleaned text review'].apply(lambda x: \" \".join(x.lower() for x in x.split())) #convert the whole text into lower case\n",
        "input_df['cleaned text review'] = input_df['cleaned text review'].apply(lambda x: \" \".join(x for x in x.split() if x not in stop_words)) #remove all stop words\n",
        "input_df['cleaned text review'] = input_df['cleaned text review'].apply(lambda x: \" \".join([Word(word).lemmatize() for word in x.split()])) #lemmatization\n",
        "#input_df['cleaned text review'] # dataframe column that would be used for further process\n",
        "input_df\n"
      ],
      "execution_count": 39,
      "outputs": [
        {
          "output_type": "stream",
          "text": [
            "[nltk_data] Downloading package stopwords to /root/nltk_data...\n",
            "[nltk_data]   Package stopwords is already up-to-date!\n",
            "[nltk_data] Downloading package punkt to /root/nltk_data...\n",
            "[nltk_data]   Package punkt is already up-to-date!\n",
            "[nltk_data] Downloading package wordnet to /root/nltk_data...\n",
            "[nltk_data]   Package wordnet is already up-to-date!\n"
          ],
          "name": "stdout"
        },
        {
          "output_type": "execute_result",
          "data": {
            "text/html": [
              "<div>\n",
              "<style scoped>\n",
              "    .dataframe tbody tr th:only-of-type {\n",
              "        vertical-align: middle;\n",
              "    }\n",
              "\n",
              "    .dataframe tbody tr th {\n",
              "        vertical-align: top;\n",
              "    }\n",
              "\n",
              "    .dataframe thead th {\n",
              "        text-align: right;\n",
              "    }\n",
              "</style>\n",
              "<table border=\"1\" class=\"dataframe\">\n",
              "  <thead>\n",
              "    <tr style=\"text-align: right;\">\n",
              "      <th></th>\n",
              "      <th>Product Name</th>\n",
              "      <th>Brand Name</th>\n",
              "      <th>Price</th>\n",
              "      <th>Rating</th>\n",
              "      <th>Reviews</th>\n",
              "      <th>Review Votes</th>\n",
              "      <th>cleaned text review</th>\n",
              "    </tr>\n",
              "  </thead>\n",
              "  <tbody>\n",
              "    <tr>\n",
              "      <th>45550</th>\n",
              "      <td>Apple iPhone 5s 32GB (Silver) - Verizon Wireless</td>\n",
              "      <td>Apple</td>\n",
              "      <td>209.00</td>\n",
              "      <td>1</td>\n",
              "      <td>Bought this from Best Price Phones or kugs8989...</td>\n",
              "      <td>3.0</td>\n",
              "      <td>bought best price phone kugs february listed n...</td>\n",
              "    </tr>\n",
              "    <tr>\n",
              "      <th>321011</th>\n",
              "      <td>Samsung Galaxy J7 SM-J700H/DS GSM Factory Unlo...</td>\n",
              "      <td>Samsung</td>\n",
              "      <td>209.00</td>\n",
              "      <td>3</td>\n",
              "      <td>The camera fails sometimes when launching it o...</td>\n",
              "      <td>0.0</td>\n",
              "      <td>camera fails sometimes launching trying use ap...</td>\n",
              "    </tr>\n",
              "    <tr>\n",
              "      <th>136337</th>\n",
              "      <td>BLU Studio 5.0 C HD Smartphone - Unlocked - Ye...</td>\n",
              "      <td>BLU</td>\n",
              "      <td>2000.00</td>\n",
              "      <td>5</td>\n",
              "      <td>Excelente</td>\n",
              "      <td>0.0</td>\n",
              "      <td>excelente</td>\n",
              "    </tr>\n",
              "    <tr>\n",
              "      <th>314422</th>\n",
              "      <td>Samsung Galaxy Grand Prime G531H/DS Internatio...</td>\n",
              "      <td>Samsung</td>\n",
              "      <td>189.90</td>\n",
              "      <td>5</td>\n",
              "      <td>The product was exactly as described and shipp...</td>\n",
              "      <td>0.0</td>\n",
              "      <td>product exactly described shipped promptly happy</td>\n",
              "    </tr>\n",
              "    <tr>\n",
              "      <th>101248</th>\n",
              "      <td>Blackberry Torch 9810 Unlocked GSM Phone with ...</td>\n",
              "      <td>BlackBerry</td>\n",
              "      <td>79.99</td>\n",
              "      <td>5</td>\n",
              "      <td>exelente producto se los recomindo llego justo...</td>\n",
              "      <td>0.0</td>\n",
              "      <td>exelente producto se los recomindo llego justo...</td>\n",
              "    </tr>\n",
              "    <tr>\n",
              "      <th>...</th>\n",
              "      <td>...</td>\n",
              "      <td>...</td>\n",
              "      <td>...</td>\n",
              "      <td>...</td>\n",
              "      <td>...</td>\n",
              "      <td>...</td>\n",
              "      <td>...</td>\n",
              "    </tr>\n",
              "    <tr>\n",
              "      <th>230687</th>\n",
              "      <td>LG Nexus 5X Unlocked Smartphone - Mint 16GB (U...</td>\n",
              "      <td>LG</td>\n",
              "      <td>449.00</td>\n",
              "      <td>5</td>\n",
              "      <td>Replacement for a Nexus 4. Very happy. This is...</td>\n",
              "      <td>0.0</td>\n",
              "      <td>replacement nexus happy great phone excellent ...</td>\n",
              "    </tr>\n",
              "    <tr>\n",
              "      <th>298990</th>\n",
              "      <td>POSH MOBILE TITAN PRO HD ANDROID GSM UNLOCKED ...</td>\n",
              "      <td>Posh Mobile</td>\n",
              "      <td>95.00</td>\n",
              "      <td>1</td>\n",
              "      <td>Unless you have very small hands, don't even t...</td>\n",
              "      <td>0.0</td>\n",
              "      <td>unless small hand even think getting</td>\n",
              "    </tr>\n",
              "    <tr>\n",
              "      <th>145111</th>\n",
              "      <td>BLU Studio C 5.0-Inch Android Smartphone with ...</td>\n",
              "      <td>BLU</td>\n",
              "      <td>99.99</td>\n",
              "      <td>5</td>\n",
              "      <td>I love this phone. For the last eight years I ...</td>\n",
              "      <td>26.0</td>\n",
              "      <td>love phone last eight year locked buying new s...</td>\n",
              "    </tr>\n",
              "    <tr>\n",
              "      <th>329210</th>\n",
              "      <td>Samsung Galaxy Note 5 N920C 32GB Factory Unloc...</td>\n",
              "      <td>Samsung</td>\n",
              "      <td>599.00</td>\n",
              "      <td>5</td>\n",
              "      <td>This phone is awesome. It has so many features...</td>\n",
              "      <td>2.0</td>\n",
              "      <td>phone awesome many feature disappoint</td>\n",
              "    </tr>\n",
              "    <tr>\n",
              "      <th>288837</th>\n",
              "      <td>OtterBox SYMMETRY SERIES Case for iPhone 6 Plu...</td>\n",
              "      <td>OtterBox</td>\n",
              "      <td>15.99</td>\n",
              "      <td>5</td>\n",
              "      <td>Beautiful case, fit perfectly. I've always use...</td>\n",
              "      <td>0.0</td>\n",
              "      <td>beautiful case fit perfectly always used otter...</td>\n",
              "    </tr>\n",
              "  </tbody>\n",
              "</table>\n",
              "<p>25000 rows × 7 columns</p>\n",
              "</div>"
            ],
            "text/plain": [
              "                                             Product Name  ...                                cleaned text review\n",
              "45550    Apple iPhone 5s 32GB (Silver) - Verizon Wireless  ...  bought best price phone kugs february listed n...\n",
              "321011  Samsung Galaxy J7 SM-J700H/DS GSM Factory Unlo...  ...  camera fails sometimes launching trying use ap...\n",
              "136337  BLU Studio 5.0 C HD Smartphone - Unlocked - Ye...  ...                                          excelente\n",
              "314422  Samsung Galaxy Grand Prime G531H/DS Internatio...  ...   product exactly described shipped promptly happy\n",
              "101248  Blackberry Torch 9810 Unlocked GSM Phone with ...  ...  exelente producto se los recomindo llego justo...\n",
              "...                                                   ...  ...                                                ...\n",
              "230687  LG Nexus 5X Unlocked Smartphone - Mint 16GB (U...  ...  replacement nexus happy great phone excellent ...\n",
              "298990  POSH MOBILE TITAN PRO HD ANDROID GSM UNLOCKED ...  ...               unless small hand even think getting\n",
              "145111  BLU Studio C 5.0-Inch Android Smartphone with ...  ...  love phone last eight year locked buying new s...\n",
              "329210  Samsung Galaxy Note 5 N920C 32GB Factory Unloc...  ...              phone awesome many feature disappoint\n",
              "288837  OtterBox SYMMETRY SERIES Case for iPhone 6 Plu...  ...  beautiful case fit perfectly always used otter...\n",
              "\n",
              "[25000 rows x 7 columns]"
            ]
          },
          "metadata": {
            "tags": []
          },
          "execution_count": 39
        }
      ]
    },
    {
      "cell_type": "code",
      "metadata": {
        "id": "b4tuu6sjKO15"
      },
      "source": [
        "from sklearn.feature_extraction.text import TfidfVectorizer\n",
        "vectorizer = TfidfVectorizer()\n",
        "tfidf_vectors = vectorizer.fit_transform(input_df['cleaned text review'].values)"
      ],
      "execution_count": 40,
      "outputs": []
    },
    {
      "cell_type": "markdown",
      "metadata": {
        "id": "tsUofhtl9rCM"
      },
      "source": [
        "# K-Means"
      ]
    },
    {
      "cell_type": "code",
      "metadata": {
        "colab": {
          "base_uri": "https://localhost:8080/",
          "height": 329
        },
        "id": "Tx2A2PbqAoQK",
        "outputId": "d94c3bf7-3858-432c-fab1-cc1296448a6a"
      },
      "source": [
        "from sklearn.cluster import KMeans\n",
        "number_of_clusters = [x for x in range(3, 10)]\n",
        "squared_errors = []\n",
        "for cluster in number_of_clusters:\n",
        "    kmeans = KMeans(n_clusters = cluster).fit(tfidf_vectors)\n",
        "    squared_errors.append(kmeans.inertia_)\n",
        "optimal_clusters = np.argmin(squared_errors) + 2 \n",
        "plt.plot(number_of_clusters, squared_errors)\n",
        "plt.title(\"Elbow Curve to find the no. of clusters.\")\n",
        "plt.xlabel(\"Number of clusters.\")\n",
        "plt.ylabel(\"Squared Loss.\")\n",
        "xy = (optimal_clusters, min(squared_errors))\n",
        "plt.annotate('(%s, %s)' % xy, xy = xy, textcoords='data')\n",
        "plt.show()\n",
        "\n",
        "print (\"The optimal number of clusters obtained is - \", optimal_clusters)\n",
        "print (\"The loss for optimal cluster is - \", min(squared_errors))  "
      ],
      "execution_count": 41,
      "outputs": [
        {
          "output_type": "display_data",
          "data": {
            "image/png": "[encoded data removed]",
            "text/plain": [
              "<Figure size 432x288 with 1 Axes>"
            ]
          },
          "metadata": {
            "tags": [],
            "needs_background": "light"
          }
        },
        {
          "output_type": "stream",
          "text": [
            "The optimal number of clusters obtained is -  8\n",
            "The loss for optimal cluster is -  21676.467954005726\n"
          ],
          "name": "stdout"
        }
      ]
    },
    {
      "cell_type": "code",
      "metadata": {
        "colab": {
          "base_uri": "https://localhost:8080/",
          "height": 1000
        },
        "id": "VCfmVAGFBKS7",
        "outputId": "ccd4868a-caf3-44f4-b31e-8612793a2c74"
      },
      "source": [
        "#now from above we can obtain the best or optimal K value\n",
        "#Apply the k means clustering with optimal k \n",
        "optimal_k = 8\n",
        "model = KMeans(n_clusters = optimal_k)\n",
        "model.fit(tfidf_vectors)\n",
        "\n",
        "model_labels = model.labels_\n",
        "cluster_centers = model.cluster_centers_\n",
        "terms = vectorizer.get_feature_names()\n",
        "\n",
        "from sklearn import metrics\n",
        "silhouette_score = metrics.silhouette_score(tfidf_vectors, model_labels, metric='euclidean')\n",
        "print('The Silhouette Score is: ', silhouette_score)\n",
        "\n",
        "# Assigning each review to a cluster\n",
        "input_df['Kmeans_Cluster Labels'] = model_labels\n",
        "\n",
        "# Finding the number of reviews in each cluster\n",
        "print(input_df.groupby(['Kmeans_Cluster Labels'])['Reviews'].count())\n",
        "\n",
        "# Finding the top 10 features of each cluster centriod\n",
        "print(\"Top terms per cluster:\")\n",
        "order_centroids = model.cluster_centers_.argsort()[:, ::-1]\n",
        "for i in range(optimal_k):\n",
        "    print(\"Cluster %d:\" % i, end='')\n",
        "    for ind in order_centroids[i, :optimal_k]:\n",
        "        print(' %s' % terms[ind], end='')\n",
        "        print()\n",
        "        \n",
        "# Visualizing how reviews are distributed across the clusters \n",
        "plt.bar([x for x in range(optimal_k)], input_df.groupby(['Kmeans_Cluster Labels'])['Reviews'].count(),alpha = 0.4)\n",
        "plt.title('KMeans cluster points')\n",
        "plt.xlabel(\"Cluster number\")\n",
        "plt.ylabel(\"Number of points\")\n",
        "plt.show()\n"
      ],
      "execution_count": 42,
      "outputs": [
        {
          "output_type": "stream",
          "text": [
            "The Silhouette Score is:  0.05429443238020145\n",
            "Kmeans_Cluster Labels\n",
            "0      383\n",
            "1      394\n",
            "2     1019\n",
            "3      984\n",
            "4      774\n",
            "5    11015\n",
            "6     9761\n",
            "7      670\n",
            "Name: Reviews, dtype: int64\n",
            "Top terms per cluster:\n",
            "Cluster 0: excelente\n",
            " producto\n",
            " gracias\n",
            " telefono\n",
            " teléfono\n",
            " servicio\n",
            " muy\n",
            " bueno\n",
            "Cluster 1: perfect\n",
            " condition\n",
            " everything\n",
            " work\n",
            " phone\n",
            " thanks\n",
            " thank\n",
            " love\n",
            "Cluster 2: good\n",
            " phone\n",
            " product\n",
            " price\n",
            " quality\n",
            " thanks\n",
            " work\n",
            " far\n",
            "Cluster 3: great\n",
            " phone\n",
            " work\n",
            " price\n",
            " product\n",
            " buy\n",
            " good\n",
            " far\n",
            "Cluster 4: excellent\n",
            " product\n",
            " phone\n",
            " recommended\n",
            " condition\n",
            " good\n",
            " recommend\n",
            " seller\n",
            "Cluster 5: work\n",
            " product\n",
            " good\n",
            " ok\n",
            " nice\n",
            " great\n",
            " excelent\n",
            " phone\n",
            "Cluster 6: phone\n",
            " great\n",
            " like\n",
            " good\n",
            " work\n",
            " one\n",
            " battery\n",
            " new\n",
            "Cluster 7: love\n",
            " phone\n",
            " great\n",
            " daughter\n",
            " son\n",
            " work\n",
            " new\n",
            " good\n"
          ],
          "name": "stdout"
        },
        {
          "output_type": "display_data",
          "data": {
            "image/png": "[encoded data removed]",
            "text/plain": [
              "<Figure size 432x288 with 1 Axes>"
            ]
          },
          "metadata": {
            "tags": [],
            "needs_background": "light"
          }
        }
      ]
    },
    {
      "cell_type": "markdown",
      "metadata": {
        "id": "ek27awi09ksp"
      },
      "source": [
        "# DBSCAN"
      ]
    },
    {
      "cell_type": "code",
      "metadata": {
        "id": "TWX9Nr4gR-o5"
      },
      "source": [
        "import gensim\n",
        "import numpy as np\n",
        "from sklearn.cluster import DBSCAN\n",
        "# Computing 200th Nearest neighbour distance\n",
        "minPts = 2 * 100\n",
        "def lower_bound(nums, target): # This function return the number in the array just greater than or equal to itself.\n",
        "    l, r = 0, len(nums) - 1\n",
        "    while l <= r: # Binary searching.\n",
        "        mid = int(l + (r - l) / 2)\n",
        "        if nums[mid] >= target:\n",
        "            r = mid - 1\n",
        "        else:\n",
        "            l = mid + 1\n",
        "    return l\n",
        "\n",
        "def compute200thnearestneighbour(x, data): # Returns the distance of 200th nearest neighbour.\n",
        "    dists = []\n",
        "    for val in data:\n",
        "        dist = np.sum((x - val) **2 ) # computing distances.\n",
        "        if(len(dists) == 200 and dists[199] > dist): # If distance is larger than current largest distance found.\n",
        "            l = int(lower_bound(dists, dist)) # Using the lower bound function to get the right position.\n",
        "            if l < 200 and l >= 0 and dists[l] > dist:\n",
        "                dists[l] = dist\n",
        "        else:\n",
        "            dists.append(dist)\n",
        "            dists.sort()\n",
        "    \n",
        "    return dists[199] # Dist 199 contains the distance of 200th nearest neighbour."
      ],
      "execution_count": 43,
      "outputs": []
    },
    {
      "cell_type": "code",
      "metadata": {
        "colab": {
          "base_uri": "https://localhost:8080/"
        },
        "id": "jROz4b2tVH2w",
        "outputId": "e4864d23-a4d0-4fa2-ea99-e441cfd5c89d"
      },
      "source": [
        "# Just like Kmeans where we found optimal-k, find optimal epsilon\n",
        "#creating text corpus\n",
        "review_list= []\n",
        "for review in input_df['cleaned text review'].values:\n",
        "    review_list.append(review.split())\n",
        "\n",
        "# Training the wor2vec model using train dataset\n",
        "w2v_model=gensim.models.Word2Vec(review_list,size=100, workers=4)\n",
        "\n",
        "review_vectors = []; # the avg-w2v for each sentence/review is stored in this train\n",
        "for review in review_list: # for each review/sentence\n",
        "    review_vec = np.zeros(100) # as word vectors are of zero length\n",
        "    cnt_words =0; # num of words with a valid vector in the sentence/review\n",
        "    for word in review: # for each word in a review/sentence\n",
        "        try:\n",
        "            vec = w2v_model.wv[word]\n",
        "            review_vec += vec\n",
        "            cnt_words += 1\n",
        "        except:\n",
        "            pass\n",
        "    review_vec /= cnt_words\n",
        "    review_vectors.append(review_vec)\n",
        "review_vectors = np.array(review_vectors)\n",
        "review_vectors = np.nan_to_num(review_vectors)\n",
        "review_vectors.shape"
      ],
      "execution_count": 44,
      "outputs": [
        {
          "output_type": "stream",
          "text": [
            "/usr/local/lib/python3.6/dist-packages/ipykernel_launcher.py:21: RuntimeWarning: invalid value encountered in true_divide\n"
          ],
          "name": "stderr"
        },
        {
          "output_type": "execute_result",
          "data": {
            "text/plain": [
              "(25000, 100)"
            ]
          },
          "metadata": {
            "tags": []
          },
          "execution_count": 44
        }
      ]
    },
    {
      "cell_type": "code",
      "metadata": {
        "colab": {
          "base_uri": "https://localhost:8080/",
          "height": 265
        },
        "id": "wCYnuAXqVLeq",
        "outputId": "9f6e910c-be6a-4c0b-c616-99f70c571561"
      },
      "source": [
        "# Computing the 200th nearest neighbour distance of some point the dataset:\n",
        "twohundrethneigh = []\n",
        "for val in review_vectors[:1500]:\n",
        "    twohundrethneigh.append( compute200thnearestneighbour(val, review_vectors[:1500]) )\n",
        "twohundrethneigh.sort()\n",
        "# Plotting for the Elbow Method :\n",
        "plt.figure(figsize=(14,4))\n",
        "plt.title(\"Elbow Method for Finding the right Eps hyperparameter\")\n",
        "plt.plot([x for x in range(len(twohundrethneigh))], twohundrethneigh)\n",
        "plt.xlabel(\"Number of points\")\n",
        "plt.ylabel(\"Distance of 200th Nearest Neighbour\")\n",
        "plt.show()"
      ],
      "execution_count": 45,
      "outputs": [
        {
          "output_type": "display_data",
          "data": {
            "image/png": "[encoded data removed]",
            "text/plain": [
              "<Figure size 1008x288 with 1 Axes>"
            ]
          },
          "metadata": {
            "tags": [],
            "needs_background": "light"
          }
        }
      ]
    },
    {
      "cell_type": "code",
      "metadata": {
        "colab": {
          "base_uri": "https://localhost:8080/"
        },
        "id": "jO_WZNIbVQZe",
        "outputId": "413f3a84-c7a3-4a04-cb27-e2d31152f567"
      },
      "source": [
        "# Applying the DBSCAN clustering using optimal epsilon.\n",
        "from sklearn.cluster import DBSCAN\n",
        "dbscan = DBSCAN(eps = 15, min_samples = minPts).fit(review_vectors)\n",
        "\n",
        "# Assigning each review to a cluster\n",
        "input_df['DBSCAN_Cluster Labels'] = dbscan.labels_\n",
        "\n",
        "# Finding the number of reviews in each cluster\n",
        "print(input_df.groupby(['DBSCAN_Cluster Labels'])['Reviews'].count())"
      ],
      "execution_count": 46,
      "outputs": [
        {
          "output_type": "stream",
          "text": [
            "DBSCAN_Cluster Labels\n",
            "0    25000\n",
            "Name: Reviews, dtype: int64\n"
          ],
          "name": "stdout"
        }
      ]
    },
    {
      "cell_type": "markdown",
      "metadata": {
        "id": "WpR0Ws179NVb"
      },
      "source": [
        "# Hierarchical clustering"
      ]
    },
    {
      "cell_type": "code",
      "metadata": {
        "colab": {
          "base_uri": "https://localhost:8080/",
          "height": 288
        },
        "id": "E5HHeXshXxTC",
        "outputId": "7237eacc-90b4-4823-90b1-e72864dda3ff"
      },
      "source": [
        "import scipy\n",
        "from scipy.cluster import hierarchy\n",
        "dendro=hierarchy.dendrogram(hierarchy.linkage(review_vectors,method='ward'))\n",
        "plt.axhline(y=100)# cut at 100"
      ],
      "execution_count": 47,
      "outputs": [
        {
          "output_type": "execute_result",
          "data": {
            "text/plain": [
              "<matplotlib.lines.Line2D at 0x7f21f137f550>"
            ]
          },
          "metadata": {
            "tags": []
          },
          "execution_count": 47
        },
        {
          "output_type": "display_data",
          "data": {
            "image/png": "[encoded data removed]",
            "text/plain": [
              "<Figure size 432x288 with 1 Axes>"
            ]
          },
          "metadata": {
            "tags": [],
            "needs_background": "light"
          }
        }
      ]
    },
    {
      "cell_type": "code",
      "metadata": {
        "colab": {
          "base_uri": "https://localhost:8080/"
        },
        "id": "sT3MTxA7ayey",
        "outputId": "efd4a03f-e081-4059-93b4-0a15e024bc26"
      },
      "source": [
        " #applying aggomerative method with 7 clusters\n",
        " #took n_cluster=6 from dendrogram curve \n",
        "from sklearn.cluster import AgglomerativeClustering \n",
        "h_clustering = AgglomerativeClustering(n_clusters=7, affinity='euclidean', linkage='ward') \n",
        "Agg=h_clustering.fit_predict(review_vectors)\n",
        "labels= h_clustering.labels_\n",
        "# Adding a column for hierarichial labels in dataset, assigning labels to each review like before\n",
        "input_df['Hierarchical_Cluster Labels'] = labels\n",
        "# Finding the number of reviews in each cluster\n",
        "input_df.groupby(['Hierarchical_Cluster Labels'])['Reviews'].count()"
      ],
      "execution_count": 48,
      "outputs": [
        {
          "output_type": "execute_result",
          "data": {
            "text/plain": [
              "Hierarchical_Cluster Labels\n",
              "0    7297\n",
              "1    1269\n",
              "2    3284\n",
              "3    1366\n",
              "4    9143\n",
              "5     842\n",
              "6    1799\n",
              "Name: Reviews, dtype: int64"
            ]
          },
          "metadata": {
            "tags": []
          },
          "execution_count": 48
        }
      ]
    },
    {
      "cell_type": "markdown",
      "metadata": {
        "id": "ipdorXo_9Y-V"
      },
      "source": [
        "# Analysis"
      ]
    },
    {
      "cell_type": "markdown",
      "metadata": {
        "id": "03iixUYZ9Hg4"
      },
      "source": [
        "K-means is a centroid-based clustering algorithm.  This algorithm partitions all the points in the sample into K groups of similarity. The similarity is usually measured using Euclidian Distance.\n",
        "DBScan is a density-based clustering algorithm. The key factor is the neighbourhood of each point in a cluster which is within a given radius.\n",
        "Hierarchical clustering, as the name suggests is an algorithm that builds hierarchy of clusters.It gives us information also about clusters within clusters.\n",
        "For my information once optimal K is found and model is fitted with optimal K, then i think in my case K-mens proves to be the most efficient and flexible. "
      ]
    }
  ]
}