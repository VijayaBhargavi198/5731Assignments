{
  "nbformat": 4,
  "nbformat_minor": 0,
  "metadata": {
    "colab": {
      "name": "In_class_exercise_07.ipynb",
      "provenance": [],
      "authorship_tag": "ABX9TyOB6ysb6CAdD+7GP1Ad6ZhA",
      "include_colab_link": true
    },
    "kernelspec": {
      "name": "python3",
      "display_name": "Python 3"
    }
  },
  "cells": [
    {
      "cell_type": "markdown",
      "metadata": {
        "id": "view-in-github",
        "colab_type": "text"
      },
      "source": [
        "<a href=\"https://colab.research.google.com/github/VijayaBhargavi198/5731Assignments/blob/master/In_class_exercise_07.ipynb\" target=\"_parent\"><img src=\"https://colab.research.google.com/assets/colab-badge.svg\" alt=\"Open In Colab\"/></a>"
      ]
    },
    {
      "cell_type": "markdown",
      "metadata": {
        "id": "wfCZgtvSm66y"
      },
      "source": [
        "# **The seventh in-class-exercise (20 points in total, 10/21/2020)**"
      ]
    },
    {
      "cell_type": "markdown",
      "metadata": {
        "id": "bZOXlLK9nvzt"
      },
      "source": [
        "## (1) (8 points) Generate K topics by using LDA, the number of topics K should be decided by the coherence score, then summarize what are the topics. You may refer the code here: \n",
        "\n",
        "https://www.machinelearningplus.com/nlp/topic-modeling-gensim-python/\n",
        "\n"
      ]
    },
    {
      "cell_type": "code",
      "metadata": {
        "id": "5lLfwRq6O9j3"
      },
      "source": [
        "!pip install spacy-langdetect\n",
        "!pip install language-detector\n",
        "!pip install symspellpy\n",
        "!pip install sentence-transformers\n",
        "!pip install pysbd\n",
        "!pip install pyLDAvis"
      ],
      "execution_count": null,
      "outputs": []
    },
    {
      "cell_type": "code",
      "metadata": {
        "id": "b5qW1gnvQzm6",
        "outputId": "768ae293-c289-49ad-a445-4f534ed6b902",
        "colab": {
          "base_uri": "https://localhost:8080/",
          "height": 204
        }
      },
      "source": [
        "import re\n",
        "import numpy as np\n",
        "import pandas as pd\n",
        "from pprint import pprint\n",
        "# Gensim imports\n",
        "import gensim\n",
        "import gensim.corpora as corpora\n",
        "from gensim.utils import simple_preprocess\n",
        "from gensim.models import CoherenceModel\n",
        "import spacy\n",
        "import pyLDAvis\n",
        "import pyLDAvis.gensim \n",
        "import matplotlib.pyplot as plt\n",
        "%matplotlib inline\n",
        "import logging\n",
        "logging.basicConfig(format='%(asctime)s : %(levelname)s : %(message)s', level=logging.ERROR)\n",
        "import warnings\n",
        "warnings.filterwarnings(\"ignore\",category=DeprecationWarning)\n",
        "import pandas as pd\n",
        "df=pd.read_csv(\"/content/sample_data/MachineLearning.csv\")\n",
        "df.head(5)"
      ],
      "execution_count": 62,
      "outputs": [
        {
          "output_type": "execute_result",
          "data": {
            "text/html": [
              "<div>\n",
              "<style scoped>\n",
              "    .dataframe tbody tr th:only-of-type {\n",
              "        vertical-align: middle;\n",
              "    }\n",
              "\n",
              "    .dataframe tbody tr th {\n",
              "        vertical-align: top;\n",
              "    }\n",
              "\n",
              "    .dataframe thead th {\n",
              "        text-align: right;\n",
              "    }\n",
              "</style>\n",
              "<table border=\"1\" class=\"dataframe\">\n",
              "  <thead>\n",
              "    <tr style=\"text-align: right;\">\n",
              "      <th></th>\n",
              "      <th>Titles</th>\n",
              "    </tr>\n",
              "  </thead>\n",
              "  <tbody>\n",
              "    <tr>\n",
              "      <th>0</th>\n",
              "      <td>Machine learning</td>\n",
              "    </tr>\n",
              "    <tr>\n",
              "      <th>1</th>\n",
              "      <td>Introduction to machine learning</td>\n",
              "    </tr>\n",
              "    <tr>\n",
              "      <th>2</th>\n",
              "      <td>Scikit-learn: Machine learning in Python</td>\n",
              "    </tr>\n",
              "    <tr>\n",
              "      <th>3</th>\n",
              "      <td>Pattern recognition and machine learning</td>\n",
              "    </tr>\n",
              "    <tr>\n",
              "      <th>4</th>\n",
              "      <td>Genetic algorithms and machine learning</td>\n",
              "    </tr>\n",
              "  </tbody>\n",
              "</table>\n",
              "</div>"
            ],
            "text/plain": [
              "                                      Titles\n",
              "0                           Machine learning\n",
              "1           Introduction to machine learning\n",
              "2   Scikit-learn: Machine learning in Python\n",
              "3   Pattern recognition and machine learning\n",
              "4    Genetic algorithms and machine learning"
            ]
          },
          "metadata": {
            "tags": []
          },
          "execution_count": 62
        }
      ]
    },
    {
      "cell_type": "code",
      "metadata": {
        "id": "x9cCCNu-ShAn",
        "outputId": "4a2e93c7-54f6-4b8e-d591-d76f2fd433da",
        "colab": {
          "base_uri": "https://localhost:8080/",
          "height": 224
        }
      },
      "source": [
        "df[\"Titles\"]"
      ],
      "execution_count": 81,
      "outputs": [
        {
          "output_type": "execute_result",
          "data": {
            "text/plain": [
              "0                                      machine learning\n",
              "1                      introduction to machine learning\n",
              "2              scikit-learn: machine learning in python\n",
              "3              pattern recognition and machine learning\n",
              "4               genetic algorithms and machine learning\n",
              "                            ...                        \n",
              "95    ensemble machine learning: methods and applica...\n",
              "96    how the machine 'thinks': understanding opacit...\n",
              "97    convolutional lstm network: a machine learning...\n",
              "98    machine learning classifiers and fmri: a tutor...\n",
              "99    flow clustering using machine learning techniques\n",
              "Name: Titles, Length: 100, dtype: object"
            ]
          },
          "metadata": {
            "tags": []
          },
          "execution_count": 81
        }
      ]
    },
    {
      "cell_type": "code",
      "metadata": {
        "id": "5o9eLiUtSc7n",
        "outputId": "3ae5e1b6-49c2-4a89-a1d9-7f32c2052c2f",
        "colab": {
          "base_uri": "https://localhost:8080/",
          "height": 34
        }
      },
      "source": [
        "#PREPROCESSING\n",
        "#changing the whole list into smallercase\n",
        "df[\"Titles\"] = df[\"Titles\"].str.lower()\n",
        "#converting the dataframe to list\n",
        "data = df[\"Titles\"].values.tolist()\n",
        "#Remove new line character\n",
        "data = [re.sub(' $','',sent) for sent in data]\n",
        "# Remove Emails\n",
        "data = [re.sub('\\S*@\\S*\\s?', '', sent) for sent in data]\n",
        "#Remove single quotes\n",
        "data = [re.sub('\\s+',' ',sent) for sent in data]\n",
        "#Remove colons\n",
        "data = [re.sub(':','',sent) for sent in data]\n",
        "#Remove hipens fron hipenated words\n",
        "data = [re.sub('-','',sent) for sent in data]\n",
        "print(data[:2])"
      ],
      "execution_count": 103,
      "outputs": [
        {
          "output_type": "stream",
          "text": [
            "['machine learning', 'introduction to machine learning']\n"
          ],
          "name": "stdout"
        }
      ]
    },
    {
      "cell_type": "code",
      "metadata": {
        "id": "UXaAIh-hLkyC",
        "outputId": "454225f7-44d8-4efe-b74b-254f96ddc905",
        "colab": {
          "base_uri": "https://localhost:8080/",
          "height": 1000
        }
      },
      "source": [
        "import nltk; \n",
        "nltk.download('stopwords')\n",
        "# list for tokenized documents in loop\n",
        "texts = []\n",
        "\n",
        "# loop through document list\n",
        "for i in data:\n",
        "    \n",
        "    # tokenize document string\n",
        "    tokens = tokenizer.tokenize(i)\n",
        "\n",
        "    # remove stop words from tokens\n",
        "    stop_words = set(stopwords.words('english')) \n",
        "    stopped_tokens = [i for i in tokens if not i in stop_words]\n",
        "    \n",
        "    # stem tokens\n",
        "    stemmed_tokens = [p_stemmer.stem(i) for i in stopped_tokens]\n",
        "    \n",
        "    # add tokens to list\n",
        "    texts.append(stemmed_tokens)\n",
        "texts"
      ],
      "execution_count": 121,
      "outputs": [
        {
          "output_type": "stream",
          "text": [
            "[nltk_data] Downloading package stopwords to /root/nltk_data...\n",
            "[nltk_data]   Package stopwords is already up-to-date!\n"
          ],
          "name": "stdout"
        },
        {
          "output_type": "execute_result",
          "data": {
            "text/plain": [
              "[['machin', 'learn'],\n",
              " ['introduct', 'machin', 'learn'],\n",
              " ['scikitlearn', 'machin', 'learn', 'python'],\n",
              " ['pattern', 'recognit', 'machin', 'learn'],\n",
              " ['genet', 'algorithm', 'machin', 'learn'],\n",
              " ['quantum', 'machin', 'learn'],\n",
              " ['machin', 'learn', 'action'],\n",
              " ['foundat', 'machin', 'learn'],\n",
              " ['gaussian', 'process', 'machin', 'learn'],\n",
              " ['machin', 'learn', 'probabilist', 'perspect'],\n",
              " ['weka', 'machin', 'learn', 'workbench'],\n",
              " ['uci', 'machin', 'learn', 'repositori'],\n",
              " ['dlibml', 'machin', 'learn', 'toolkit'],\n",
              " ['machinelearn', 'research'],\n",
              " ['ensembl', 'method', 'machin', 'learn'],\n",
              " ['machin', 'learn', 'trend', 'perspect', 'prospect'],\n",
              " ['machin', 'learn', 'autom', 'text', 'categor'],\n",
              " ['c4', '5', 'program', 'machin', 'learn'],\n",
              " ['select', 'relev', 'featur', 'exampl', 'machin', 'learn'],\n",
              " ['bioinformat', 'machin', 'learn', 'approach'],\n",
              " ['machin', 'learn', 'algorithm', 'perspect'],\n",
              " ['data',\n",
              "  'mine',\n",
              "  'practic',\n",
              "  'machin',\n",
              "  'learn',\n",
              "  'tool',\n",
              "  'techniqu',\n",
              "  'java',\n",
              "  'implement'],\n",
              " ['thumb', 'sentiment', 'classif', 'use', 'machin', 'learn', 'techniqu'],\n",
              " ['practic', 'bayesian', 'optim', 'machin', 'learn', 'algorithm'],\n",
              " ['correlationbas', 'featur', 'select', 'machin', 'learn'],\n",
              " ['machin', 'learn', 'highspe', 'corner', 'detect'],\n",
              " ['python', 'machin', 'learn'],\n",
              " ['adversari', 'machin', 'learn'],\n",
              " ['understand', 'machin', 'learn', 'theori', 'algorithm'],\n",
              " ['supervis', 'machin', 'learn', 'review', 'classif', 'techniqu'],\n",
              " ['largescal', 'machin', 'learn', 'stochast', 'gradient', 'descent'],\n",
              " ['mllib', 'machin', 'learn', 'apach', 'spark'],\n",
              " ['machin', 'learn', 'medicin'],\n",
              " ['dataset', 'shift', 'machin', 'learn'],\n",
              " ['tensorflow', 'system', 'largescal', 'machin', 'learn'],\n",
              " ['optim', 'machin', 'learn'],\n",
              " ['encyclopedia', 'machin', 'learn'],\n",
              " ['element', 'machin', 'learn'],\n",
              " ['python', 'machin', 'learn'],\n",
              " ['machin', 'learn', 'appli', 'econometr', 'approach'],\n",
              " ['mapreduc', 'machin', 'learn', 'multicor'],\n",
              " ['tensorflow',\n",
              "  'largescal',\n",
              "  'machin',\n",
              "  'learn',\n",
              "  'heterogen',\n",
              "  'distribut',\n",
              "  'system'],\n",
              " ['big', 'data', 'machin', 'learn', 'health', 'care'],\n",
              " ['machin', 'learn', 'medic', 'imag'],\n",
              " ['kernel', 'method', 'machin', 'learn'],\n",
              " ['bayesian', 'reason', 'machin', 'learn'],\n",
              " ['increment', 'decrement', 'support', 'vector', 'machin', 'learn'],\n",
              " ['machin', 'learn', 'secur'],\n",
              " ['adversari', 'machin', 'learn', 'scale'],\n",
              " ['machin', 'learn', 'basic'],\n",
              " ['predict', 'futur', 'big', 'data', 'machin', 'learn', 'clinic', 'medicin'],\n",
              " ['machin', 'learn', 'medicin'],\n",
              " ['machin', 'learn', 'molecular', 'materi', 'scienc'],\n",
              " ['dadiannao', 'machinelearn', 'supercomput'],\n",
              " ['gaussian', 'process', 'machin', 'learn'],\n",
              " ['effici', 'robust', 'autom', 'machin', 'learn'],\n",
              " ['toward', 'rigor', 'scienc', 'interpret', 'machin', 'learn'],\n",
              " ['disciplin', 'machin', 'learn'],\n",
              " ['optim', 'method', 'largescal', 'machin', 'learn'],\n",
              " ['use', 'thing', 'know', 'machin', 'learn'],\n",
              " ['machin', 'learn', 'phase', 'matter'],\n",
              " ['studi', 'machin', 'learn', 'use', 'game', 'checker'],\n",
              " ['machin', 'learn', 'r'],\n",
              " ['machin', 'learn', 'data', 'mine'],\n",
              " ['read', 'machin', 'learn'],\n",
              " ['interact', 'machin', 'learn'],\n",
              " ['multiag', 'system', 'survey', 'machin', 'learn', 'perspect'],\n",
              " ['support',\n",
              "  'vector',\n",
              "  'machin',\n",
              "  'learn',\n",
              "  'interdepend',\n",
              "  'structur',\n",
              "  'output',\n",
              "  'space'],\n",
              " ['machin', 'learn', 'physic', 'scienc'],\n",
              " ['spars', 'greedi', 'matrix', 'approxim', 'machin', 'learn'],\n",
              " ['torch7', 'matlablik', 'environ', 'machin', 'learn'],\n",
              " ['membership', 'infer', 'attack', 'machin', 'learn', 'model'],\n",
              " ['boost', 'approach', 'machin', 'learn', 'overview'],\n",
              " ['machin', 'learn', 'applic', 'genet', 'genom'],\n",
              " ['machin', 'learn', 'bioinformat'],\n",
              " ['machin', 'learn', 'user', 'model'],\n",
              " ['intrus', 'detect', 'machin', 'learn', 'review'],\n",
              " ['immun', 'system', 'adapt', 'machin', 'learn'],\n",
              " ['introduct', 'machin', 'learn'],\n",
              " ['probabilist', 'machin', 'learn', 'artifici', 'intellig'],\n",
              " ['gaussian', 'process', 'machin', 'learn'],\n",
              " ['implement',\n",
              "  'machin',\n",
              "  'learn',\n",
              "  'health',\n",
              "  'care',\n",
              "  'address',\n",
              "  'ethic',\n",
              "  'challeng'],\n",
              " ['nextgener', 'machin', 'learn', 'biolog', 'network'],\n",
              " ['machin', 'learn', 'radiolog'],\n",
              " ['fashionmnist',\n",
              "  'novel',\n",
              "  'imag',\n",
              "  'dataset',\n",
              "  'benchmark',\n",
              "  'machin',\n",
              "  'learn',\n",
              "  'algorithm'],\n",
              " ['multimod', 'machin', 'learn', 'survey', 'taxonomi'],\n",
              " ['moleculenet', 'benchmark', 'molecular', 'machin', 'learn'],\n",
              " ['shogun', 'machin', 'learn', 'toolbox'],\n",
              " ['memo', 'function', 'machin', 'learn'],\n",
              " ['structur', 'health', 'monitor', 'machin', 'learn', 'perspect'],\n",
              " ['autom', 'machin', 'learn', 'method', 'system', 'challeng'],\n",
              " ['faster', 'better', 'machin', 'learn', 'approach', 'corner', 'detect'],\n",
              " ['feder', 'machin', 'learn', 'concept', 'applic'],\n",
              " ['practic', 'featur', 'subset', 'select', 'machin', 'learn'],\n",
              " ['machin', 'learn', 'paradigm', 'nextgener', 'wireless', 'network'],\n",
              " ['ensembl', 'machin', 'learn', 'method', 'applic'],\n",
              " ['machin', 'think', 'understand', 'opac', 'machin', 'learn', 'algorithm'],\n",
              " ['convolut',\n",
              "  'lstm',\n",
              "  'network',\n",
              "  'machin',\n",
              "  'learn',\n",
              "  'approach',\n",
              "  'precipit',\n",
              "  'nowcast'],\n",
              " ['machin', 'learn', 'classifi', 'fmri', 'tutori', 'overview'],\n",
              " ['flow', 'cluster', 'use', 'machin', 'learn', 'techniqu']]"
            ]
          },
          "metadata": {
            "tags": []
          },
          "execution_count": 121
        }
      ]
    },
    {
      "cell_type": "code",
      "metadata": {
        "id": "2Y5Mer9VPLax",
        "outputId": "71b37a1e-8a89-416b-c5fa-cdf9947574c0",
        "colab": {
          "base_uri": "https://localhost:8080/",
          "height": 68
        }
      },
      "source": [
        "# Build the bigram and trigram models\n",
        "bigram = gensim.models.Phrases(texts, min_count=5, threshold=100) # higher threshold fewer phrases.\n",
        "trigram = gensim.models.Phrases(bigram[texts], threshold=100)  \n",
        "\n",
        "# Faster way to get a sentence clubbed as a trigram/bigram\n",
        "bigram_mod = gensim.models.phrases.Phraser(bigram)\n",
        "trigram_mod = gensim.models.phrases.Phraser(trigram)\n",
        "\n",
        "# See trigram example\n",
        "print(trigram_mod[bigram_mod[texts[10]]])"
      ],
      "execution_count": 122,
      "outputs": [
        {
          "output_type": "stream",
          "text": [
            "['weka', 'machin', 'learn', 'workbench']\n"
          ],
          "name": "stdout"
        },
        {
          "output_type": "stream",
          "text": [
            "/usr/local/lib/python3.6/dist-packages/gensim/models/phrases.py:598: UserWarning: For a faster implementation, use the gensim.models.phrases.Phraser class\n",
            "  warnings.warn(\"For a faster implementation, use the gensim.models.phrases.Phraser class\")\n"
          ],
          "name": "stderr"
        }
      ]
    },
    {
      "cell_type": "code",
      "metadata": {
        "id": "f55JeGrbWrJn",
        "outputId": "167df4fc-f06f-42ec-e96e-08d19a55c7a7",
        "colab": {
          "base_uri": "https://localhost:8080/",
          "height": 34
        }
      },
      "source": [
        "def make_bigrams(texts):\n",
        "    return [bigram_mod[doc] for doc in texts]\n",
        "\n",
        "def make_trigrams(texts):\n",
        "    return [trigram_mod[bigram_mod[doc]] for doc in texts]\n",
        "\n",
        "def lemmatization(texts, allowed_postags=['NOUN', 'ADJ', 'VERB', 'ADV']):\n",
        "    \"\"\"https://spacy.io/api/annotation\"\"\"\n",
        "    texts_out = []\n",
        "    for sent in texts:\n",
        "        doc = nlp(\" \".join(sent)) \n",
        "        texts_out.append([token.lemma_ for token in doc if token.pos_ in allowed_postags])\n",
        "    return texts_out\n",
        "# Form Bigrams\n",
        "data_words_bigrams = make_bigrams(texts)\n",
        "\n",
        "# Initialize spacy 'en' model, keeping only tagger component (for efficiency)\n",
        "# python3 -m spacy download en\n",
        "nlp = spacy.load('en', disable=['parser', 'ner'])\n",
        "\n",
        "# Do lemmatization keeping only noun, adj, vb, adv\n",
        "data_lemmatized = lemmatization(data_words_bigrams, allowed_postags=['NOUN', 'ADJ', 'VERB', 'ADV'])\n",
        "\n",
        "print(data_lemmatized[:10])"
      ],
      "execution_count": 123,
      "outputs": [
        {
          "output_type": "stream",
          "text": [
            "[['learn'], ['learn'], ['learn'], ['learn'], ['learn'], ['learn'], ['learn', 'action'], ['learn'], ['process', 'learn'], ['learn', 'probabilist', 'perspect']]\n"
          ],
          "name": "stdout"
        }
      ]
    },
    {
      "cell_type": "code",
      "metadata": {
        "id": "z0FqEVYsXh8f",
        "outputId": "5f0e0977-db27-4c60-ae26-32fae7bb97c9",
        "colab": {
          "base_uri": "https://localhost:8080/",
          "height": 34
        }
      },
      "source": [
        "# Create Dictionary\n",
        "id2word = corpora.Dictionary(data_lemmatized)\n",
        "\n",
        "# Create Corpus\n",
        "texts = data_lemmatized\n",
        "\n",
        "# Term Document Frequency\n",
        "corpus = [id2word.doc2bow(text) for text in texts]\n",
        "\n",
        "# View\n",
        "print(corpus[:1])"
      ],
      "execution_count": 124,
      "outputs": [
        {
          "output_type": "stream",
          "text": [
            "[[(0, 1)]]\n"
          ],
          "name": "stdout"
        }
      ]
    },
    {
      "cell_type": "code",
      "metadata": {
        "id": "x-X5kMouZHJn",
        "outputId": "3da67e7b-ad00-4770-f678-490a4e5679f6",
        "colab": {
          "base_uri": "https://localhost:8080/",
          "height": 35
        }
      },
      "source": [
        "id2word[0]"
      ],
      "execution_count": 118,
      "outputs": [
        {
          "output_type": "execute_result",
          "data": {
            "application/vnd.google.colaboratory.intrinsic+json": {
              "type": "string"
            },
            "text/plain": [
              "'learn'"
            ]
          },
          "metadata": {
            "tags": []
          },
          "execution_count": 118
        }
      ]
    },
    {
      "cell_type": "code",
      "metadata": {
        "id": "VmcAlxXfZU5D",
        "outputId": "d776315f-08a3-467b-c4c8-13bc570e1c7b",
        "colab": {
          "base_uri": "https://localhost:8080/",
          "height": 362
        }
      },
      "source": [
        "[[(id2word[id], freq) for id, freq in cp] for cp in corpus[:20]]"
      ],
      "execution_count": 125,
      "outputs": [
        {
          "output_type": "execute_result",
          "data": {
            "text/plain": [
              "[[('learn', 1)],\n",
              " [('learn', 1)],\n",
              " [('learn', 1)],\n",
              " [('learn', 1)],\n",
              " [('learn', 1)],\n",
              " [('learn', 1)],\n",
              " [('learn', 1), ('action', 1)],\n",
              " [('learn', 1)],\n",
              " [('learn', 1), ('process', 1)],\n",
              " [('learn', 1), ('perspect', 1), ('probabilist', 1)],\n",
              " [('learn', 1)],\n",
              " [('learn', 1), ('repositori', 1)],\n",
              " [('learn', 1), ('toolkit', 1)],\n",
              " [],\n",
              " [('learn', 1)],\n",
              " [('learn', 1), ('perspect', 1), ('prospect', 1), ('trend', 1)],\n",
              " [('learn', 1), ('categor', 1), ('text', 1)],\n",
              " [('learn', 1), ('machin', 1), ('program', 1)],\n",
              " [('learn', 1)],\n",
              " [('learn', 1), ('approach', 1)]]"
            ]
          },
          "metadata": {
            "tags": []
          },
          "execution_count": 125
        }
      ]
    },
    {
      "cell_type": "code",
      "metadata": {
        "id": "G3HzdY0-ZZ12"
      },
      "source": [
        "lda_model = gensim.models.ldamodel.LdaModel(corpus=corpus,\n",
        "                                           id2word=id2word,\n",
        "                                           num_topics=20, \n",
        "                                           random_state=100,\n",
        "                                           update_every=1,\n",
        "                                           chunksize=100,\n",
        "                                           passes=10,\n",
        "                                           alpha='auto',\n",
        "                                           per_word_topics=True)"
      ],
      "execution_count": 130,
      "outputs": []
    },
    {
      "cell_type": "code",
      "metadata": {
        "id": "IoW2QPo8Z7kU",
        "outputId": "4efa02cf-6b1f-4d17-86cb-64078b3c3db6",
        "colab": {
          "base_uri": "https://localhost:8080/",
          "height": 1000
        }
      },
      "source": [
        "pprint(lda_model.print_topics())\n",
        "doc_lda = lda_model[corpus]"
      ],
      "execution_count": 131,
      "outputs": [
        {
          "output_type": "stream",
          "text": [
            "[(0,\n",
            "  '0.114*\"health\" + 0.114*\"address\" + 0.114*\"care\" + 0.114*\"implement\" + '\n",
            "  '0.113*\"learn\" + 0.005*\"survey\" + 0.005*\"mine\" + 0.005*\"read\" + '\n",
            "  '0.005*\"output\" + 0.005*\"space\"'),\n",
            " (1,\n",
            "  '0.260*\"learn\" + 0.112*\"perspect\" + 0.075*\"structur\" + 0.039*\"vector\" + '\n",
            "  '0.039*\"element\" + 0.039*\"monitor\" + 0.039*\"health\" + 0.039*\"support\" + '\n",
            "  '0.039*\"interdepend\" + 0.039*\"output\"'),\n",
            " (2,\n",
            "  '0.658*\"learn\" + 0.037*\"process\" + 0.025*\"use\" + 0.013*\"largescal\" + '\n",
            "  '0.013*\"probabilist\" + 0.013*\"spark\" + 0.013*\"descent\" + 0.013*\"gradient\" + '\n",
            "  '0.013*\"stochast\" + 0.013*\"understand\"'),\n",
            " (3,\n",
            "  '0.238*\"learn\" + 0.130*\"model\" + 0.130*\"largescal\" + 0.121*\"system\" + '\n",
            "  '0.067*\"user\" + 0.067*\"distribut\" + 0.003*\"optim\" + 0.003*\"space\" + '\n",
            "  '0.003*\"structur\" + 0.003*\"output\"'),\n",
            " (4,\n",
            "  '0.128*\"trend\" + 0.128*\"perspect\" + 0.128*\"prospect\" + 0.127*\"learn\" + '\n",
            "  '0.007*\"approach\" + 0.006*\"survey\" + 0.006*\"interdepend\" + 0.006*\"output\" + '\n",
            "  '0.006*\"space\" + 0.006*\"structur\"'),\n",
            " (5,\n",
            "  '0.012*\"mine\" + 0.012*\"game\" + 0.012*\"model\" + 0.012*\"structur\" + '\n",
            "  '0.012*\"space\" + 0.012*\"output\" + 0.012*\"interdepend\" + 0.012*\"survey\" + '\n",
            "  '0.012*\"read\" + 0.012*\"overview\"'),\n",
            " (6,\n",
            "  '0.012*\"mine\" + 0.012*\"game\" + 0.012*\"model\" + 0.012*\"structur\" + '\n",
            "  '0.012*\"space\" + 0.012*\"output\" + 0.012*\"interdepend\" + 0.012*\"survey\" + '\n",
            "  '0.012*\"read\" + 0.012*\"overview\"'),\n",
            " (7,\n",
            "  '0.151*\"method\" + 0.151*\"optim\" + 0.113*\"learn\" + 0.007*\"read\" + '\n",
            "  '0.007*\"model\" + 0.007*\"structur\" + 0.007*\"space\" + 0.007*\"output\" + '\n",
            "  '0.007*\"interdepend\" + 0.007*\"survey\"'),\n",
            " (8,\n",
            "  '0.128*\"vector\" + 0.128*\"support\" + 0.128*\"decrement\" + 0.127*\"learn\" + '\n",
            "  '0.007*\"corner\" + 0.007*\"detect\" + 0.006*\"output\" + 0.006*\"space\" + '\n",
            "  '0.006*\"survey\" + 0.006*\"structur\"'),\n",
            " (9,\n",
            "  '0.287*\"learn\" + 0.107*\"overview\" + 0.107*\"medicin\" + 0.055*\"system\" + '\n",
            "  '0.055*\"challeng\" + 0.055*\"approach\" + 0.055*\"method\" + 0.055*\"boost\" + '\n",
            "  '0.028*\"survey\" + 0.003*\"know\"'),\n",
            " (10,\n",
            "  '0.185*\"learn\" + 0.125*\"machin\" + 0.065*\"survey\" + 0.049*\"system\" + '\n",
            "  '0.043*\"big\" + 0.043*\"datum\" + 0.043*\"program\" + 0.043*\"approach\" + '\n",
            "  '0.043*\"clinic\" + 0.043*\"nowcast\"'),\n",
            " (11,\n",
            "  '0.012*\"mine\" + 0.012*\"game\" + 0.012*\"model\" + 0.012*\"structur\" + '\n",
            "  '0.012*\"space\" + 0.012*\"output\" + 0.012*\"interdepend\" + 0.012*\"survey\" + '\n",
            "  '0.012*\"read\" + 0.012*\"overview\"'),\n",
            " (12,\n",
            "  '0.130*\"flow\" + 0.130*\"cluster\" + 0.129*\"use\" + 0.116*\"learn\" + '\n",
            "  '0.006*\"space\" + 0.006*\"structur\" + 0.006*\"interdepend\" + 0.006*\"output\" + '\n",
            "  '0.006*\"read\" + 0.006*\"model\"'),\n",
            " (13,\n",
            "  '0.178*\"learn\" + 0.106*\"know\" + 0.106*\"thing\" + 0.106*\"action\" + 0.106*\"use\" '\n",
            "  '+ 0.005*\"output\" + 0.005*\"interdepend\" + 0.005*\"structur\" + 0.005*\"space\" + '\n",
            "  '0.005*\"model\"'),\n",
            " (14,\n",
            "  '0.210*\"learn\" + 0.159*\"detect\" + 0.107*\"corner\" + 0.055*\"faster\" + '\n",
            "  '0.055*\"mine\" + 0.055*\"datum\" + 0.055*\"approach\" + 0.055*\"well\" + '\n",
            "  '0.055*\"review\" + 0.003*\"space\"'),\n",
            " (15,\n",
            "  '0.293*\"learn\" + 0.061*\"toolbox\" + 0.061*\"concept\" + 0.061*\"think\" + '\n",
            "  '0.061*\"datum\" + 0.061*\"health\" + 0.061*\"big\" + 0.061*\"care\" + '\n",
            "  '0.061*\"molecular\" + 0.003*\"interdepend\"'),\n",
            " (16,\n",
            "  '0.196*\"repositori\" + 0.041*\"learn\" + 0.009*\"mine\" + 0.009*\"model\" + '\n",
            "  '0.009*\"structur\" + 0.009*\"space\" + 0.009*\"output\" + 0.009*\"interdepend\" + '\n",
            "  '0.009*\"survey\" + 0.009*\"read\"'),\n",
            " (17,\n",
            "  '0.151*\"matter\" + 0.151*\"phase\" + 0.116*\"learn\" + 0.007*\"read\" + '\n",
            "  '0.007*\"model\" + 0.007*\"structur\" + 0.007*\"space\" + 0.007*\"output\" + '\n",
            "  '0.007*\"interdepend\" + 0.007*\"survey\"'),\n",
            " (18,\n",
            "  '0.229*\"learn\" + 0.155*\"practic\" + 0.080*\"immun\" + 0.080*\"system\" + '\n",
            "  '0.080*\"machin\" + 0.080*\"adapt\" + 0.004*\"applic\" + 0.004*\"output\" + '\n",
            "  '0.004*\"survey\" + 0.004*\"space\"'),\n",
            " (19,\n",
            "  '0.283*\"learn\" + 0.144*\"applic\" + 0.144*\"approach\" + 0.074*\"appli\" + '\n",
            "  '0.074*\"econometr\" + 0.004*\"model\" + 0.004*\"survey\" + 0.004*\"space\" + '\n",
            "  '0.004*\"structur\" + 0.004*\"interdepend\"')]\n"
          ],
          "name": "stdout"
        }
      ]
    },
    {
      "cell_type": "code",
      "metadata": {
        "id": "CxBLB87rZ_pa",
        "outputId": "5408766d-d862-42ab-fb50-699205fefb71",
        "colab": {
          "base_uri": "https://localhost:8080/",
          "height": 86
        }
      },
      "source": [
        "# Compute Perplexity\n",
        "print('\\nPerplexity: ', lda_model.log_perplexity(corpus))  # a measure of how good the model is. lower the better.\n",
        "\n",
        "# Compute Coherence Score\n",
        "coherence_model_lda = CoherenceModel(model=lda_model, texts=data_lemmatized, dictionary=id2word, coherence='c_v')\n",
        "coherence_lda = coherence_model_lda.get_coherence()\n",
        "print('\\nCoherence Score: ', coherence_lda)"
      ],
      "execution_count": 132,
      "outputs": [
        {
          "output_type": "stream",
          "text": [
            "\n",
            "Perplexity:  -4.761201718955168\n",
            "\n",
            "Coherence Score:  0.6607608518024175\n"
          ],
          "name": "stdout"
        }
      ]
    },
    {
      "cell_type": "code",
      "metadata": {
        "id": "oHg35LzDaVDx",
        "outputId": "ef1421d3-417b-4d52-bd4d-e64ba826eed5",
        "colab": {
          "base_uri": "https://localhost:8080/",
          "height": 397
        }
      },
      "source": [
        "!pip install --upgrade gensim"
      ],
      "execution_count": 134,
      "outputs": [
        {
          "output_type": "stream",
          "text": [
            "Collecting gensim\n",
            "\u001b[?25l  Downloading https://files.pythonhosted.org/packages/2b/e0/fa6326251692056dc880a64eb22117e03269906ba55a6864864d24ec8b4e/gensim-3.8.3-cp36-cp36m-manylinux1_x86_64.whl (24.2MB)\n",
            "\u001b[K     |████████████████████████████████| 24.2MB 1.7MB/s \n",
            "\u001b[?25hRequirement already satisfied, skipping upgrade: smart-open>=1.8.1 in /usr/local/lib/python3.6/dist-packages (from gensim) (2.2.0)\n",
            "Requirement already satisfied, skipping upgrade: numpy>=1.11.3 in /usr/local/lib/python3.6/dist-packages (from gensim) (1.18.5)\n",
            "Requirement already satisfied, skipping upgrade: six>=1.5.0 in /usr/local/lib/python3.6/dist-packages (from gensim) (1.15.0)\n",
            "Requirement already satisfied, skipping upgrade: scipy>=0.18.1 in /usr/local/lib/python3.6/dist-packages (from gensim) (1.4.1)\n",
            "Requirement already satisfied, skipping upgrade: requests in /usr/local/lib/python3.6/dist-packages (from smart-open>=1.8.1->gensim) (2.23.0)\n",
            "Requirement already satisfied, skipping upgrade: chardet<4,>=3.0.2 in /usr/local/lib/python3.6/dist-packages (from requests->smart-open>=1.8.1->gensim) (3.0.4)\n",
            "Requirement already satisfied, skipping upgrade: idna<3,>=2.5 in /usr/local/lib/python3.6/dist-packages (from requests->smart-open>=1.8.1->gensim) (2.10)\n",
            "Requirement already satisfied, skipping upgrade: urllib3!=1.25.0,!=1.25.1,<1.26,>=1.21.1 in /usr/local/lib/python3.6/dist-packages (from requests->smart-open>=1.8.1->gensim) (1.24.3)\n",
            "Requirement already satisfied, skipping upgrade: certifi>=2017.4.17 in /usr/local/lib/python3.6/dist-packages (from requests->smart-open>=1.8.1->gensim) (2020.6.20)\n",
            "Installing collected packages: gensim\n",
            "  Found existing installation: gensim 3.6.0\n",
            "    Uninstalling gensim-3.6.0:\n",
            "      Successfully uninstalled gensim-3.6.0\n",
            "Successfully installed gensim-3.8.3\n"
          ],
          "name": "stdout"
        },
        {
          "output_type": "display_data",
          "data": {
            "application/vnd.colab-display-data+json": {
              "pip_warning": {
                "packages": [
                  "gensim"
                ]
              }
            }
          },
          "metadata": {
            "tags": []
          }
        }
      ]
    },
    {
      "cell_type": "code",
      "metadata": {
        "id": "cOjWvSofaeMt",
        "outputId": "0fd41be4-408e-462f-e09f-88c32c9e2eaf",
        "colab": {
          "base_uri": "https://localhost:8080/",
          "height": 68
        }
      },
      "source": [
        "import os       #importing os to set environment variable\n",
        "def install_java():\n",
        "  !apt-get install -y openjdk-8-jdk-headless -qq > /dev/null      #install openjdk\n",
        "  os.environ[\"JAVA_HOME\"] = \"/Program Files/Java/jdk-14\"     #set environment variable\n",
        "  !java -version       #check java version\n",
        "install_java()"
      ],
      "execution_count": 135,
      "outputs": [
        {
          "output_type": "stream",
          "text": [
            "openjdk version \"11.0.8\" 2020-07-14\n",
            "OpenJDK Runtime Environment (build 11.0.8+10-post-Ubuntu-0ubuntu118.04.1)\n",
            "OpenJDK 64-Bit Server VM (build 11.0.8+10-post-Ubuntu-0ubuntu118.04.1, mixed mode, sharing)\n"
          ],
          "name": "stdout"
        }
      ]
    },
    {
      "cell_type": "code",
      "metadata": {
        "id": "qa1VUDcZdr__"
      },
      "source": [
        "!wget http://mallet.cs.umass.edu/dist/mallet-2.0.8.zip\n",
        "!unzip mallet-2.0.8.zip"
      ],
      "execution_count": null,
      "outputs": []
    },
    {
      "cell_type": "code",
      "metadata": {
        "id": "GjgIbHbxd2Hf",
        "outputId": "141a652a-cef1-4800-e0e4-ea456fd193cf",
        "colab": {
          "base_uri": "https://localhost:8080/",
          "height": 71
        }
      },
      "source": [
        "os.environ['MALLET_HOME'] = '/content/mallet-2.0.8'\n",
        "mallet_path = '/content/mallet-2.0.8/bin/mallet'\n",
        "ldamallet = gensim.models.wrappers.LdaMallet(mallet_path, corpus=corpus, num_topics=10, id2word=id2word)"
      ],
      "execution_count": 141,
      "outputs": [
        {
          "output_type": "stream",
          "text": [
            "/usr/local/lib/python3.6/dist-packages/smart_open/smart_open_lib.py:252: UserWarning: This function is deprecated, use smart_open.open instead. See the migration notes for details: https://github.com/RaRe-Technologies/smart_open/blob/master/README.rst#migrating-to-the-new-open-function\n",
            "  'See the migration notes for details: %s' % _MIGRATION_NOTES_URL\n"
          ],
          "name": "stderr"
        }
      ]
    },
    {
      "cell_type": "code",
      "metadata": {
        "id": "LIv_sV3Gd_Qr",
        "outputId": "d40103b2-9ad5-4ae3-9049-40a44df6664a",
        "colab": {
          "base_uri": "https://localhost:8080/",
          "height": 1000
        }
      },
      "source": [
        "# Show Topics\n",
        "pprint(ldamallet.show_topics(formatted=False))\n",
        "\n",
        "# Compute Coherence Score\n",
        "coherence_model_ldamallet = CoherenceModel(model=ldamallet, texts=data_lemmatized, dictionary=id2word, coherence='c_v')\n",
        "coherence_ldamallet = coherence_model_ldamallet.get_coherence()\n",
        "print('\\nCoherence Score: ', coherence_ldamallet)"
      ],
      "execution_count": 142,
      "outputs": [
        {
          "output_type": "stream",
          "text": [
            "[(0,\n",
            "  [('learn', 0.5294117647058824),\n",
            "   ('categor', 0.058823529411764705),\n",
            "   ('mine', 0.058823529411764705),\n",
            "   ('gradient', 0.058823529411764705),\n",
            "   ('element', 0.058823529411764705),\n",
            "   ('survey', 0.058823529411764705),\n",
            "   ('stochast', 0.058823529411764705),\n",
            "   ('prospect', 0.058823529411764705),\n",
            "   ('phase', 0.058823529411764705),\n",
            "   ('thing', 0.0)]),\n",
            " (1,\n",
            "  [('learn', 0.5238095238095238),\n",
            "   ('detect', 0.14285714285714285),\n",
            "   ('corner', 0.047619047619047616),\n",
            "   ('distribut', 0.047619047619047616),\n",
            "   ('cluster', 0.047619047619047616),\n",
            "   ('applic', 0.047619047619047616),\n",
            "   ('vector', 0.047619047619047616),\n",
            "   ('faster', 0.047619047619047616),\n",
            "   ('checker', 0.047619047619047616),\n",
            "   ('interdepend', 0.0)]),\n",
            " (2,\n",
            "  [('learn', 0.5),\n",
            "   ('approach', 0.22727272727272727),\n",
            "   ('datum', 0.13636363636363635),\n",
            "   ('address', 0.045454545454545456),\n",
            "   ('appli', 0.045454545454545456),\n",
            "   ('system', 0.045454545454545456),\n",
            "   ('structur', 0.0),\n",
            "   ('space', 0.0),\n",
            "   ('interdepend', 0.0),\n",
            "   ('output', 0.0)]),\n",
            " (3,\n",
            "  [('perspect', 0.25),\n",
            "   ('process', 0.1),\n",
            "   ('learn', 0.1),\n",
            "   ('survey', 0.05),\n",
            "   ('care', 0.05),\n",
            "   ('sentiment', 0.05),\n",
            "   ('read', 0.05),\n",
            "   ('practic', 0.05),\n",
            "   ('toolbox', 0.05),\n",
            "   ('corner', 0.05)]),\n",
            " (4,\n",
            "  [('learn', 0.625),\n",
            "   ('practic', 0.041666666666666664),\n",
            "   ('optim', 0.041666666666666664),\n",
            "   ('action', 0.041666666666666664),\n",
            "   ('thing', 0.041666666666666664),\n",
            "   ('care', 0.041666666666666664),\n",
            "   ('system', 0.041666666666666664),\n",
            "   ('boost', 0.041666666666666664),\n",
            "   ('method', 0.041666666666666664),\n",
            "   ('concept', 0.041666666666666664)]),\n",
            " (5,\n",
            "  [('learn', 0.4444444444444444),\n",
            "   ('largescal', 0.1111111111111111),\n",
            "   ('health', 0.1111111111111111),\n",
            "   ('text', 0.037037037037037035),\n",
            "   ('game', 0.037037037037037035),\n",
            "   ('implement', 0.037037037037037035),\n",
            "   ('method', 0.037037037037037035),\n",
            "   ('model', 0.037037037037037035),\n",
            "   ('support', 0.037037037037037035),\n",
            "   ('repositori', 0.037037037037037035)]),\n",
            " (6,\n",
            "  [('medicin', 0.14285714285714285),\n",
            "   ('learn', 0.14285714285714285),\n",
            "   ('nowcast', 0.07142857142857142),\n",
            "   ('intellig', 0.07142857142857142),\n",
            "   ('user', 0.07142857142857142),\n",
            "   ('overview', 0.07142857142857142),\n",
            "   ('model', 0.07142857142857142),\n",
            "   ('structur', 0.07142857142857142),\n",
            "   ('matter', 0.07142857142857142),\n",
            "   ('big', 0.07142857142857142)]),\n",
            " (7,\n",
            "  [('learn', 0.4444444444444444),\n",
            "   ('machin', 0.14814814814814814),\n",
            "   ('system', 0.1111111111111111),\n",
            "   ('output', 0.037037037037037035),\n",
            "   ('vector', 0.037037037037037035),\n",
            "   ('bioinformat', 0.037037037037037035),\n",
            "   ('econometr', 0.037037037037037035),\n",
            "   ('program', 0.037037037037037035),\n",
            "   ('structur', 0.037037037037037035),\n",
            "   ('descent', 0.037037037037037035)]),\n",
            " (8,\n",
            "  [('learn', 0.7),\n",
            "   ('immun', 0.03333333333333333),\n",
            "   ('toolkit', 0.03333333333333333),\n",
            "   ('space', 0.03333333333333333),\n",
            "   ('monitor', 0.03333333333333333),\n",
            "   ('molecular', 0.03333333333333333),\n",
            "   ('medicin', 0.03333333333333333),\n",
            "   ('adapt', 0.03333333333333333),\n",
            "   ('trend', 0.03333333333333333),\n",
            "   ('decrement', 0.03333333333333333)]),\n",
            " (9,\n",
            "  [('learn', 0.21428571428571427),\n",
            "   ('probabilist', 0.14285714285714285),\n",
            "   ('understand', 0.07142857142857142),\n",
            "   ('precipit', 0.07142857142857142),\n",
            "   ('review', 0.07142857142857142),\n",
            "   ('interdepend', 0.07142857142857142),\n",
            "   ('predict', 0.07142857142857142),\n",
            "   ('big', 0.07142857142857142),\n",
            "   ('shift', 0.07142857142857142),\n",
            "   ('spark', 0.07142857142857142)])]\n",
            "\n",
            "Coherence Score:  0.7024031603659976\n"
          ],
          "name": "stdout"
        }
      ]
    },
    {
      "cell_type": "code",
      "metadata": {
        "id": "qgC8vQ9Ae5jE",
        "outputId": "a7cd6b36-6ef2-46de-d240-b2962f89ee26",
        "colab": {
          "base_uri": "https://localhost:8080/",
          "height": 71
        }
      },
      "source": [
        "def compute_coherence_values(dictionary, corpus, texts, start, limit, step):\n",
        "    \"\"\"\n",
        "    Compute c_v coherence for various number of topics\n",
        "\n",
        "    Parameters:\n",
        "    ----------\n",
        "    dictionary : Gensim dictionary\n",
        "    corpus : Gensim corpus\n",
        "    texts : List of input texts\n",
        "    limit : Max num of topics\n",
        "\n",
        "    Returns:\n",
        "    -------\n",
        "    model_list : List of LDA topic models\n",
        "    coherence_values : Coherence values corresponding to the LDA model with respective number of topics\n",
        "    \"\"\"\n",
        "    coherence_values = []\n",
        "    model_list = []\n",
        "    for num_topics in range(start, limit, step):\n",
        "        model = gensim.models.wrappers.LdaMallet(mallet_path, corpus=corpus, num_topics=num_topics, id2word=id2word)\n",
        "        model_list.append(model)\n",
        "        coherencemodel = CoherenceModel(model=model, texts=texts, dictionary=dictionary, coherence='c_v')\n",
        "        coherence_values.append(coherencemodel.get_coherence())\n",
        "\n",
        "    return model_list, coherence_values\n",
        "model_list, coherence_values = compute_coherence_values(dictionary=id2word, corpus=corpus, texts=data_lemmatized, start=2, limit=40, step=6)\n",
        "\n"
      ],
      "execution_count": 146,
      "outputs": [
        {
          "output_type": "stream",
          "text": [
            "/usr/local/lib/python3.6/dist-packages/smart_open/smart_open_lib.py:252: UserWarning: This function is deprecated, use smart_open.open instead. See the migration notes for details: https://github.com/RaRe-Technologies/smart_open/blob/master/README.rst#migrating-to-the-new-open-function\n",
            "  'See the migration notes for details: %s' % _MIGRATION_NOTES_URL\n"
          ],
          "name": "stderr"
        }
      ]
    },
    {
      "cell_type": "code",
      "metadata": {
        "id": "ZwWItSX_fKVz",
        "outputId": "87308761-9c75-4fb9-a3af-660c5e27b6cc",
        "colab": {
          "base_uri": "https://localhost:8080/",
          "height": 279
        }
      },
      "source": [
        "limit=40; start=2; step=6;\n",
        "x = range(start, limit, step)\n",
        "plt.plot(x, coherence_values)\n",
        "plt.xlabel(\"Num Topics\")\n",
        "plt.ylabel(\"Coherence score\")\n",
        "plt.legend((\"coherence_values\"), loc='best')\n",
        "plt.show()"
      ],
      "execution_count": 165,
      "outputs": [
        {
          "output_type": "display_data",
          "data": {
            "image/png": "[encoded data removed]",
            "text/plain": [
              "<Figure size 432x288 with 1 Axes>"
            ]
          },
          "metadata": {
            "tags": [],
            "needs_background": "light"
          }
        }
      ]
    },
    {
      "cell_type": "markdown",
      "metadata": {
        "id": "A9ZN29L9nllS"
      },
      "source": [
        "## (2) (8 points) Generate K topics by using LSA, the number of topics K should be decided by the coherence score, then summarize what are the topics. You may refer the code here:\n",
        "\n",
        "https://www.datacamp.com/community/tutorials/discovering-hidden-topics-python"
      ]
    },
    {
      "cell_type": "code",
      "metadata": {
        "id": "K-fsv3-nhymC"
      },
      "source": [
        "def prepare_corpus(doc_clean):\n",
        "    \"\"\"\n",
        "    Input  : clean document\n",
        "    Purpose: create term dictionary of our courpus and Converting list of documents (corpus) into Document Term Matrix\n",
        "    Output : term dictionary and Document Term Matrix\n",
        "    \"\"\"\n",
        "    # Creating the term dictionary of our courpus, where every unique term is assigned an index. dictionary = corpora.Dictionary(doc_clean)\n",
        "    dictionary = corpora.Dictionary(doc_clean)\n",
        "    # Converting list of documents (corpus) into Document Term Matrix using dictionary prepared above.\n",
        "    doc_term_matrix = [dictionary.doc2bow(doc) for doc in doc_clean]\n",
        "    # generate LDA model\n",
        "    return dictionary,doc_term_matrix"
      ],
      "execution_count": 155,
      "outputs": []
    },
    {
      "cell_type": "code",
      "metadata": {
        "id": "jZD6YLkNh6Zx"
      },
      "source": [
        "def create_gensim_lsa_model(doc_clean,number_of_topics,words):\n",
        "    \"\"\"\n",
        "    Input  : clean document, number of topics and number of words associated with each topic\n",
        "    Purpose: create LSA model using gensim\n",
        "    Output : return LSA model\n",
        "    \"\"\"\n",
        "    dictionary,doc_term_matrix=prepare_corpus(doc_clean)\n",
        "    # generate LSA model\n",
        "    lsamodel = LsiModel(doc_term_matrix, num_topics=number_of_topics, id2word = dictionary)  # train model\n",
        "    print(lsamodel.print_topics(num_topics=number_of_topics, num_words=words))\n",
        "    return lsamodel"
      ],
      "execution_count": 156,
      "outputs": []
    },
    {
      "cell_type": "code",
      "metadata": {
        "id": "yxx1UTTAh95S"
      },
      "source": [
        "def compute_coherence_values(dictionary, doc_term_matrix, doc_clean, stop, start=2, step=3):\n",
        "    \"\"\"\n",
        "    Input   : dictionary : Gensim dictionary\n",
        "              corpus : Gensim corpus\n",
        "              texts : List of input texts\n",
        "              stop : Max num of topics\n",
        "    purpose : Compute c_v coherence for various number of topics\n",
        "    Output  : model_list : List of LSA topic models\n",
        "              coherence_values : Coherence values corresponding to the LDA model with respective number of topics\n",
        "    \"\"\"\n",
        "    coherence_values = []\n",
        "    model_list = []\n",
        "    for num_topics in range(start, stop, step):\n",
        "        # generate LSA model\n",
        "        model = LsiModel(doc_term_matrix, num_topics=number_of_topics, id2word = dictionary)  # train model\n",
        "        model_list.append(model)\n",
        "        coherencemodel = CoherenceModel(model=model, texts=doc_clean, dictionary=dictionary, coherence='c_v')\n",
        "        coherence_values.append(coherencemodel.get_coherence())\n",
        "    return model_list, coherence_values"
      ],
      "execution_count": 157,
      "outputs": []
    },
    {
      "cell_type": "code",
      "metadata": {
        "id": "bkDxyOr4iClX"
      },
      "source": [
        "def plot_graph(doc_clean,start, stop, step):\n",
        "    dictionary,doc_term_matrix=prepare_corpus(doc_clean)\n",
        "    model_list, coherence_values = compute_coherence_values(dictionary, doc_term_matrix,doc_clean,\n",
        "                                                            stop, start, step)\n",
        "    # Show graph\n",
        "    x = range(start, stop, step)\n",
        "    plt.plot(x, coherence_values)\n",
        "    plt.xlabel(\"Number of Topics\")\n",
        "    plt.ylabel(\"Coherence score\")\n",
        "    plt.legend((\"coherence_values\"), loc='best')\n",
        "    plt.show()"
      ],
      "execution_count": 158,
      "outputs": []
    },
    {
      "cell_type": "code",
      "metadata": {
        "id": "mSYazMlziFXw",
        "outputId": "6d668659-c112-4630-8bc5-b558b9e18a54",
        "colab": {
          "base_uri": "https://localhost:8080/",
          "height": 54
        }
      },
      "source": [
        "number_of_topics=7\n",
        "words=10\n",
        "model=create_gensim_lsa_model(texts,number_of_topics,words)"
      ],
      "execution_count": 168,
      "outputs": [
        {
          "output_type": "stream",
          "text": [
            "[(0, '-0.985*\"learn\" + -0.054*\"system\" + -0.053*\"perspect\" + -0.053*\"approach\" + -0.044*\"machin\" + -0.041*\"use\" + -0.032*\"datum\" + -0.032*\"health\" + -0.032*\"largescal\" + -0.031*\"detect\"'), (1, '-0.474*\"machin\" + -0.465*\"system\" + 0.289*\"approach\" + -0.266*\"datum\" + -0.242*\"largescal\" + -0.239*\"big\" + -0.195*\"medicin\" + -0.164*\"clinic\" + -0.164*\"predict\" + 0.164*\"detect\"'), (2, '-0.416*\"system\" + 0.356*\"health\" + 0.266*\"datum\" + -0.256*\"largescal\" + 0.249*\"care\" + -0.248*\"approach\" + 0.237*\"structur\" + 0.225*\"big\" + 0.186*\"support\" + 0.186*\"vector\"'), (3, '-0.368*\"approach\" + -0.332*\"datum\" + 0.304*\"perspect\" + -0.284*\"big\" + -0.233*\"medicin\" + 0.226*\"system\" + -0.212*\"detect\" + 0.198*\"structur\" + 0.192*\"vector\" + 0.192*\"support\"'), (4, '0.411*\"approach\" + -0.307*\"use\" + 0.284*\"structur\" + 0.264*\"vector\" + 0.264*\"support\" + 0.245*\"detect\" + 0.228*\"perspect\" + 0.217*\"corner\" + 0.207*\"system\" + 0.188*\"space\"'), (5, '-0.576*\"perspect\" + 0.317*\"vector\" + 0.317*\"support\" + -0.315*\"health\" + 0.199*\"interdepend\" + 0.199*\"space\" + 0.199*\"output\" + 0.184*\"machin\" + -0.166*\"care\" + -0.149*\"monitor\"'), (6, '0.746*\"use\" + 0.198*\"know\" + 0.198*\"checker\" + 0.198*\"game\" + 0.198*\"thing\" + 0.198*\"flow\" + 0.198*\"cluster\" + 0.152*\"sentiment\" + 0.139*\"system\" + 0.130*\"approach\"')]\n"
          ],
          "name": "stdout"
        }
      ]
    },
    {
      "cell_type": "code",
      "metadata": {
        "id": "QtKN3uQdiJfb",
        "outputId": "7ebd8880-ad08-49e1-d814-a90c3cd2ee74",
        "colab": {
          "base_uri": "https://localhost:8080/",
          "height": 279
        }
      },
      "source": [
        "start,stop,step=2,12,1\n",
        "plot_graph(texts,start,stop,step)"
      ],
      "execution_count": 170,
      "outputs": [
        {
          "output_type": "display_data",
          "data": {
            "image/png": "[encoded data removed]",
            "text/plain": [
              "<Figure size 432x288 with 1 Axes>"
            ]
          },
          "metadata": {
            "tags": [],
            "needs_background": "light"
          }
        }
      ]
    },
    {
      "cell_type": "markdown",
      "metadata": {
        "id": "1AB_jIXooQsn"
      },
      "source": [
        "## (3) (4 points) Compare the results generated by the two topic modeling algorithms, which one is better? You should explain the reasons in details."
      ]
    },
    {
      "cell_type": "markdown",
      "metadata": {
        "id": "e5DtRanWrF99"
      },
      "source": [
        "Topic Coherence measures score a single topic by measuring the degree of semantic similarity between high scoring words in the topic.In LDA the coherence score is higher than that of LSA,Higher coherence score for seen in LDA where it is found to be 0.720, where as for the same LSA gave a score of around 0.65.Thus i infere LDA to be better than LSA."
      ]
    },
    {
      "cell_type": "code",
      "metadata": {
        "id": "4-jSCKZVsU_k"
      },
      "source": [
        ""
      ],
      "execution_count": null,
      "outputs": []
    }
  ]
}