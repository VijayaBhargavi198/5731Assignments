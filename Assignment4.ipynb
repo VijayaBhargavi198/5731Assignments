{
  "nbformat": 4,
  "nbformat_minor": 0,
  "metadata": {
    "colab": {
      "name": "Assignment4.ipynb",
      "provenance": [],
      "collapsed_sections": [],
      "authorship_tag": "ABX9TyN8r9KGdo3HCoEjhvrc6ezE",
      "include_colab_link": true
    },
    "kernelspec": {
      "name": "python3",
      "display_name": "Python 3"
    }
  },
  "cells": [
    {
      "cell_type": "markdown",
      "metadata": {
        "id": "view-in-github",
        "colab_type": "text"
      },
      "source": [
        "<a href=\"https://colab.research.google.com/github/VijayaBhargavi198/5731Assignments/blob/master/Assignment4.ipynb\" target=\"_parent\"><img src=\"https://colab.research.google.com/assets/colab-badge.svg\" alt=\"Open In Colab\"/></a>"
      ]
    },
    {
      "cell_type": "code",
      "metadata": {
        "colab": {
          "base_uri": "https://localhost:8080/"
        },
        "id": "4neiykFcTrIR",
        "outputId": "6e31009a-fb04-41be-87bc-a13eb03bd93f"
      },
      "source": [
        "from zipfile import ZipFile \n",
        "file_name = '/content/Assignment four data Yelp (question 1 and 2).zip'\n",
        "with ZipFile(file_name, 'r') as zip:  \n",
        "    # extracting all the files \n",
        "    zip.extractall() \n",
        "    print('Extraction of files complete!')"
      ],
      "execution_count": 132,
      "outputs": [
        {
          "output_type": "stream",
          "text": [
            "Extraction of files complete!\n"
          ],
          "name": "stdout"
        }
      ]
    },
    {
      "cell_type": "code",
      "metadata": {
        "colab": {
          "base_uri": "https://localhost:8080/",
          "height": 204
        },
        "id": "cxwP5Yp7Z8-t",
        "outputId": "e983ce2d-4350-41bf-a9b1-ab7f858bcdf1"
      },
      "source": [
        "import os,json\n",
        "import pandas as pd\n",
        "arr = os.listdir('/content/Assignment four data Yelp (question 1 and 2)')\n",
        "reviews = []\n",
        "ratings = []\n",
        "for file in arr:\n",
        "  with open('/content/Assignment four data Yelp (question 1 and 2)/'+file,encoding = \"utf-8\") as i:\n",
        "    data = json.load(i)\n",
        "    for j in data:\n",
        "      reviews.append(j['text'])\n",
        "      ratings.append(j['stars']) \n",
        "input_df = pd.DataFrame(reviews, columns=[\"review\"])\n",
        "input_df[\"ratings\"]=ratings\n",
        "input_df.head()"
      ],
      "execution_count": 133,
      "outputs": [
        {
          "output_type": "execute_result",
          "data": {
            "text/html": [
              "<div>\n",
              "<style scoped>\n",
              "    .dataframe tbody tr th:only-of-type {\n",
              "        vertical-align: middle;\n",
              "    }\n",
              "\n",
              "    .dataframe tbody tr th {\n",
              "        vertical-align: top;\n",
              "    }\n",
              "\n",
              "    .dataframe thead th {\n",
              "        text-align: right;\n",
              "    }\n",
              "</style>\n",
              "<table border=\"1\" class=\"dataframe\">\n",
              "  <thead>\n",
              "    <tr style=\"text-align: right;\">\n",
              "      <th></th>\n",
              "      <th>review</th>\n",
              "      <th>ratings</th>\n",
              "    </tr>\n",
              "  </thead>\n",
              "  <tbody>\n",
              "    <tr>\n",
              "      <th>0</th>\n",
              "      <td>Awesome service and fantastic food, the wait s...</td>\n",
              "      <td>5.0</td>\n",
              "    </tr>\n",
              "    <tr>\n",
              "      <th>1</th>\n",
              "      <td>Seemed pretty pricey to me for what you got......</td>\n",
              "      <td>2.0</td>\n",
              "    </tr>\n",
              "    <tr>\n",
              "      <th>2</th>\n",
              "      <td>We TRIED to go to the buffet on Tuesday eve fo...</td>\n",
              "      <td>1.0</td>\n",
              "    </tr>\n",
              "    <tr>\n",
              "      <th>3</th>\n",
              "      <td>Came here for lunch on my 20th birthday and th...</td>\n",
              "      <td>5.0</td>\n",
              "    </tr>\n",
              "    <tr>\n",
              "      <th>4</th>\n",
              "      <td>Amazing treats - I love their cinnamon roll, c...</td>\n",
              "      <td>5.0</td>\n",
              "    </tr>\n",
              "  </tbody>\n",
              "</table>\n",
              "</div>"
            ],
            "text/plain": [
              "                                              review  ratings\n",
              "0  Awesome service and fantastic food, the wait s...      5.0\n",
              "1  Seemed pretty pricey to me for what you got......      2.0\n",
              "2  We TRIED to go to the buffet on Tuesday eve fo...      1.0\n",
              "3  Came here for lunch on my 20th birthday and th...      5.0\n",
              "4  Amazing treats - I love their cinnamon roll, c...      5.0"
            ]
          },
          "metadata": {
            "tags": []
          },
          "execution_count": 133
        }
      ]
    },
    {
      "cell_type": "code",
      "metadata": {
        "colab": {
          "base_uri": "https://localhost:8080/",
          "height": 308
        },
        "id": "A4VrBCVEm3XJ",
        "outputId": "765ecc93-b308-4bb0-c26a-cd2366714f91"
      },
      "source": [
        "# Preprocessing data to be used in text modelling\n",
        "from nltk.corpus import stopwords\n",
        "from nltk.tokenize import word_tokenize  \n",
        "import pandas as pd\n",
        "from textblob import Word\n",
        "import re\n",
        "import nltk\n",
        "nltk.download('stopwords')\n",
        "nltk.download('punkt')\n",
        "nltk.download('wordnet')\n",
        "stop_words=stopwords.words(\"english\")\n",
        "# cleaning the text data\n",
        "input_df['cleaned text review'] = input_df['review'].str.replace(r\"\\W\", \" \").str.strip()# 1.To remove special characters and punctuations\n",
        "input_df['cleaned text review'] = input_df['cleaned text review'].str.replace(r'\\d+',\"\") #2.To remove Numbers\n",
        "input_df['cleaned text review'] = input_df['cleaned text review'].apply(lambda x: \" \".join(x.lower() for x in x.split())) #convert the whole text into lower case\n",
        "input_df['cleaned text review'] = input_df['cleaned text review'].apply(lambda x: \" \".join(x for x in x.split() if x not in stop_words)) #remove all stop words\n",
        "input_df.head() # dataframe column that would be used for further process"
      ],
      "execution_count": 134,
      "outputs": [
        {
          "output_type": "stream",
          "text": [
            "[nltk_data] Downloading package stopwords to /root/nltk_data...\n",
            "[nltk_data]   Package stopwords is already up-to-date!\n",
            "[nltk_data] Downloading package punkt to /root/nltk_data...\n",
            "[nltk_data]   Package punkt is already up-to-date!\n",
            "[nltk_data] Downloading package wordnet to /root/nltk_data...\n",
            "[nltk_data]   Package wordnet is already up-to-date!\n"
          ],
          "name": "stdout"
        },
        {
          "output_type": "execute_result",
          "data": {
            "text/html": [
              "<div>\n",
              "<style scoped>\n",
              "    .dataframe tbody tr th:only-of-type {\n",
              "        vertical-align: middle;\n",
              "    }\n",
              "\n",
              "    .dataframe tbody tr th {\n",
              "        vertical-align: top;\n",
              "    }\n",
              "\n",
              "    .dataframe thead th {\n",
              "        text-align: right;\n",
              "    }\n",
              "</style>\n",
              "<table border=\"1\" class=\"dataframe\">\n",
              "  <thead>\n",
              "    <tr style=\"text-align: right;\">\n",
              "      <th></th>\n",
              "      <th>review</th>\n",
              "      <th>ratings</th>\n",
              "      <th>cleaned text review</th>\n",
              "    </tr>\n",
              "  </thead>\n",
              "  <tbody>\n",
              "    <tr>\n",
              "      <th>0</th>\n",
              "      <td>Awesome service and fantastic food, the wait s...</td>\n",
              "      <td>5.0</td>\n",
              "      <td>awesome service fantastic food wait staff frie...</td>\n",
              "    </tr>\n",
              "    <tr>\n",
              "      <th>1</th>\n",
              "      <td>Seemed pretty pricey to me for what you got......</td>\n",
              "      <td>2.0</td>\n",
              "      <td>seemed pretty pricey got burgers tasted pretty...</td>\n",
              "    </tr>\n",
              "    <tr>\n",
              "      <th>2</th>\n",
              "      <td>We TRIED to go to the buffet on Tuesday eve fo...</td>\n",
              "      <td>1.0</td>\n",
              "      <td>tried go buffet tuesday eve dinner found close...</td>\n",
              "    </tr>\n",
              "    <tr>\n",
              "      <th>3</th>\n",
              "      <td>Came here for lunch on my 20th birthday and th...</td>\n",
              "      <td>5.0</td>\n",
              "      <td>came lunch th birthday gave us free dessert si...</td>\n",
              "    </tr>\n",
              "    <tr>\n",
              "      <th>4</th>\n",
              "      <td>Amazing treats - I love their cinnamon roll, c...</td>\n",
              "      <td>5.0</td>\n",
              "      <td>amazing treats love cinnamon roll cupcakes ice...</td>\n",
              "    </tr>\n",
              "  </tbody>\n",
              "</table>\n",
              "</div>"
            ],
            "text/plain": [
              "                                              review  ...                                cleaned text review\n",
              "0  Awesome service and fantastic food, the wait s...  ...  awesome service fantastic food wait staff frie...\n",
              "1  Seemed pretty pricey to me for what you got......  ...  seemed pretty pricey got burgers tasted pretty...\n",
              "2  We TRIED to go to the buffet on Tuesday eve fo...  ...  tried go buffet tuesday eve dinner found close...\n",
              "3  Came here for lunch on my 20th birthday and th...  ...  came lunch th birthday gave us free dessert si...\n",
              "4  Amazing treats - I love their cinnamon roll, c...  ...  amazing treats love cinnamon roll cupcakes ice...\n",
              "\n",
              "[5 rows x 3 columns]"
            ]
          },
          "metadata": {
            "tags": []
          },
          "execution_count": 134
        }
      ]
    },
    {
      "cell_type": "code",
      "metadata": {
        "id": "xNMuhuIL4FeT"
      },
      "source": [
        "! pip install biterm\n",
        "! pip install pyLDAvis"
      ],
      "execution_count": null,
      "outputs": []
    },
    {
      "cell_type": "code",
      "metadata": {
        "colab": {
          "base_uri": "https://localhost:8080/"
        },
        "id": "0rRiWo0ZErqx",
        "outputId": "7c6fd2e6-5594-4036-9e62-25eb78c8c7a8"
      },
      "source": [
        "import numpy as np\n",
        "import pyLDAvis\n",
        "from biterm.btm import oBTM \n",
        "from sklearn.feature_extraction.text import CountVectorizer\n",
        "from biterm.utility import vec_to_biterms, topic_summuary # helper functions\n",
        "# vectorize texts\n",
        "texts = input_df['cleaned text review'].head(1000).values\n",
        "vec = CountVectorizer(stop_words='english')\n",
        "X = vec.fit_transform(texts).toarray()\n",
        "vocab = np.array(vec.get_feature_names())\n",
        "biterms = vec_to_biterms(X)\n",
        "btm = oBTM(num_topics=20, V=vocab)\n",
        "print(\"Train Online BTM:\")\n",
        "topics = btm.fit_transform(biterms, iterations=20)"
      ],
      "execution_count": null,
      "outputs": [
        {
          "output_type": "stream",
          "text": [
            "Train Online BTM:\n"
          ],
          "name": "stdout"
        },
        {
          "output_type": "stream",
          "text": [
            "\n",
            "\n",
            "\n",
            "\n",
            "\n",
            "\n",
            "\n",
            "\n",
            "\n",
            "\n",
            "\n",
            "\n",
            "\n",
            "\n",
            "\n",
            "\n",
            "\n",
            "\n",
            "  0%|          | 0/20 [00:00<?, ?it/s]\u001b[A\u001b[A\u001b[A\u001b[A\u001b[A\u001b[A\u001b[A\u001b[A\u001b[A\u001b[A\u001b[A\u001b[A\u001b[A\u001b[A\u001b[A\u001b[A\u001b[A\u001b[A\n",
            "\n",
            "\n",
            "\n",
            "\n",
            "\n",
            "\n",
            "\n",
            "\n",
            "\n",
            "\n",
            "\n",
            "\n",
            "\n",
            "\n",
            "\n",
            "\n",
            "\n",
            "  5%|▌         | 1/20 [09:17<2:56:37, 557.78s/it]\u001b[A\u001b[A\u001b[A\u001b[A\u001b[A\u001b[A\u001b[A\u001b[A\u001b[A\u001b[A\u001b[A\u001b[A\u001b[A\u001b[A\u001b[A\u001b[A\u001b[A\u001b[A"
          ],
          "name": "stderr"
        }
      ]
    },
    {
      "cell_type": "code",
      "metadata": {
        "id": "PXU4vZH0fIkN"
      },
      "source": [
        "\n",
        "    print(\"reviews realted to each topic are\")\n",
        "    for i in range(len(texts)):\n",
        "        print(\"{} (topic: {})\".format(texts[i], topics[i].argmax()))"
      ],
      "execution_count": null,
      "outputs": []
    },
    {
      "cell_type": "markdown",
      "metadata": {
        "id": "4RZ6GQVO7djs"
      },
      "source": [
        "# **Question 2: Yelp Review Sentiment Analysis**\n",
        " Sentiment analysis also known as opinion mining is a sub field within Natural Language Processing (NLP) that builds machine learning algorithms to classify a text according to the sentimental polarities of opinions it contains, e.g., positive, negative, neutral. The purpose of this question is to develop a machine learning classifier for sentiment analysis. Based on the dataset from assignment three, write a python program to implement a sentiment classifier and evaluate its performance. Notice: 80% data for training and 20% data for testing.\n",
        " Answer the following questions:\n",
        "\n",
        "(1) Features used for sentiment classification and explain why you select these features (tf-idf, sentiment lexicon, word2vec, etc). Considering achieve the best performance as you can.\n",
        "\n",
        "(2) Select two of the supervised learning algorithm from scikit-learn library: https://scikit-learn.org/stable/supervised_learning.html#supervised-learning, to build a sentiment classifier respectively.\n",
        "\n",
        "(3) Compare the performance over accuracy, precision, recall, and F1 score for the two algorithms you selected. Here is the reference of how to calculate these metrics: https://towardsdatascience.com/accuracy-precision-recall-or-f1-331fb37c5cb9.|"
      ]
    },
    {
      "cell_type": "code",
      "metadata": {
        "colab": {
          "base_uri": "https://localhost:8080/",
          "height": 204
        },
        "id": "I4PlEYZxErb_",
        "outputId": "ba396d4c-e0ab-4f8b-a213-8f62de13d5f2"
      },
      "source": [
        "def sentiment(x):\n",
        "    if x == 5:\n",
        "        return 'Very positive'\n",
        "    if x == 4:\n",
        "        return 'Positive'\n",
        "    if x == 3:\n",
        "        return 'Neutral'\n",
        "    if x == 2:\n",
        "        return 'Negative'\n",
        "    if x == 1:\n",
        "        return 'Very negative'\n",
        "    \n",
        "input_df['sentiment'] = input_df['ratings'].apply(lambda x: sentiment(x))\n",
        "input_df.head(5)"
      ],
      "execution_count": null,
      "outputs": [
        {
          "output_type": "execute_result",
          "data": {
            "text/html": [
              "<div>\n",
              "<style scoped>\n",
              "    .dataframe tbody tr th:only-of-type {\n",
              "        vertical-align: middle;\n",
              "    }\n",
              "\n",
              "    .dataframe tbody tr th {\n",
              "        vertical-align: top;\n",
              "    }\n",
              "\n",
              "    .dataframe thead th {\n",
              "        text-align: right;\n",
              "    }\n",
              "</style>\n",
              "<table border=\"1\" class=\"dataframe\">\n",
              "  <thead>\n",
              "    <tr style=\"text-align: right;\">\n",
              "      <th></th>\n",
              "      <th>review</th>\n",
              "      <th>ratings</th>\n",
              "      <th>cleaned text review</th>\n",
              "      <th>sentiment</th>\n",
              "    </tr>\n",
              "  </thead>\n",
              "  <tbody>\n",
              "    <tr>\n",
              "      <th>0</th>\n",
              "      <td>Awesome service and fantastic food, the wait s...</td>\n",
              "      <td>5.0</td>\n",
              "      <td>awesome service fantastic food wait staff frie...</td>\n",
              "      <td>Very positive</td>\n",
              "    </tr>\n",
              "    <tr>\n",
              "      <th>1</th>\n",
              "      <td>Seemed pretty pricey to me for what you got......</td>\n",
              "      <td>2.0</td>\n",
              "      <td>seemed pretty pricey got burgers tasted pretty...</td>\n",
              "      <td>Negative</td>\n",
              "    </tr>\n",
              "    <tr>\n",
              "      <th>2</th>\n",
              "      <td>We TRIED to go to the buffet on Tuesday eve fo...</td>\n",
              "      <td>1.0</td>\n",
              "      <td>tried go buffet tuesday eve dinner found close...</td>\n",
              "      <td>Very negative</td>\n",
              "    </tr>\n",
              "    <tr>\n",
              "      <th>3</th>\n",
              "      <td>Came here for lunch on my 20th birthday and th...</td>\n",
              "      <td>5.0</td>\n",
              "      <td>came lunch th birthday gave us free dessert si...</td>\n",
              "      <td>Very positive</td>\n",
              "    </tr>\n",
              "    <tr>\n",
              "      <th>4</th>\n",
              "      <td>Amazing treats - I love their cinnamon roll, c...</td>\n",
              "      <td>5.0</td>\n",
              "      <td>amazing treats love cinnamon roll cupcakes ice...</td>\n",
              "      <td>Very positive</td>\n",
              "    </tr>\n",
              "  </tbody>\n",
              "</table>\n",
              "</div>"
            ],
            "text/plain": [
              "                                              review  ...      sentiment\n",
              "0  Awesome service and fantastic food, the wait s...  ...  Very positive\n",
              "1  Seemed pretty pricey to me for what you got......  ...       Negative\n",
              "2  We TRIED to go to the buffet on Tuesday eve fo...  ...  Very negative\n",
              "3  Came here for lunch on my 20th birthday and th...  ...  Very positive\n",
              "4  Amazing treats - I love their cinnamon roll, c...  ...  Very positive\n",
              "\n",
              "[5 rows x 4 columns]"
            ]
          },
          "metadata": {
            "tags": []
          },
          "execution_count": 90
        }
      ]
    },
    {
      "cell_type": "code",
      "metadata": {
        "colab": {
          "base_uri": "https://localhost:8080/"
        },
        "id": "DJYz5G-rE8kV",
        "outputId": "e0855e1b-668b-4a2f-d382-1650cc0771cd"
      },
      "source": [
        "#SVM \n",
        "import sklearn\n",
        "from sklearn.model_selection import train_test_split\n",
        "from sklearn.feature_extraction.text import CountVectorizer, TfidfTransformer\n",
        "from sklearn.linear_model import SGDClassifier\n",
        "from sklearn.pipeline import Pipeline\n",
        "train, test = sklearn.model_selection.train_test_split(input_df, train_size=0.8, test_size=0.2)\n",
        "svm_pipeline = Pipeline([('vect', CountVectorizer()),('tfidf', TfidfTransformer()),('clf', SGDClassifier( max_iter=100,learning_rate='optimal'))])\n",
        "svm = svm_pipeline.fit(train['cleaned text review'], train['sentiment'])\n",
        "test['SVM_predicted sentiment'] = svm.predict(test['cleaned text review'])\n",
        "from sklearn.metrics import f1_score, accuracy_score, precision_score, recall_score\n",
        "print(\"Results for first supervised learning algorithm, SVM: \"'\\n')\n",
        "print(test[['review', 'sentiment', 'SVM_predicted sentiment']].head(5))\n",
        "svm_accuracy = accuracy_score(test['sentiment'], test['SVM_predicted sentiment'])*100\n",
        "svm_precision = precision_score(test['sentiment'], test['SVM_predicted sentiment'], average='macro')\n",
        "svm_recall = recall_score(test['sentiment'], test['SVM_predicted sentiment'], average='macro')\n",
        "svm_f1 = f1_score(test['sentiment'], test['SVM_predicted sentiment'], average='macro')\n",
        "\n",
        "print('\\n', 'The accuracy of the TFIDF-based SVM sentiment identification is:', svm_accuracy)\n",
        "print('The precision score of the TFIDF-based SVM sentiment identification is:', svm_precision)\n",
        "print('The recall score of the TFIDF-based SVM sentiment identification is:', svm_recall)\n",
        "print('The f1-score of the TFIDF-based SVM sentiment identification is:', svm_f1)"
      ],
      "execution_count": null,
      "outputs": [
        {
          "output_type": "stream",
          "text": [
            "/usr/local/lib/python3.6/dist-packages/ipykernel_launcher.py:10: SettingWithCopyWarning: \n",
            "A value is trying to be set on a copy of a slice from a DataFrame.\n",
            "Try using .loc[row_indexer,col_indexer] = value instead\n",
            "\n",
            "See the caveats in the documentation: https://pandas.pydata.org/pandas-docs/stable/user_guide/indexing.html#returning-a-view-versus-a-copy\n",
            "  # Remove the CWD from sys.path while we load stuff.\n"
          ],
          "name": "stderr"
        },
        {
          "output_type": "stream",
          "text": [
            "Results for first supervised learning algorithm, SVM: \n",
            "\n",
            "                                                   review  ... SVM_predicted sentiment\n",
            "218848  I am a fan of Beer Express because of their se...  ...           Very positive\n",
            "398884  I've given this place numerous tries because t...  ...           Very negative\n",
            "313014  This Place is the best!\\n\\nHigh quality meats....  ...           Very positive\n",
            "145799  Went to Euro nails on Friday after my sister f...  ...           Very positive\n",
            "196443  We came here last night for a late supper and ...  ...                Positive\n",
            "\n",
            "[5 rows x 3 columns]\n",
            "\n",
            " The accuracy of the TFIDF-based SVM sentiment identification is: 61.925\n",
            "The precision score of the TFIDF-based SVM sentiment identification is: 0.5331333804040859\n",
            "The recall score of the TFIDF-based SVM sentiment identification is: 0.4606307465296361\n",
            "The f1-score of the TFIDF-based SVM sentiment identification is: 0.4382381269146757\n"
          ],
          "name": "stdout"
        }
      ]
    },
    {
      "cell_type": "code",
      "metadata": {
        "colab": {
          "base_uri": "https://localhost:8080/"
        },
        "id": "5xzg35q9H-RE",
        "outputId": "de050042-25ed-4f3c-befb-8314bf25e369"
      },
      "source": [
        "from sklearn.naive_bayes import MultinomialNB\n",
        "nb_pipeline = Pipeline([('vect', CountVectorizer()),('tfidf', TfidfTransformer()),('clf', MultinomialNB())])\n",
        "nb = nb_pipeline.fit(train['cleaned text review'], train['sentiment'])\n",
        "test['NB_predicted sentiment'] = nb.predict(test['cleaned text review'])\n",
        "print(\"Results for second supervised learning algorithm,Naive Bayes :\", '\\n')\n",
        "print(test[['review', 'sentiment', 'NB_predicted sentiment']].head(5))\n",
        "NB_accuracy = accuracy_score(test['sentiment'], test['NB_predicted sentiment'])*100\n",
        "NB_f1 = f1_score(test['sentiment'], test['NB_predicted sentiment'], average='macro')\n",
        "NB_precision = precision_score(test['sentiment'], test['NB_predicted sentiment'], average='macro')\n",
        "NB_recall = recall_score(test['sentiment'], test['NB_predicted sentiment'], average='macro')\n",
        "\n",
        "print('The accuracy of the TFIDF-based Naive Bayes sentiment identification is:', NB_accuracy)\n",
        "print('The precision score of the TFIDF-based Naive Bayes sentiment identification is:', NB_precision)\n",
        "print('The recall score of the TFIDF-based Naive Bayes sentiment identification is:', NB_recall)\n",
        "print('The f1-score of the TFIDF-based Naive Bayes sentiment identification is:', NB_f1)"
      ],
      "execution_count": null,
      "outputs": [
        {
          "output_type": "stream",
          "text": [
            "/usr/local/lib/python3.6/dist-packages/ipykernel_launcher.py:4: SettingWithCopyWarning: \n",
            "A value is trying to be set on a copy of a slice from a DataFrame.\n",
            "Try using .loc[row_indexer,col_indexer] = value instead\n",
            "\n",
            "See the caveats in the documentation: https://pandas.pydata.org/pandas-docs/stable/user_guide/indexing.html#returning-a-view-versus-a-copy\n",
            "  after removing the cwd from sys.path.\n"
          ],
          "name": "stderr"
        },
        {
          "output_type": "stream",
          "text": [
            "Results for second supervised learning algorithm,Naive Bayes : \n",
            "\n",
            "                                                   review  ... NB_predicted sentiment\n",
            "218848  I am a fan of Beer Express because of their se...  ...          Very positive\n",
            "398884  I've given this place numerous tries because t...  ...          Very positive\n",
            "313014  This Place is the best!\\n\\nHigh quality meats....  ...          Very positive\n",
            "145799  Went to Euro nails on Friday after my sister f...  ...          Very positive\n",
            "196443  We came here last night for a late supper and ...  ...          Very positive\n",
            "\n",
            "[5 rows x 3 columns]\n",
            "The accuracy of the TFIDF-based Naive Bayes sentiment identification is: 56.774\n",
            "The precision score of the TFIDF-based Naive Bayes sentiment identification is: 0.46440150565373395\n",
            "The recall score of the TFIDF-based Naive Bayes sentiment identification is: 0.37244025511316664\n",
            "The f1-score of the TFIDF-based Naive Bayes sentiment identification is: 0.3425739130327179\n"
          ],
          "name": "stdout"
        }
      ]
    },
    {
      "cell_type": "code",
      "metadata": {
        "id": "Fc5JNlEoMOgp"
      },
      "source": [
        ""
      ],
      "execution_count": null,
      "outputs": []
    }
  ]
}